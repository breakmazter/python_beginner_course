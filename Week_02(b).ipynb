{
 "cells": [
  {
   "cell_type": "markdown",
   "id": "288a7c61",
   "metadata": {},
   "source": [
    "## Область видимости переменных"
   ]
  },
  {
   "cell_type": "markdown",
   "id": "cd76cbb0",
   "metadata": {},
   "source": [
    "Область видимости или scope определяет контекст переменной, в рамках которого ее можно использовать. В Python есть два типа контекста: глобальный и локальный.\n",
    "\n",
    "Глобальный контекст подразумевает, что переменная является глобальной, она определена вне любой из функций и доступна любой функции в программе. Например:"
   ]
  },
  {
   "cell_type": "code",
   "execution_count": 1,
   "id": "424c3cea",
   "metadata": {},
   "outputs": [
    {
     "name": "stdout",
     "output_type": "stream",
     "text": [
      "pavlikpavlikpavlikpavlikpavlikpavlikpavlikpavlikpavlikpavlikpavlikpavlikpavlikpavlikpavlikpavlikpavlikpavlikpavlikpavlikpavlikpavlikpavlik\n",
      "Dab dabDab dabDab dabDab dabDab dabDab dabDab dabDab dabDab dabDab dabDab dabDab dabDab dabDab dabDab dabDab dabDab dabDab dabDab dabDab dab\n",
      "23\n",
      "sd sd sdsd sd sdsd sd sdsd sd sdsd sd sdsd sd sdsd sd sdsd sd sdsd sd sdsd sd sd\n"
     ]
    }
   ],
   "source": [
    "count = 20\n",
    "age = 23\n",
    "name = 'pavlik'\n",
    "\n",
    "print(age * name)\n",
    " \n",
    "def first_func():\n",
    "    print(count * 'Dab dab')\n",
    "    print(age)\n",
    " \n",
    " \n",
    "def second_func():\n",
    "    print(int(count / 2) * 'sd sd sd')\n",
    "    \n",
    "    \n",
    "first_func()\n",
    "second_func()"
   ]
  },
  {
   "cell_type": "markdown",
   "id": "f41b0425",
   "metadata": {},
   "source": [
    "Здесь переменная count является глобальной и имеет глобальную область видимости. И обе определенные здесь функции могут свободно ее использовать.\n",
    "\n",
    "В отличие от глобальных переменных локальная переменная определяется внутри функции и доступна только из этой функции, то есть имеет локальную область видимости:"
   ]
  },
  {
   "cell_type": "code",
   "execution_count": 4,
   "id": "13561fa2",
   "metadata": {},
   "outputs": [
    {
     "name": "stdout",
     "output_type": "stream",
     "text": [
      "Hello Sam Johnson\n",
      "pavlik\n"
     ]
    },
    {
     "ename": "NameError",
     "evalue": "name 'surname' is not defined",
     "output_type": "error",
     "traceback": [
      "\u001B[0;31m---------------------------------------------------------------------------\u001B[0m",
      "\u001B[0;31mNameError\u001B[0m                                 Traceback (most recent call last)",
      "\u001B[0;32m/tmp/ipykernel_10689/3780213719.py\u001B[0m in \u001B[0;36m<module>\u001B[0;34m\u001B[0m\n\u001B[1;32m     13\u001B[0m \u001B[0msay_hi\u001B[0m\u001B[0;34m(\u001B[0m\u001B[0;34m)\u001B[0m\u001B[0;34m\u001B[0m\u001B[0;34m\u001B[0m\u001B[0m\n\u001B[1;32m     14\u001B[0m \u001B[0mprint\u001B[0m\u001B[0;34m(\u001B[0m\u001B[0mname\u001B[0m\u001B[0;34m)\u001B[0m\u001B[0;34m\u001B[0m\u001B[0;34m\u001B[0m\u001B[0m\n\u001B[0;32m---> 15\u001B[0;31m \u001B[0msay_bye\u001B[0m\u001B[0;34m(\u001B[0m\u001B[0;34m)\u001B[0m\u001B[0;34m\u001B[0m\u001B[0;34m\u001B[0m\u001B[0m\n\u001B[0m",
      "\u001B[0;32m/tmp/ipykernel_10689/3780213719.py\u001B[0m in \u001B[0;36msay_bye\u001B[0;34m()\u001B[0m\n\u001B[1;32m      9\u001B[0m     \u001B[0mname\u001B[0m \u001B[0;34m=\u001B[0m \u001B[0;34m\"Tom\"\u001B[0m\u001B[0;34m\u001B[0m\u001B[0;34m\u001B[0m\u001B[0m\n\u001B[1;32m     10\u001B[0m \u001B[0;34m\u001B[0m\u001B[0m\n\u001B[0;32m---> 11\u001B[0;31m     \u001B[0mprint\u001B[0m\u001B[0;34m(\u001B[0m\u001B[0;34m\"Good bye\"\u001B[0m\u001B[0;34m,\u001B[0m \u001B[0mname\u001B[0m\u001B[0;34m,\u001B[0m \u001B[0msurname\u001B[0m\u001B[0;34m)\u001B[0m\u001B[0;34m\u001B[0m\u001B[0;34m\u001B[0m\u001B[0m\n\u001B[0m\u001B[1;32m     12\u001B[0m \u001B[0;34m\u001B[0m\u001B[0m\n\u001B[1;32m     13\u001B[0m \u001B[0msay_hi\u001B[0m\u001B[0;34m(\u001B[0m\u001B[0;34m)\u001B[0m\u001B[0;34m\u001B[0m\u001B[0;34m\u001B[0m\u001B[0m\n",
      "\u001B[0;31mNameError\u001B[0m: name 'surname' is not defined"
     ]
    }
   ],
   "source": [
    "def say_hi():\n",
    "    name = \"Sam\"\n",
    "    surname = \"Johnson\"\n",
    "    \n",
    "    print(\"Hello\", name, surname)\n",
    " \n",
    " \n",
    "def say_bye():\n",
    "    name = \"Tom\"\n",
    "    \n",
    "    print(\"Good bye\", name, surname)\n",
    "    \n",
    "say_hi()\n",
    "print(name)\n",
    "say_bye()"
   ]
  },
  {
   "cell_type": "markdown",
   "id": "af3f206e",
   "metadata": {},
   "source": [
    "В данном случае в каждой из двух функций определяется локальная переменная name. И хотя эти переменные называются одинаково, но тем не менее это дву разных переменных, каждая из которых доступна только в рамках своей функции. Также в функции say_hi определена переменная surname, которая также является локальной, поэтому в функции say_bye мы ее использовать не сможем.\n",
    "\n",
    "Есть еще один вариант определения переменной, когда локальная переменная скрывают глобальную с тем же именем:"
   ]
  },
  {
   "cell_type": "code",
   "execution_count": 6,
   "id": "b5abdb97",
   "metadata": {
    "scrolled": true
   },
   "outputs": [
    {
     "name": "stdout",
     "output_type": "stream",
     "text": [
      "Hello Tom\n",
      "Tom\n",
      "Good bye Bob\n",
      "Bob\n"
     ]
    }
   ],
   "source": [
    "name = \"Tom\"\n",
    " \n",
    "def say_hi():\n",
    "    print(\"Hello\", name)\n",
    " \n",
    " \n",
    "def say_bye():\n",
    "    global name\n",
    "    name = \"Bob\"\n",
    "    print(\"Good bye\", name)\n",
    "    \n",
    "    \n",
    "    \n",
    "say_hi()  # Hello Tom\n",
    "\n",
    "print(name)\n",
    "\n",
    "say_bye()  # Good bye Bob\n",
    "\n",
    "print(name)"
   ]
  },
  {
   "cell_type": "markdown",
   "id": "7d67681f",
   "metadata": {},
   "source": [
    "Здесь определена глобальная переменная name. Однако в функции say_bye определена локальная переменная с тем же именем name. И если функция say_hi использует глобальную переменную, то функция say_bye использует локальную переменную, которая скрывает глобальную.\n",
    "\n",
    "Если же мы хотим изменить в локальной функции глобальную переменную, а не определить локальную, то необходимо использовать ключевое слово global:"
   ]
  },
  {
   "cell_type": "code",
   "execution_count": null,
   "id": "87bfda87",
   "metadata": {},
   "outputs": [],
   "source": [
    "def say_bye():\n",
    "    global name\n",
    "    name = \"Bob\"\n",
    "    print(\"Good bye\", name)"
   ]
  },
  {
   "cell_type": "markdown",
   "id": "5eb5129f",
   "metadata": {},
   "source": [
    "В Python, как и во многих других языках программирования, не рекомендуется использовать глобальные переменные. Единственной допустимой практикой является определение небольшого числа глобальных констант, которые не изменяются в процессе работы программы."
   ]
  },
  {
   "cell_type": "code",
   "execution_count": 7,
   "id": "3364d449",
   "metadata": {},
   "outputs": [
    {
     "name": "stdout",
     "output_type": "stream",
     "text": [
      "Площадь круга с радиусом 50 равна 7850.0\n"
     ]
    }
   ],
   "source": [
    "PI = 3.14\n",
    "\n",
    "MAIN_URL = 'https://red'\n",
    " \n",
    "# вычисление площади круга\n",
    "def get_circle_square(radius):\n",
    " \n",
    "    print(\"Площадь круга с радиусом\", radius, \"равна\", PI * radius * radius)\n",
    "\n",
    "get_circle_square(50)"
   ]
  },
  {
   "cell_type": "code",
   "execution_count": 9,
   "id": "ed540ed5",
   "metadata": {},
   "outputs": [
    {
     "name": "stdout",
     "output_type": "stream",
     "text": [
      "3.14 https://red\n",
      "3 \n"
     ]
    }
   ],
   "source": [
    "PI = 3.14\n",
    "\n",
    "MAIN_URL = 'https://red'\n",
    "\n",
    "print(PI, MAIN_URL)\n",
    "\n",
    "PI = 3\n",
    "\n",
    "MAIN_URL = ''\n",
    "\n",
    "print(PI, MAIN_URL)"
   ]
  },
  {
   "cell_type": "markdown",
   "id": "0721b612",
   "metadata": {},
   "source": [
    "В данном случае число 3.14 представлено константой PI. Понятно, что это значение в принципе не изменится, поэтому его можно вынести из функций и определить в виде константы. Как правило, имя константы определяется заглавными буквами."
   ]
  },
  {
   "cell_type": "code",
   "execution_count": null,
   "id": "9ae27ad4",
   "metadata": {},
   "outputs": [],
   "source": []
  },
  {
   "cell_type": "markdown",
   "id": "5e9fcf26",
   "metadata": {},
   "source": [
    "## Обработка исключений"
   ]
  },
  {
   "cell_type": "markdown",
   "id": "eb56f600",
   "metadata": {},
   "source": [
    "При программировании на Python мы можем столкнуться с двумя типами ошибок. Первый тип представляют синтаксические ошибки (syntax error). Они появляются в результате нарушения синтаксиса языка программирования при написании исходного кода. При наличии таких ошибок программа не может быть скомпилирована. При работе в какой-либо среде разработки, например, в PyCharm, IDE сама может отслеживать синтаксические ошибки и каким-либо образом их выделять.\n",
    "\n",
    "Второй тип ошибок представляют ошибки выполнения (runtime error). Они появляются в уже скомпилированной программе в процессе ее выполнения. Подобные ошибки еще называются исключениями. Например, в прошлых темах мы рассматривали преобразование числа в строку:"
   ]
  },
  {
   "cell_type": "code",
   "execution_count": 10,
   "id": "6c72013e",
   "metadata": {},
   "outputs": [
    {
     "name": "stdout",
     "output_type": "stream",
     "text": [
      "5\n"
     ]
    }
   ],
   "source": [
    "string = \"5\"\n",
    "number = int(string)\n",
    "print(number)"
   ]
  },
  {
   "cell_type": "markdown",
   "id": "f33aef3f",
   "metadata": {},
   "source": [
    "Данный скрипт успешно скомпилируется и выполнится, так как строка \"5\" вполне может быть конвертирована в число. Однако возьмем другой пример:"
   ]
  },
  {
   "cell_type": "code",
   "execution_count": 11,
   "id": "be21376b",
   "metadata": {},
   "outputs": [
    {
     "ename": "ValueError",
     "evalue": "invalid literal for int() with base 10: 'hello'",
     "output_type": "error",
     "traceback": [
      "\u001B[0;31m---------------------------------------------------------------------------\u001B[0m",
      "\u001B[0;31mValueError\u001B[0m                                Traceback (most recent call last)",
      "\u001B[0;32m/tmp/ipykernel_10689/2717775316.py\u001B[0m in \u001B[0;36m<module>\u001B[0;34m\u001B[0m\n\u001B[1;32m      1\u001B[0m \u001B[0mstring\u001B[0m \u001B[0;34m=\u001B[0m \u001B[0;34m\"hello\"\u001B[0m\u001B[0;34m\u001B[0m\u001B[0;34m\u001B[0m\u001B[0m\n\u001B[0;32m----> 2\u001B[0;31m \u001B[0mnumber\u001B[0m \u001B[0;34m=\u001B[0m \u001B[0mint\u001B[0m\u001B[0;34m(\u001B[0m\u001B[0mstring\u001B[0m\u001B[0;34m)\u001B[0m\u001B[0;34m\u001B[0m\u001B[0;34m\u001B[0m\u001B[0m\n\u001B[0m\u001B[1;32m      3\u001B[0m \u001B[0mprint\u001B[0m\u001B[0;34m(\u001B[0m\u001B[0mnumber\u001B[0m\u001B[0;34m)\u001B[0m\u001B[0;34m\u001B[0m\u001B[0;34m\u001B[0m\u001B[0m\n",
      "\u001B[0;31mValueError\u001B[0m: invalid literal for int() with base 10: 'hello'"
     ]
    }
   ],
   "source": [
    "string = \"hello\"\n",
    "number = int(string)\n",
    "print(number)"
   ]
  },
  {
   "cell_type": "markdown",
   "id": "c3196b6d",
   "metadata": {},
   "source": [
    "При выполнении этого скрипта будет выброшено исключение ValueError, так как строку \"hello\" нельзя преобразовать в число. С одной стороны, здесь очевидно, сто строка не представляет число, но мы можем иметь дело с вводом пользователя, который также может ввести не совсем то, что мы ожидаем:"
   ]
  },
  {
   "cell_type": "code",
   "execution_count": 13,
   "id": "27ac4776",
   "metadata": {},
   "outputs": [
    {
     "name": "stdout",
     "output_type": "stream",
     "text": [
      "Введите число: fd\n"
     ]
    },
    {
     "ename": "ValueError",
     "evalue": "invalid literal for int() with base 10: 'fd'",
     "output_type": "error",
     "traceback": [
      "\u001B[0;31m---------------------------------------------------------------------------\u001B[0m",
      "\u001B[0;31mValueError\u001B[0m                                Traceback (most recent call last)",
      "\u001B[0;32m/tmp/ipykernel_10689/3893044690.py\u001B[0m in \u001B[0;36m<module>\u001B[0;34m\u001B[0m\n\u001B[1;32m      1\u001B[0m \u001B[0mstring\u001B[0m \u001B[0;34m=\u001B[0m \u001B[0minput\u001B[0m\u001B[0;34m(\u001B[0m\u001B[0;34m\"Введите число: \"\u001B[0m\u001B[0;34m)\u001B[0m\u001B[0;34m\u001B[0m\u001B[0;34m\u001B[0m\u001B[0m\n\u001B[0;32m----> 2\u001B[0;31m \u001B[0mnumber\u001B[0m \u001B[0;34m=\u001B[0m \u001B[0mint\u001B[0m\u001B[0;34m(\u001B[0m\u001B[0mstring\u001B[0m\u001B[0;34m)\u001B[0m\u001B[0;34m\u001B[0m\u001B[0;34m\u001B[0m\u001B[0m\n\u001B[0m\u001B[1;32m      3\u001B[0m \u001B[0;34m\u001B[0m\u001B[0m\n\u001B[1;32m      4\u001B[0m \u001B[0mprint\u001B[0m\u001B[0;34m(\u001B[0m\u001B[0mnumber\u001B[0m\u001B[0;34m)\u001B[0m\u001B[0;34m\u001B[0m\u001B[0;34m\u001B[0m\u001B[0m\n",
      "\u001B[0;31mValueError\u001B[0m: invalid literal for int() with base 10: 'fd'"
     ]
    }
   ],
   "source": [
    "string = input(\"Введите число: \")\n",
    "number = int(string)\n",
    "\n",
    "print(number)"
   ]
  },
  {
   "cell_type": "markdown",
   "id": "6d4896b4",
   "metadata": {},
   "source": [
    "При возникновении исключения работа программы прерывается, и чтобы избежать подобного поведения и обрабатывать исключения в Python есть конструкция try..except, которая имеет следующее формальное определение:"
   ]
  },
  {
   "cell_type": "code",
   "execution_count": null,
   "id": "ac658f61",
   "metadata": {},
   "outputs": [],
   "source": [
    "try:\n",
    "    инструкции\n",
    "except [Тип_исключения]:\n",
    "    инструкции\n",
    "except [Тип_исключения]:\n",
    "    инструкции"
   ]
  },
  {
   "cell_type": "markdown",
   "id": "68175eeb",
   "metadata": {},
   "source": [
    "Весь основной код, в котором потенциально может возникнуть исключение, помещается после ключевого слова try. Если в этом коде генерируется исключение, то работа кода в блоке try прерывается, и выполнение переходит в блок except.\n",
    "\n",
    "После ключевого слова except опционально можно указать, какое исключение будет обрабатываться (например, ValueError или KeyError). После слова except на следующей стоке идут инструкции блока except, выполняемые при возникновении исключения.\n",
    "\n",
    "Рассмотрим обработку исключения на примере преобразовании строки в число:"
   ]
  },
  {
   "cell_type": "code",
   "execution_count": 14,
   "id": "53999550",
   "metadata": {},
   "outputs": [
    {
     "name": "stdout",
     "output_type": "stream",
     "text": [
      "Введите число: d\n",
      "Преобразование прошло неудачно\n",
      "Завершение программы\n"
     ]
    }
   ],
   "source": [
    "try:\n",
    "    number = int(input(\"Введите число: \"))\n",
    "    print(\"Введенное число:\", number)\n",
    "except:\n",
    "    print(\"Преобразование прошло неудачно\")\n",
    "    \n",
    "print(\"Завершение программы\")"
   ]
  },
  {
   "cell_type": "markdown",
   "id": "003d1604",
   "metadata": {},
   "source": [
    "Теперь все выполняется нормально, исключение не возникает, и соответственно блок except не выполняется.\n",
    "\n",
    "В примере выше обрабатывались сразу все исключения, которые могут возникнуть в коде. Однако мы можем конкретизировать тип обрабатываемого исключения, указав его после слова except:"
   ]
  },
  {
   "cell_type": "code",
   "execution_count": 15,
   "id": "eafa7ec7",
   "metadata": {},
   "outputs": [
    {
     "name": "stdout",
     "output_type": "stream",
     "text": [
      "Введите число: g\n",
      "Преобразование прошло неудачно\n",
      "Завершение программы\n"
     ]
    }
   ],
   "source": [
    "try:\n",
    "    number = int(input(\"Введите число: \"))\n",
    "    print(\"Введенное число:\", number)\n",
    "except ValueError:\n",
    "    print(\"Преобразование прошло неудачно\")\n",
    "    \n",
    "print(\"Завершение программы\")"
   ]
  },
  {
   "cell_type": "markdown",
   "id": "4c5b0e76",
   "metadata": {},
   "source": [
    "Если ситуация такова, что в программе могут быть сгенерированы различные типы исключений, то мы можем их обработать по отдельности, используя дополнительные выражения except:"
   ]
  },
  {
   "cell_type": "code",
   "execution_count": 20,
   "id": "1ada8621",
   "metadata": {},
   "outputs": [
    {
     "name": "stdout",
     "output_type": "stream",
     "text": [
      "Введите первое число: 3\n",
      "Введите второе число: 0\n"
     ]
    },
    {
     "ename": "ZeroDivisionError",
     "evalue": "division by zero",
     "output_type": "error",
     "traceback": [
      "\u001B[0;31m---------------------------------------------------------------------------\u001B[0m",
      "\u001B[0;31mZeroDivisionError\u001B[0m                         Traceback (most recent call last)",
      "\u001B[0;32m/tmp/ipykernel_6583/3241429072.py\u001B[0m in \u001B[0;36m<module>\u001B[0;34m\u001B[0m\n\u001B[1;32m      2\u001B[0m \u001B[0mnumber2\u001B[0m \u001B[0;34m=\u001B[0m \u001B[0mint\u001B[0m\u001B[0;34m(\u001B[0m\u001B[0minput\u001B[0m\u001B[0;34m(\u001B[0m\u001B[0;34m\"Введите второе число: \"\u001B[0m\u001B[0;34m)\u001B[0m\u001B[0;34m)\u001B[0m\u001B[0;34m\u001B[0m\u001B[0;34m\u001B[0m\u001B[0m\n\u001B[1;32m      3\u001B[0m \u001B[0;34m\u001B[0m\u001B[0m\n\u001B[0;32m----> 4\u001B[0;31m \u001B[0mprint\u001B[0m\u001B[0;34m(\u001B[0m\u001B[0;34m\"Результат деления:\"\u001B[0m\u001B[0;34m,\u001B[0m \u001B[0mnumber1\u001B[0m \u001B[0;34m/\u001B[0m \u001B[0mnumber2\u001B[0m\u001B[0;34m)\u001B[0m\u001B[0;34m\u001B[0m\u001B[0;34m\u001B[0m\u001B[0m\n\u001B[0m",
      "\u001B[0;31mZeroDivisionError\u001B[0m: division by zero"
     ]
    }
   ],
   "source": [
    "number1 = int(input(\"Введите первое число: \"))\n",
    "number2 = int(input(\"Введите второе число: \"))\n",
    "    \n",
    "print(\"Результат деления:\", number1 / number2)"
   ]
  },
  {
   "cell_type": "code",
   "execution_count": 19,
   "id": "e1e8d21d",
   "metadata": {},
   "outputs": [
    {
     "name": "stdout",
     "output_type": "stream",
     "text": [
      "Введите первое число: 3\n",
      "Введите второе число: 0\n",
      "Общее исключение\n",
      "Завершение программы\n"
     ]
    }
   ],
   "source": [
    "try:\n",
    "    number1 = int(input(\"Введите первое число: \"))\n",
    "    number2 = int(input(\"Введите второе число: \"))\n",
    "    \n",
    "    print(\"Результат деления:\", number1 / number2)\n",
    "except ValueError:\n",
    "    print(\"Преобразование прошло неудачно\")\n",
    "except ZeroDivisionError:\n",
    "    print(\"Попытка деления числа на ноль\")\n",
    "except Exception:\n",
    "    print(\"Общее исключение\")\n",
    "    \n",
    "print(\"Завершение программы\")"
   ]
  },
  {
   "cell_type": "markdown",
   "id": "dcf01e13",
   "metadata": {},
   "source": [
    "Если возникнет исключение в результате преобразования строки в число, то оно будет обработано блоком except ValueError. Если же второе число будет равно нулю, то есть будет деление на ноль, тогда возникнет исключение ZeroDivisionError, и оно будет обработано блоком except ZeroDivisionError.\n",
    "\n",
    "Тип Exception представляет общее исключение, под которое попадают все исключительные ситуации. Поэтому в данном случае любое исключение, которое не представляет тип ValueError или ZeroDivisionError, будет обработано в блоке except Exception:."
   ]
  },
  {
   "cell_type": "markdown",
   "id": "a3493992",
   "metadata": {},
   "source": [
    "### Блок finally"
   ]
  },
  {
   "cell_type": "markdown",
   "id": "37a3241b",
   "metadata": {},
   "source": [
    "При обработке исключений также можно использовать необязательный блок finally. Отличительной особенностью этого блока является то, что он выполняется вне зависимости, было ли сгенерировано исключение:"
   ]
  },
  {
   "cell_type": "code",
   "execution_count": 21,
   "id": "cc64a5b9",
   "metadata": {},
   "outputs": [
    {
     "name": "stdout",
     "output_type": "stream",
     "text": [
      "Введите число: fsd\n",
      "Не удалось преобразовать число\n",
      "Блок try завершил выполнение\n",
      "Завершение программы\n"
     ]
    }
   ],
   "source": [
    "try:\n",
    "    number = int(input(\"Введите число: \"))\n",
    "    print(\"Введенное число:\", number)\n",
    "except ValueError:\n",
    "    print(\"Не удалось преобразовать число\")\n",
    "finally:\n",
    "    print(\"Блок try завершил выполнение\")\n",
    "    \n",
    "print(\"Завершение программы\")"
   ]
  },
  {
   "cell_type": "markdown",
   "id": "10e12a77",
   "metadata": {},
   "source": [
    "Как правило, блок finally применяется для освобождения используемых ресурсов, например, для закрытия файлов."
   ]
  },
  {
   "cell_type": "markdown",
   "id": "af4ef785",
   "metadata": {},
   "source": [
    "### Получение информации об исключении"
   ]
  },
  {
   "cell_type": "markdown",
   "id": "49887f55",
   "metadata": {},
   "source": [
    "С помощью оператора as мы можем передать всю информацию об исключении в переменную, которую затем можно использовать в блоке except:"
   ]
  },
  {
   "cell_type": "code",
   "execution_count": 22,
   "id": "1966bf97",
   "metadata": {},
   "outputs": [
    {
     "name": "stdout",
     "output_type": "stream",
     "text": [
      "Введите число: ds\n",
      "invalid literal for int() with base 10: 'ds'\n",
      "Завершение программы\n"
     ]
    }
   ],
   "source": [
    "try:\n",
    "    number = int(input(\"Введите число: \"))\n",
    "    print(\"Введенное число:\", number)\n",
    "except Exception as e:\n",
    "    print(e)\n",
    "    \n",
    "print(\"Завершение программы\")"
   ]
  },
  {
   "cell_type": "markdown",
   "id": "0b9e0225",
   "metadata": {},
   "source": [
    "### Генерация исключений"
   ]
  },
  {
   "cell_type": "markdown",
   "id": "8e7b0a42",
   "metadata": {},
   "source": [
    "Иногда возникает необходимость вручную сгенерировать то или иное исключение. Для этого применяется оператор raise."
   ]
  },
  {
   "cell_type": "code",
   "execution_count": 24,
   "id": "d940014b",
   "metadata": {},
   "outputs": [
    {
     "name": "stdout",
     "output_type": "stream",
     "text": [
      "Введите первое число: 3\n",
      "Введите второе число: 0\n",
      "Нельзя приветси к инт\n",
      "Завершение программы\n"
     ]
    }
   ],
   "source": [
    "try:\n",
    "    number1 = input(\"Введите первое число: \")\n",
    "    number2 = input(\"Введите второе число: \")\n",
    "    \n",
    "    if type(number1) != int and type(number2) != int:\n",
    "        raise Exception(\"Нельзя приветси к инт\")\n",
    "    \n",
    "    if number2 == 0:\n",
    "        raise Exception(\"Второе число не должно быть равно 0\")\n",
    "        \n",
    "    print(\"Результат деления двух чисел:\", number1 / number2)\n",
    "except Exception as e:\n",
    "    print(e)\n",
    "    \n",
    "print(\"Завершение программы\")"
   ]
  },
  {
   "cell_type": "markdown",
   "id": "650dc742",
   "metadata": {},
   "source": [
    "При вызове исключения мы можем ему передать сообщение, которое затем можно вывести пользователю:"
   ]
  },
  {
   "cell_type": "markdown",
   "id": "17a33a63",
   "metadata": {},
   "source": [
    "## Работа с файлами"
   ]
  },
  {
   "cell_type": "markdown",
   "id": "305967db",
   "metadata": {},
   "source": [
    "Python поддерживает множество различных типов файлов, но условно их можно разделить на два виде: текстовые и бинарные. Текстовые файлы - это к примеру файлы с расширением cvs, txt, html, в общем любые файлы, которые сохраняют информацию в текстовом виде. Бинарные файлы - это изображения, аудио и видеофайлы и т.д. В зависимости от типа файла работа с ним может немного отличаться.\n",
    "\n",
    "При работе с файлами необходимо соблюдать некоторую последовательность операций:\n",
    "\n",
    "* Открытие файла с помощью метода open()\n",
    "\n",
    "* Чтение файла с помощью метода read() или запись в файл посредством метода write()\n",
    "\n",
    "* Закрытие файла методом close()\n"
   ]
  },
  {
   "cell_type": "markdown",
   "id": "9459c302",
   "metadata": {},
   "source": [
    "### Открытие и закрытие файла\n",
    "\n",
    "Чтобы начать работу с файлом, его надо открыть с помощью функции open(), которая имеет следующее формальное определение:"
   ]
  },
  {
   "cell_type": "code",
   "execution_count": null,
   "id": "5db18b29",
   "metadata": {},
   "outputs": [],
   "source": [
    "open(file, mode)"
   ]
  },
  {
   "cell_type": "markdown",
   "id": "07fa8d18",
   "metadata": {},
   "source": [
    "Первый параметр функции представляет путь к файлу. Путь файла может быть абсолютным, то есть начинаться с буквы диска, например, C://somedir/somefile.txt. Либо можно быть относительным, например, somedir/somefile.txt - в этом случае поиск файла будет идти относительно расположения запущенного скрипта Python.\n",
    "\n",
    "Второй передаваемый аргумент - mode устанавливает режим открытия файла в зависимости от того, что мы собираемся с ним делать. Существует 4 общих режима:\n",
    "\n",
    "* r (Read). Файл открывается для чтения. Если файл не найден, то генерируется исключение FileNotFoundError\n",
    "\n",
    "* w (Write). Файл открывается для записи. Если файл отсутствует, то он создается. Если подобный файл уже есть, то он создается заново, и соответственно старые данные в нем стираются.\n",
    "\n",
    "* a (Append). Файл открывается для дозаписи. Если файл отсутствует, то он создается. Если подобный файл уже есть, то данные записываются в его конец.\n",
    "\n",
    "* b (Binary). Используется для работы с бинарными файлами. Применяется вместе с другими режимами - w или r.\n",
    "\n",
    "После завершения работы с файлом его обязательно нужно закрыть методом close(). Данный метод освободит все связанные с файлом используемые ресурсы.\n",
    "\n",
    "Например, откроем для записи текстовый файл \"hello.txt\":"
   ]
  },
  {
   "cell_type": "code",
   "execution_count": 25,
   "id": "4686c03b",
   "metadata": {},
   "outputs": [],
   "source": [
    "myfile = open(\"hello.txt\", \"w\")\n",
    "\n",
    "\n",
    " \n",
    "myfile.close()"
   ]
  },
  {
   "cell_type": "markdown",
   "id": "59ede748",
   "metadata": {},
   "source": [
    "При открытии файла или в процессе работы с ним мы можем столкнуться с различными исключениями, например, к нему нет доступа и т.д. В этом случае программа выпадет в ошибку, а ее выполнение не дойдет до вызова метода close, и соответственно файл не будет закрыт.\n",
    "\n",
    "В этом случае мы можем обрабатывать исключения:"
   ]
  },
  {
   "cell_type": "code",
   "execution_count": 26,
   "id": "c0b6ba64",
   "metadata": {},
   "outputs": [],
   "source": [
    "try:\n",
    "    somefile = open(\"hello.txt\", \"w\")\n",
    "    try:\n",
    "        somefile.write(\"hello world\")\n",
    "    except Exception as e:\n",
    "        print(e)\n",
    "    finally:\n",
    "        somefile.close()\n",
    "except Exception as ex:\n",
    "    print(ex)"
   ]
  },
  {
   "cell_type": "markdown",
   "id": "880446cf",
   "metadata": {},
   "source": [
    "В данном случае вся работа с файлом идет во вложенном блоке try. И если вдруг возникнет какое-либо исключение, то в любом случае в блоке finally файл будет закрыт.\n",
    "\n",
    "Однако есть и более удобная конструкция - конструкция with:"
   ]
  },
  {
   "cell_type": "code",
   "execution_count": null,
   "id": "b78e1c7f",
   "metadata": {},
   "outputs": [],
   "source": [
    "with open(file, mode) as file_obj:\n",
    "    инструкции"
   ]
  },
  {
   "cell_type": "markdown",
   "id": "3981a38c",
   "metadata": {},
   "source": [
    "\n",
    "\n",
    "Эта конструкция определяет для открытого файла переменную file_obj и выполняет набор инструкций. После их выполнения файл автоматически закрывается. Даже если при выполнении инструкций в блоке with возникнут какие-либо исключения, то файл все равно закрывается.\n",
    "\n",
    "Так, перепишем предыдущий пример:"
   ]
  },
  {
   "cell_type": "code",
   "execution_count": 27,
   "id": "510a587c",
   "metadata": {},
   "outputs": [],
   "source": [
    "with open(\"hello.txt\", \"w\") as somefile:\n",
    "    somefile.write(\"hello world\")"
   ]
  },
  {
   "cell_type": "markdown",
   "id": "d45bab0f",
   "metadata": {},
   "source": [
    "### Запись в текстовый файл\n",
    "\n",
    "Чтобы открыть текстовый файл на запись, необходимо применить режим w (перезапись) или a (дозапись). Затем для записи применяется метод write(str), в который передается записываемая строка. Стоит отметить, что записывается именно строка, поэтому, если нужно записать числа, данные других типов, то их предварительно нужно конвертировать в строку.\n",
    "\n",
    "Запишем некоторую информацию в файл \"hello.txt\":"
   ]
  },
  {
   "cell_type": "code",
   "execution_count": 30,
   "id": "0ab06034",
   "metadata": {},
   "outputs": [],
   "source": [
    "with open(\"hello.txt\", \"w\") as file:\n",
    "    file.write(\"hello red\")"
   ]
  },
  {
   "cell_type": "markdown",
   "id": "fbabe87f",
   "metadata": {},
   "source": [
    "Если мы откроем папку, в которой находится текущий скрипт Python, то увидем там файл hello.txt. Этот файл можно открыть в любом текстовом редакторе и при желании изменить.\n",
    "\n",
    "Теперь дозапишем в этот файл еще одну строку:"
   ]
  },
  {
   "cell_type": "code",
   "execution_count": 31,
   "id": "27208970",
   "metadata": {},
   "outputs": [],
   "source": [
    "with open(\"hello.txt\", \"a\") as file:\n",
    "    file.write(\"\\ngood bye, world\")"
   ]
  },
  {
   "cell_type": "markdown",
   "id": "e4a717d6",
   "metadata": {},
   "source": [
    "Дозапись выглядит как добавление строку к последнему символу в файле, поэтому, если необходимо сделать запись с новой строки, то можно использовать эскейп-последовательность \"\\n\"."
   ]
  },
  {
   "cell_type": "markdown",
   "id": "8134cf63",
   "metadata": {},
   "source": [
    "Еще один способ записи в файл представляет стандартный метод print(), который применяется для вывода данных на консоль:"
   ]
  },
  {
   "cell_type": "code",
   "execution_count": 34,
   "id": "de8f00bc",
   "metadata": {},
   "outputs": [],
   "source": [
    "with open(\"hello.txt\", \"a\") as hello_file:\n",
    "    print(\"Hello, world\", file=hello_file)"
   ]
  },
  {
   "cell_type": "markdown",
   "id": "2fbe3e9b",
   "metadata": {},
   "source": [
    "Для вывода данных в файл в метод print в качестве второго параметра передается название файла через параметр file. А первый параметр представляет записываемую в файл строку."
   ]
  },
  {
   "cell_type": "markdown",
   "id": "260ed2be",
   "metadata": {},
   "source": [
    "### Чтение файла\n",
    "\n",
    "Для чтения файла он открывается с режимом r (Read), и затем мы можем считать его содержимое различными методами:\n",
    "\n",
    "   * readline(): считывает одну строку из файла\n",
    "\n",
    "   * read(): считывает все содержимое файла в одну строку\n",
    "\n",
    "   * readlines(): считывает все строки файла в список\n",
    "\n",
    "Например, считаем выше записанный файл построчно:"
   ]
  },
  {
   "cell_type": "code",
   "execution_count": 37,
   "id": "45155ba2",
   "metadata": {},
   "outputs": [
    {
     "name": "stdout",
     "output_type": "stream",
     "text": [
      "hello red\n",
      "good bye, worldHello, world\n",
      "Hello, world\n",
      "Hello, world\n"
     ]
    }
   ],
   "source": [
    "with open(\"hello.txt\", \"r\") as file:\n",
    "    for line in file:\n",
    "        print(line, end='')"
   ]
  },
  {
   "cell_type": "markdown",
   "id": "ce8485f6",
   "metadata": {},
   "source": [
    "Несмотря на то, что мы явно не применяем метод readline() для чтения каждой строки, но в при переборе файла этот метод автоматически вызывается для получения каждой новой строки. Поэтому в цикле вручную нет смысла вызывать метод readline. И поскольку строки разделяются символом перевода строки \"\\n\", то чтобы исключить излишнего переноса на другую строку в функцию print передается значение end=\"\".\n",
    "\n",
    "Теперь явным образом вызовем метод readline() для чтения отдельных строк:"
   ]
  },
  {
   "cell_type": "code",
   "execution_count": 39,
   "id": "e4355c21",
   "metadata": {},
   "outputs": [
    {
     "name": "stdout",
     "output_type": "stream",
     "text": [
      "hello red\n",
      "good bye, worldHello, world\n",
      "\n",
      "Hello, world\n",
      "\n",
      "Hello, world\n",
      "\n",
      "\n"
     ]
    }
   ],
   "source": [
    "with open(\"hello.txt\", \"r\") as file:\n",
    "    str1 = file.readline()\n",
    "    print(str1, end=\"\")\n",
    "    str2 = file.readline()\n",
    "    print(str2)"
   ]
  },
  {
   "cell_type": "markdown",
   "id": "8c6c1f11",
   "metadata": {},
   "source": [
    "Метод readline можно использовать для построчного считывания файла в цикле while:"
   ]
  },
  {
   "cell_type": "code",
   "execution_count": 40,
   "id": "1db33f3e",
   "metadata": {},
   "outputs": [
    {
     "name": "stdout",
     "output_type": "stream",
     "text": [
      "hello red\n",
      "good bye, worldHello, world\n",
      "Hello, world\n",
      "Hello, world\n"
     ]
    }
   ],
   "source": [
    "with open(\"hello.txt\", \"r\") as file:\n",
    "    line = file.readline()\n",
    "    while line:\n",
    "        print(line, end=\"\")\n",
    "        line = file.readline()"
   ]
  },
  {
   "cell_type": "markdown",
   "id": "cc7c0da2",
   "metadata": {},
   "source": [
    "Если файл небольшой, то его можно разом считать с помощью метода read():"
   ]
  },
  {
   "cell_type": "code",
   "execution_count": 41,
   "id": "1ab08add",
   "metadata": {},
   "outputs": [
    {
     "name": "stdout",
     "output_type": "stream",
     "text": [
      "hello red\n",
      "good bye, worldHello, world\n",
      "Hello, world\n",
      "Hello, world\n",
      "\n"
     ]
    }
   ],
   "source": [
    "with open(\"hello.txt\", \"r\") as file:\n",
    "    content = file.read()\n",
    "    print(content)"
   ]
  },
  {
   "cell_type": "markdown",
   "id": "f02df95d",
   "metadata": {},
   "source": [
    "И также применим метод readlines() для считывания всего файла в список строк:"
   ]
  },
  {
   "cell_type": "code",
   "execution_count": 42,
   "id": "3b88516b",
   "metadata": {},
   "outputs": [
    {
     "name": "stdout",
     "output_type": "stream",
     "text": [
      "hello red\n",
      "good bye, worldHello, world\n",
      "\n"
     ]
    }
   ],
   "source": [
    "with open(\"hello.txt\", \"r\") as file:\n",
    "    contents = file.readlines()\n",
    "    str1 = contents[0]\n",
    "    str2 = contents[1]\n",
    "    print(str1, end=\"\")\n",
    "    print(str2)"
   ]
  },
  {
   "cell_type": "markdown",
   "id": "e5740f31",
   "metadata": {},
   "source": [
    "При чтении файла мы можем столкнуться с тем, что его кодировка не совпадает с ASCII. В этом случае мы явным образом можем указать кодировку с помощью параметра encoding:"
   ]
  },
  {
   "cell_type": "code",
   "execution_count": 43,
   "id": "18a75b53",
   "metadata": {},
   "outputs": [],
   "source": [
    "filename = \"hello.txt\"\n",
    "with open(filename, encoding=\"utf8\") as file:\n",
    "    text = file.read()"
   ]
  },
  {
   "cell_type": "markdown",
   "id": "235cb212",
   "metadata": {},
   "source": [
    "Теперь напишем небольшой скрипт, в котором будет записывать введенный пользователем массив строк и считывать его обратно из файла на консоль:"
   ]
  },
  {
   "cell_type": "code",
   "execution_count": 46,
   "id": "df081c96",
   "metadata": {},
   "outputs": [
    {
     "name": "stdout",
     "output_type": "stream",
     "text": [
      "Введите строку 1: dsafdsf\n",
      "Введите строку 2: df\n",
      "Введите строку 3: fadsfsd\n",
      "Введите строку 4: fsafsd\n",
      "Считанные сообщения\n",
      "['trefdf\\n', 'fsddsf\\n', 'asfdsfsd\\n', 'fdsfdfds\\n', 'dsafdsf\\n', 'df\\n', 'fadsfsd\\n', 'fsafsd\\n']\n"
     ]
    }
   ],
   "source": [
    "# имя файла\n",
    "FILENAME = \"messages.txt\"\n",
    "# определяем пустой список\n",
    "messages = list()\n",
    " \n",
    "for i in range(4):\n",
    "    message = input(\"Введите строку \" + str(i+1) + \": \")\n",
    "    messages.append(message + \"\\n\")\n",
    "\n",
    "# запись списка в файл\n",
    "with open(FILENAME, \"a\") as file:\n",
    "    file.writelines(messages)\n",
    "\n",
    "# считываем сообщения из файла\n",
    "print(\"Считанные сообщения\")\n",
    "with open(FILENAME, \"r\") as file:\n",
    "    a = file.readlines()\n",
    "    print(a)"
   ]
  },
  {
   "cell_type": "code",
   "execution_count": null,
   "id": "1476352d",
   "metadata": {},
   "outputs": [],
   "source": []
  },
  {
   "cell_type": "markdown",
   "id": "5fa28faa",
   "metadata": {},
   "source": [
    "### Файлы CSV\n",
    "Одним из распространенных файловых форматов, которые хранят в удобном виде информацию, является формат csv. Каждая строка в файле csv представляет отдельную запись или строку, которая состоит из отдельных столбцов, разделенных запятыми. Собственно поэтому формат и называется Comma Separated Values. Но хотя формат csv - это формат текстовых файлов, Python для упрощения работы с ним предоставляет специальный встроенный модуль csv.\n",
    "\n",
    "Рассмотрим работу модуля на примере:"
   ]
  },
  {
   "cell_type": "code",
   "execution_count": 48,
   "id": "f53075c1",
   "metadata": {},
   "outputs": [],
   "source": [
    "import csv\n",
    " \n",
    "FILENAME = \"users.csv\"\n",
    " \n",
    "users = [\n",
    "    [\"Tom\", 28, 'red'],\n",
    "    [\"Alice\", 23, 'dss'],\n",
    "    [\"Bob\", 34, 'sddsds']\n",
    "]\n",
    " \n",
    "with open(FILENAME, \"w\", newline=\"\") as file:\n",
    "    writer = csv.writer(file)\n",
    "    writer.writerows(users)\n",
    "     \n",
    "\n",
    "with open(FILENAME, \"a\", newline=\"\") as file:\n",
    "    user = [\"Sam\", 31, 'dsdsds']\n",
    "    writer = csv.writer(file)\n",
    "    writer.writerow(user)"
   ]
  },
  {
   "cell_type": "markdown",
   "id": "59eb48a3",
   "metadata": {},
   "source": [
    "В файл записывается двухмерный список - фактически таблица, где каждая строка представляет одного пользователя. А каждый пользователь содержит два поля - имя и возраст. То есть фактически таблица из трех строк и двух столбцов.\n",
    "\n",
    "При открытии файла на запись в качестве третьего параметра указывается значение newline=\"\" - пустая строка позволяет корректно считывать строки из файла вне зависимости от операционной системы.\n",
    "\n",
    "Для записи нам надо получить объект writer, который возвращается функцией csv.writer(file). В эту функцию передается открытый файл. А собственно запись производится с помощью метода writer.writerows(users) Этот метод принимает набор строк. В нашем случае это двухмерный список.\n",
    "\n",
    "Если необходимо добавить одну запись, которая представляет собой одномерный список, например, [\"Sam\", 31], то в этом случае можно вызвать метод writer.writerow(user)\n"
   ]
  },
  {
   "cell_type": "markdown",
   "id": "620b135e",
   "metadata": {},
   "source": [
    "Для чтения из файла нам наоборот нужно создать объект reader:"
   ]
  },
  {
   "cell_type": "code",
   "execution_count": 49,
   "id": "536b2a26",
   "metadata": {},
   "outputs": [
    {
     "name": "stdout",
     "output_type": "stream",
     "text": [
      "Tom  -  28\n",
      "Alice  -  23\n",
      "Bob  -  34\n",
      "Sam  -  31\n"
     ]
    }
   ],
   "source": [
    "import csv\n",
    " \n",
    "FILENAME = \"users.csv\"\n",
    " \n",
    "with open(FILENAME, \"r\", newline=\"\") as file:\n",
    "    reader = csv.reader(file)\n",
    "    for row in reader:\n",
    "        print(row[0], \" - \", row[1])"
   ]
  },
  {
   "cell_type": "markdown",
   "id": "cc3a9d56",
   "metadata": {},
   "source": [
    "При получении объекта reader мы можем в цикле перебрать все его строки:"
   ]
  },
  {
   "cell_type": "markdown",
   "id": "e0892787",
   "metadata": {},
   "source": [
    "### Работа со словарями\n",
    "\n",
    "В примере выше каждая запись или строка представляла собой отдельный список, например, [\"Sam\", 31]. Но кроме того, модуль csv имеет специальные дополнительные возможности для работы со словарями. В частности, функция csv.DictWriter() возвращает объект writer, который позволяет записывать в файл. А функция csv.DictReader() возвращает объект reader для чтения из файла. Например:"
   ]
  },
  {
   "cell_type": "code",
   "execution_count": 50,
   "id": "e327f161",
   "metadata": {},
   "outputs": [
    {
     "name": "stdout",
     "output_type": "stream",
     "text": [
      "Tom - 28\n",
      "Alice - 23\n",
      "Bob - 34\n",
      "Sam - 41\n"
     ]
    }
   ],
   "source": [
    "import csv\n",
    " \n",
    "FILENAME = \"users.csv\"\n",
    " \n",
    "users = [\n",
    "    {\"age\": 28, \"name\": \"Tom\"},\n",
    "    {\"name\": \"Alice\", \"age\": 23},\n",
    "    {\"name\": \"Bob\", \"age\": 34}\n",
    "]\n",
    " \n",
    "with open(FILENAME, \"w\", newline=\"\") as file:\n",
    "    columns = [\"name\", \"age\"]\n",
    "    writer = csv.DictWriter(file, fieldnames=columns)\n",
    "    writer.writeheader()\n",
    "     \n",
    "    # запись нескольких строк\n",
    "    writer.writerows(users)\n",
    "     \n",
    "    user = {\"name\" : \"Sam\", \"age\": 41}\n",
    "    # запись одной строки\n",
    "    writer.writerow(user)\n",
    "\n",
    "with open(FILENAME, \"r\", newline=\"\") as file:\n",
    "    reader = csv.DictReader(file)\n",
    "    for row in reader:\n",
    "        print(row[\"name\"], \"-\", row[\"age\"])"
   ]
  },
  {
   "cell_type": "markdown",
   "id": "d34e58e9",
   "metadata": {},
   "source": [
    "Запись строк также производится с помощью методов writerow() и writerows(). Но теперь каждая строка представляет собой отдельный словарь, и кроме того, производится запись и заголовков столбцов с помощью метода writeheader(), а в метод csv.DictWriter в качестве второго параметра передается набор столбцов.\n",
    "\n",
    "При чтении строк, используя названия столбцов, мы можем обратиться к отдельным значениям внутри строки: row[\"name\"]."
   ]
  },
  {
   "cell_type": "markdown",
   "id": "00b60bfd",
   "metadata": {},
   "source": [
    "### Бинарные файлы\n",
    "\n",
    "Бинарные файлы в отличие от текстовых хранят информацию в виде набора байт. Для работы с ними в Python необходим встроенный модуль pickle. Этот модуль предоставляет два метода:\n",
    "\n",
    "   * dump(obj, file): записывает объект obj в бинарный файл file\n",
    "\n",
    "   * load(file): считывает данные из бинарного файла в объект\n",
    "\n",
    "При открытии бинарного файла на чтение или запись также надо учитывать, что нам нужно применять режим \"b\" в дополнение к режиму записи (\"w\") или чтения (\"r\"). Допустим, надо надо сохранить два объекта:"
   ]
  },
  {
   "cell_type": "code",
   "execution_count": null,
   "id": "5c90e5e5",
   "metadata": {},
   "outputs": [],
   "source": [
    "import pickle\n",
    " \n",
    "FILENAME = \"user.dat\"\n",
    " \n",
    "name = \"Tom\"\n",
    "age = 19 \n",
    " \n",
    "with open(FILENAME, \"wb\") as file:\n",
    "    pickle.dump(name, file)\n",
    "    pickle.dump(age, file)\n",
    "\n",
    "    \n",
    "with open(FILENAME, \"rb\") as file:\n",
    "    name = pickle.load(file)\n",
    "    age = pickle.load(file)\n",
    "    print(\"Имя:\", name, \"\\tВозраст:\", age)"
   ]
  },
  {
   "cell_type": "markdown",
   "id": "c87765e2",
   "metadata": {},
   "source": [
    "С помощью функции dump последовательно записываются два объекта. Поэтому при чтении файла также последовательно посредством функции load мы можем считать эти объекты."
   ]
  },
  {
   "cell_type": "markdown",
   "id": "b60c5845",
   "metadata": {},
   "source": [
    "Подобным образом мы можем сохранять и извлекать из файла наборы объектов:\n"
   ]
  },
  {
   "cell_type": "code",
   "execution_count": 51,
   "id": "fb9522bd",
   "metadata": {},
   "outputs": [
    {
     "name": "stdout",
     "output_type": "stream",
     "text": [
      "Имя: Tom \tВозраст: 28 \tЖенат(замужем): True\n",
      "Имя: Alice \tВозраст: 23 \tЖенат(замужем): False\n",
      "Имя: Bob \tВозраст: 34 \tЖенат(замужем): False\n"
     ]
    }
   ],
   "source": [
    "import pickle\n",
    " \n",
    "FILENAME = \"users.dat\"\n",
    " \n",
    "users = [\n",
    "    [\"Tom\", 28, True],\n",
    "    [\"Alice\", 23, False],\n",
    "    [\"Bob\", 34, False]\n",
    "]\n",
    " \n",
    "with open(FILENAME, \"wb\") as file:\n",
    "    pickle.dump(users, file)\n",
    " \n",
    " \n",
    "with open(FILENAME, \"rb\") as file:\n",
    "    users_from_file = pickle.load(file)\n",
    "    for user in users_from_file:\n",
    "        print(\"Имя:\", user[0], \"\\tВозраст:\", user[1], \"\\tЖенат(замужем):\", user[2])"
   ]
  },
  {
   "cell_type": "markdown",
   "id": "34c81e8a",
   "metadata": {},
   "source": [
    "В зависимости от того, какой объект мы записывали функцией dump, тот же объект будет возвращен функцией load при считывании файла."
   ]
  },
  {
   "cell_type": "markdown",
   "id": "b18094d8",
   "metadata": {},
   "source": [
    "### Модуль shelve\n",
    "\n",
    "Для работы с бинарными файлами в Python может применяться еще один модуль - shelve. Он сохраняет объекты в файл с определенным ключом. Затем по этому ключу может извлечь ранее сохраненный объект из файла. Процесс работы с данными через модуль shelve напоминает работу со словарями, которые также используют ключи для сохранения и извлечения объектов.\n",
    "\n",
    "Для открытия файла модуль shelve использует функцию open():"
   ]
  },
  {
   "cell_type": "code",
   "execution_count": null,
   "id": "3009f87f",
   "metadata": {},
   "outputs": [],
   "source": [
    "open(путь_к_файлу[, flag=\"c\"[, protocol=None[, writeback=False]]])"
   ]
  },
  {
   "cell_type": "markdown",
   "id": "606e8759",
   "metadata": {},
   "source": [
    "Где параметр flag может принимать значения:\n",
    "\n",
    " * c: файл открывается для чтения и записи (значение по умолчанию). Если файл не существует, то он создается.\n",
    "\n",
    " * r: файл открывается только для чтения.\n",
    "\n",
    " * w: файл открывается для записи.\n",
    "\n",
    " * n: файл открывается для записи Если файл не существует, то он создается. Если он существует, то он перезаписывается\n",
    "\n",
    "Для закрытия подключения к файлу вызывается метод close():"
   ]
  },
  {
   "cell_type": "code",
   "execution_count": 16,
   "id": "66bc0b72",
   "metadata": {},
   "outputs": [
    {
     "ename": "NameError",
     "evalue": "name 'filename' is not defined",
     "output_type": "error",
     "traceback": [
      "\u001B[0;31m---------------------------------------------------------------------------\u001B[0m",
      "\u001B[0;31mNameError\u001B[0m                                 Traceback (most recent call last)",
      "\u001B[0;32m/tmp/ipykernel_70885/3073956746.py\u001B[0m in \u001B[0;36m<module>\u001B[0;34m\u001B[0m\n\u001B[1;32m      1\u001B[0m \u001B[0;32mimport\u001B[0m \u001B[0mshelve\u001B[0m\u001B[0;34m\u001B[0m\u001B[0;34m\u001B[0m\u001B[0m\n\u001B[0;32m----> 2\u001B[0;31m \u001B[0md\u001B[0m \u001B[0;34m=\u001B[0m \u001B[0mshelve\u001B[0m\u001B[0;34m.\u001B[0m\u001B[0mopen\u001B[0m\u001B[0;34m(\u001B[0m\u001B[0mfilename\u001B[0m\u001B[0;34m)\u001B[0m\u001B[0;34m\u001B[0m\u001B[0;34m\u001B[0m\u001B[0m\n\u001B[0m\u001B[1;32m      3\u001B[0m \u001B[0md\u001B[0m\u001B[0;34m.\u001B[0m\u001B[0mclose\u001B[0m\u001B[0;34m(\u001B[0m\u001B[0;34m)\u001B[0m\u001B[0;34m\u001B[0m\u001B[0;34m\u001B[0m\u001B[0m\n",
      "\u001B[0;31mNameError\u001B[0m: name 'filename' is not defined"
     ]
    }
   ],
   "source": [
    "import shelve\n",
    "d = shelve.open(filename)\n",
    "\n",
    "d.close()"
   ]
  },
  {
   "cell_type": "markdown",
   "id": "fb6fd172",
   "metadata": {},
   "source": [
    "Либо можно открывать файл с помощью оператора with. Сохраним и считаем в файл несколько объектов:"
   ]
  },
  {
   "cell_type": "code",
   "execution_count": 52,
   "id": "13eb9257",
   "metadata": {},
   "outputs": [
    {
     "name": "stdout",
     "output_type": "stream",
     "text": [
      "Great Britain\n",
      "Spain\n"
     ]
    }
   ],
   "source": [
    "import shelve\n",
    " \n",
    "FILENAME = \"states2\"\n",
    "with shelve.open(FILENAME) as states:\n",
    "    states[\"London\"] = \"Great Britain\"\n",
    "    states[\"Paris\"] = \"France\"\n",
    "    states[\"Berlin\"] = \"Germany\"\n",
    "    states[\"Madrid\"] = \"Spain\"\n",
    "    \n",
    "    print(states[\"London\"])\n",
    "    print(states[\"Madrid\"])"
   ]
  },
  {
   "cell_type": "markdown",
   "id": "64e1c510",
   "metadata": {},
   "source": [
    "При чтении данных, если запрашиваемый ключ отсутствует, то генерируется исключение. В этом случае перед получением мы можем проверять на наличие ключа с помощью оператора in:"
   ]
  },
  {
   "cell_type": "code",
   "execution_count": 54,
   "id": "e511e46c",
   "metadata": {},
   "outputs": [],
   "source": [
    "with shelve.open(FILENAME) as states:\n",
    "    key = \"dsfsd\"\n",
    "    if key in states:\n",
    "        print(states[key])"
   ]
  },
  {
   "cell_type": "markdown",
   "id": "bd4c662d",
   "metadata": {},
   "source": [
    "Также мы можем использовать метод get(). Первый параметр метода - ключ, по которому следует получить значение, а второй - значение по умолчанию, которое возвращается, если ключ не найден."
   ]
  },
  {
   "cell_type": "code",
   "execution_count": 57,
   "id": "4969f2a8",
   "metadata": {},
   "outputs": [
    {
     "name": "stdout",
     "output_type": "stream",
     "text": [
      "Undefined\n"
     ]
    }
   ],
   "source": [
    "with shelve.open(FILENAME) as states:\n",
    "    state = states.get(\"Berlinx\", \"Undefined\")\n",
    "    print(state)"
   ]
  },
  {
   "cell_type": "markdown",
   "id": "41f665a0",
   "metadata": {},
   "source": [
    "Используя цикл for, можно перебрать все значения из файла:"
   ]
  },
  {
   "cell_type": "code",
   "execution_count": 58,
   "id": "6a527cc5",
   "metadata": {},
   "outputs": [
    {
     "name": "stdout",
     "output_type": "stream",
     "text": [
      "Berlin  -  Germany\n",
      "London  -  Great Britain\n",
      "Madrid  -  Spain\n",
      "Paris  -  France\n"
     ]
    }
   ],
   "source": [
    "with shelve.open(FILENAME) as states:\n",
    "    for key in states:\n",
    "        print(key,\" - \", states[key])"
   ]
  },
  {
   "cell_type": "markdown",
   "id": "6ba3b12c",
   "metadata": {},
   "source": [
    "Метод keys() возвращает все ключи из файла, а метод values() - все значения:"
   ]
  },
  {
   "cell_type": "code",
   "execution_count": 62,
   "id": "c06f5946",
   "metadata": {},
   "outputs": [
    {
     "name": "stdout",
     "output_type": "stream",
     "text": [
      "('Berlin', 'Germany')\n",
      "('London', 'Great Britain')\n",
      "('Madrid', 'Spain')\n",
      "('Paris', 'France')\n"
     ]
    }
   ],
   "source": [
    "with shelve.open(FILENAME) as states:\n",
    "    for value in states.items():\n",
    "        print(value)\n",
    "    "
   ]
  },
  {
   "cell_type": "markdown",
   "id": "6ca5bf27",
   "metadata": {},
   "source": [
    "Еще один метод items() возвращает набор кортежей. Каждый кортеж содержит ключ и значение."
   ]
  },
  {
   "cell_type": "code",
   "execution_count": 69,
   "id": "83c44483",
   "metadata": {},
   "outputs": [
    {
     "name": "stdout",
     "output_type": "stream",
     "text": [
      "('Berlin', 'Germany')\n",
      "('London', 'Great Britain')\n",
      "('Madrid', 'Spain')\n",
      "('Paris', 'France')\n"
     ]
    }
   ],
   "source": [
    "with shelve.open(FILENAME) as states:\n",
    " \n",
    "    for state in states.items():\n",
    "        print(state)"
   ]
  },
  {
   "cell_type": "markdown",
   "id": "7f015b1b",
   "metadata": {},
   "source": [
    "### Обновление данных\n",
    "\n",
    "Для изменения данных достаточно присвоить по ключу новое значение, а для добавления данных - определить новый ключ:"
   ]
  },
  {
   "cell_type": "code",
   "execution_count": 70,
   "id": "8a9034f7",
   "metadata": {},
   "outputs": [
    {
     "name": "stdout",
     "output_type": "stream",
     "text": [
      "Brussels  -  Belgium\n",
      "Berlin  -  Germany\n",
      "London  -  United Kingdom\n",
      "Madrid  -  Spain\n",
      "Paris  -  France\n"
     ]
    }
   ],
   "source": [
    "import shelve\n",
    " \n",
    "FILENAME = \"states2\"\n",
    "with shelve.open(FILENAME) as states:\n",
    "    states[\"London\"] = \"Great Britain\"\n",
    "    states[\"Paris\"] = \"France\"\n",
    "    states[\"Berlin\"] = \"Germany\"\n",
    "    states[\"Madrid\"] = \"Spain\"\n",
    "\n",
    "with shelve.open(FILENAME) as states:\n",
    " \n",
    "    states[\"London\"] = \"United Kingdom\"\n",
    "    states[\"Brussels\"] = \"Belgium\"\n",
    "    for key in states:\n",
    "        print(key, \" - \", states[key])"
   ]
  },
  {
   "cell_type": "markdown",
   "id": "9cdb0e52",
   "metadata": {},
   "source": [
    "### Удаление данных\n",
    "\n",
    "Для удаления с одновременным получением можно использовать функцию pop(), в которую передается ключ элемента и значение по умолчанию, если ключ не найден:"
   ]
  },
  {
   "cell_type": "code",
   "execution_count": 64,
   "id": "4b35b106",
   "metadata": {},
   "outputs": [
    {
     "name": "stdout",
     "output_type": "stream",
     "text": [
      "NotFound\n"
     ]
    }
   ],
   "source": [
    "with shelve.open(FILENAME) as states:\n",
    " \n",
    "    state = states.pop(\"London\", \"NotFound\")\n",
    "    print(state)"
   ]
  },
  {
   "cell_type": "markdown",
   "id": "56b0d9fb",
   "metadata": {},
   "source": [
    "Также для удаления может применяться оператор del:"
   ]
  },
  {
   "cell_type": "code",
   "execution_count": 66,
   "id": "e527f599",
   "metadata": {},
   "outputs": [
    {
     "ename": "KeyError",
     "evalue": "b'Madrid'",
     "output_type": "error",
     "traceback": [
      "\u001B[0;31m---------------------------------------------------------------------------\u001B[0m",
      "\u001B[0;31mKeyError\u001B[0m                                  Traceback (most recent call last)",
      "\u001B[0;32m/tmp/ipykernel_10689/1218978511.py\u001B[0m in \u001B[0;36m<module>\u001B[0;34m\u001B[0m\n\u001B[1;32m      1\u001B[0m \u001B[0;32mwith\u001B[0m \u001B[0mshelve\u001B[0m\u001B[0;34m.\u001B[0m\u001B[0mopen\u001B[0m\u001B[0;34m(\u001B[0m\u001B[0mFILENAME\u001B[0m\u001B[0;34m)\u001B[0m \u001B[0;32mas\u001B[0m \u001B[0mstates\u001B[0m\u001B[0;34m:\u001B[0m\u001B[0;34m\u001B[0m\u001B[0;34m\u001B[0m\u001B[0m\n\u001B[1;32m      2\u001B[0m \u001B[0;34m\u001B[0m\u001B[0m\n\u001B[0;32m----> 3\u001B[0;31m     \u001B[0;32mdel\u001B[0m \u001B[0mstates\u001B[0m\u001B[0;34m[\u001B[0m\u001B[0;34m\"Madrid\"\u001B[0m\u001B[0;34m]\u001B[0m    \u001B[0;31m# удаляем объект с ключом Madrid\u001B[0m\u001B[0;34m\u001B[0m\u001B[0;34m\u001B[0m\u001B[0m\n\u001B[0m",
      "\u001B[0;32m/usr/lib/python3.8/shelve.py\u001B[0m in \u001B[0;36m__delitem__\u001B[0;34m(self, key)\u001B[0m\n\u001B[1;32m    126\u001B[0m \u001B[0;34m\u001B[0m\u001B[0m\n\u001B[1;32m    127\u001B[0m     \u001B[0;32mdef\u001B[0m \u001B[0m__delitem__\u001B[0m\u001B[0;34m(\u001B[0m\u001B[0mself\u001B[0m\u001B[0;34m,\u001B[0m \u001B[0mkey\u001B[0m\u001B[0;34m)\u001B[0m\u001B[0;34m:\u001B[0m\u001B[0;34m\u001B[0m\u001B[0;34m\u001B[0m\u001B[0m\n\u001B[0;32m--> 128\u001B[0;31m         \u001B[0;32mdel\u001B[0m \u001B[0mself\u001B[0m\u001B[0;34m.\u001B[0m\u001B[0mdict\u001B[0m\u001B[0;34m[\u001B[0m\u001B[0mkey\u001B[0m\u001B[0;34m.\u001B[0m\u001B[0mencode\u001B[0m\u001B[0;34m(\u001B[0m\u001B[0mself\u001B[0m\u001B[0;34m.\u001B[0m\u001B[0mkeyencoding\u001B[0m\u001B[0;34m)\u001B[0m\u001B[0;34m]\u001B[0m\u001B[0;34m\u001B[0m\u001B[0;34m\u001B[0m\u001B[0m\n\u001B[0m\u001B[1;32m    129\u001B[0m         \u001B[0;32mtry\u001B[0m\u001B[0;34m:\u001B[0m\u001B[0;34m\u001B[0m\u001B[0;34m\u001B[0m\u001B[0m\n\u001B[1;32m    130\u001B[0m             \u001B[0;32mdel\u001B[0m \u001B[0mself\u001B[0m\u001B[0;34m.\u001B[0m\u001B[0mcache\u001B[0m\u001B[0;34m[\u001B[0m\u001B[0mkey\u001B[0m\u001B[0;34m]\u001B[0m\u001B[0;34m\u001B[0m\u001B[0;34m\u001B[0m\u001B[0m\n",
      "\u001B[0;31mKeyError\u001B[0m: b'Madrid'"
     ]
    }
   ],
   "source": [
    "with shelve.open(FILENAME) as states:\n",
    " \n",
    "    del states[\"Madrid\"]    # удаляем объект с ключом Madrid"
   ]
  },
  {
   "cell_type": "markdown",
   "id": "bdddedf8",
   "metadata": {},
   "source": [
    "Для удаления всех элементов можно использовать метод clear():"
   ]
  },
  {
   "cell_type": "code",
   "execution_count": 68,
   "id": "59b75576",
   "metadata": {},
   "outputs": [],
   "source": [
    "with shelve.open(FILENAME) as states:\n",
    " \n",
    "    states.clear()"
   ]
  },
  {
   "cell_type": "markdown",
   "id": "8e251143",
   "metadata": {},
   "source": [
    "## ООП"
   ]
  },
  {
   "cell_type": "markdown",
   "id": "8c85c7d2",
   "metadata": {},
   "source": [
    "Python поддерживает объектно-ориентированную парадигму программирования, а это значит, что мы можем определить компоненты программы в виде классов.\n",
    "\n",
    "Класс является шаблоном или формальным описанием объекта, а объект представляет экземпляр этого класса, его реальное воплощение. Можно провести следующую аналогию: у всех у нас есть некоторое представление о человеке - наличие двух рук, двух ног, головы, пищеварительной, нервной системы, головного мозга и т.д. Есть некоторый шаблон - этот шаблон можно назвать классом. Реально же существующий человек (фактически экземпляр данного класса) является объектом этого класса.\n",
    "\n",
    "С точки зрения кода класс объединяет набор функций и переменных, которые выполняют определенную задачу. Функции класса еще называют методами. Они определяют поведение класса. А переменные класса называют атрибутами - они хранят состояние класса\n",
    "\n",
    "Класс определяется с помощью ключевого слова class:"
   ]
  },
  {
   "cell_type": "code",
   "execution_count": null,
   "id": "df25925a",
   "metadata": {},
   "outputs": [],
   "source": [
    "class название_класса:\n",
    "    поля_класса\n",
    "    методы_класса"
   ]
  },
  {
   "cell_type": "markdown",
   "id": "f57b8add",
   "metadata": {},
   "source": [
    "Для создания объекта класса используется следующий синтаксис:"
   ]
  },
  {
   "cell_type": "code",
   "execution_count": null,
   "id": "0bb0c896",
   "metadata": {},
   "outputs": [],
   "source": [
    "название_объекта = название_класса([параметры])"
   ]
  },
  {
   "cell_type": "markdown",
   "id": "50393cb8",
   "metadata": {},
   "source": [
    "Например, определим простейший класс Person, который будет представлять человека:"
   ]
  },
  {
   "cell_type": "code",
   "execution_count": 69,
   "id": "0d6b40af",
   "metadata": {},
   "outputs": [
    {
     "name": "stdout",
     "output_type": "stream",
     "text": [
      "Привет, меня зовут Tom\n",
      "Привет, меня зовут Sam\n"
     ]
    }
   ],
   "source": [
    "class Person:\n",
    "    name = \"Tom\"\n",
    " \n",
    "    def display_info(self):\n",
    "        print(\"Привет, меня зовут\", self.name)\n",
    "\n",
    "person1 = Person()\n",
    "person1.display_info()         # Привет, меня зовут Tom\n",
    " \n",
    "person2 = Person()\n",
    "person2.name = \"Sam\"\n",
    "person2.display_info()         # Привет, меня зовут Sam"
   ]
  },
  {
   "cell_type": "markdown",
   "id": "6caeb2c0",
   "metadata": {},
   "source": [
    "Класс Person определяет атрибут name, который хранит имя человека, и метод display_info, с помощью которого выводится информация о человеке.\n",
    "\n",
    "При определении методов любого класса следует учитывать, что все они должны принимать в качестве первого параметра ссылку на текущий объект, который согласно условностям называется self (в ряде языков программирования есть своего рода аналог - ключевое слово this). Через эту ссылку внутри класса мы можем обратиться к методам или атрибутам этого же класса. В частности, через выражение self.name можно получить имя пользователя.\n",
    "\n",
    "После определения класс Person создаем пару его объектов - person1 и person2. Используя имя объекта, мы можем обратиться к его методам и атрибутам. В данном случае у каждого из объектов вызываем метод display_info(), который выводит строку на консоль, и у второго объекта также изменяем атрибут name. При этом при вызове метода display_info не надо передавать значение для параметра self."
   ]
  },
  {
   "cell_type": "markdown",
   "id": "a97d48a8",
   "metadata": {},
   "source": [
    "### Конструкторы\n",
    "\n",
    "Для создания объекта класса используется конструктор. Так, выше когда мы создавали объекты класса Person, мы использовали конструктор по умолчанию, который неявно имеют все классы:"
   ]
  },
  {
   "cell_type": "code",
   "execution_count": null,
   "id": "d1251cfa",
   "metadata": {},
   "outputs": [],
   "source": [
    "person1 = Person()\n",
    "person2 = Person()"
   ]
  },
  {
   "cell_type": "markdown",
   "id": "af02020b",
   "metadata": {},
   "source": [
    "Однако мы можем явным образом определить в классах конструктор с помощью специального метода, который называется \\__init\\__(). К примеру, изменим класс Person, добавив в него конструктор:"
   ]
  },
  {
   "cell_type": "code",
   "execution_count": 73,
   "id": "11c9d416",
   "metadata": {},
   "outputs": [
    {
     "ename": "TypeError",
     "evalue": "__init__() takes 3 positional arguments but 4 were given",
     "output_type": "error",
     "traceback": [
      "\u001B[0;31m---------------------------------------------------------------------------\u001B[0m",
      "\u001B[0;31mTypeError\u001B[0m                                 Traceback (most recent call last)",
      "\u001B[0;32m/tmp/ipykernel_10689/4200434957.py\u001B[0m in \u001B[0;36m<module>\u001B[0;34m\u001B[0m\n\u001B[1;32m     11\u001B[0m \u001B[0;34m\u001B[0m\u001B[0m\n\u001B[1;32m     12\u001B[0m \u001B[0;34m\u001B[0m\u001B[0m\n\u001B[0;32m---> 13\u001B[0;31m \u001B[0mperson1\u001B[0m \u001B[0;34m=\u001B[0m \u001B[0mPerson\u001B[0m\u001B[0;34m(\u001B[0m\u001B[0;34m\"Tom\"\u001B[0m\u001B[0;34m,\u001B[0m \u001B[0;36m2\u001B[0m\u001B[0;34m,\u001B[0m \u001B[0;36m4\u001B[0m\u001B[0;34m)\u001B[0m\u001B[0;34m\u001B[0m\u001B[0;34m\u001B[0m\u001B[0m\n\u001B[0m\u001B[1;32m     14\u001B[0m \u001B[0mperson1\u001B[0m\u001B[0;34m.\u001B[0m\u001B[0mdisplay_info\u001B[0m\u001B[0;34m(\u001B[0m\u001B[0;34m)\u001B[0m         \u001B[0;31m# Привет, меня зовут Tom\u001B[0m\u001B[0;34m\u001B[0m\u001B[0;34m\u001B[0m\u001B[0m\n\u001B[1;32m     15\u001B[0m \u001B[0;34m\u001B[0m\u001B[0m\n",
      "\u001B[0;31mTypeError\u001B[0m: __init__() takes 3 positional arguments but 4 were given"
     ]
    }
   ],
   "source": [
    "class Person:\n",
    " \n",
    "    # конструктор\n",
    "    def __init__(self, name, age):\n",
    "        self.name = name  # устанавливаем имя\n",
    "        self.age = age\n",
    "        self.age2 = age * 2\n",
    " \n",
    "    def display_info(self):\n",
    "        print(\"Привет, меня зовут\", self.name, self.age, self.age2)\n",
    " \n",
    " \n",
    "person1 = Person(\"Tom\", 2, 4)\n",
    "person1.display_info()         # Привет, меня зовут Tom\n",
    "\n",
    "person2 = Person(\"Sam\", 2)\n",
    "person2.display_info()         # Привет, меня зовут Sam"
   ]
  },
  {
   "cell_type": "code",
   "execution_count": 80,
   "id": "d8634bdb",
   "metadata": {},
   "outputs": [
    {
     "name": "stdout",
     "output_type": "stream",
     "text": [
      "Привет, меня зовут ret\n"
     ]
    }
   ],
   "source": [
    "person1.name = 'ret'\n",
    "person1.display_info()"
   ]
  },
  {
   "cell_type": "markdown",
   "id": "e4e60a5d",
   "metadata": {},
   "source": [
    "В качестве первого параметра конструктор также принимает ссылку на текущий объект - self. Нередко в конструкторах устанавливаются атрибуты класса. Так, в данном случае в качестве второго параметра в конструктор передается имя пользователя, которое устанавливается для атрибута self.name. Причем для атрибута необязательно определять в классе переменную name, как это было в предыдущей версии класса Person. Установка значения self.name = name уже неявно создает атрибут name."
   ]
  },
  {
   "cell_type": "code",
   "execution_count": null,
   "id": "7a83ca11",
   "metadata": {},
   "outputs": [],
   "source": [
    "person1 = Person(\"Tom\")\n",
    "person2 = Person(\"Sam\")"
   ]
  },
  {
   "cell_type": "markdown",
   "id": "11edb51f",
   "metadata": {},
   "source": [
    "### Деструктор\n",
    "\n",
    "После окончания работы с объектом мы можем использовать оператор del для удаления его из памяти:"
   ]
  },
  {
   "cell_type": "code",
   "execution_count": null,
   "id": "4a76d8f8",
   "metadata": {},
   "outputs": [],
   "source": [
    "person1 = Person(\"Tom\")\n",
    "del person1     # удаление из памяти\n",
    "# person1.display_info()  # Этот метод работать не будет, так как person1 уже удален из памяти"
   ]
  },
  {
   "cell_type": "markdown",
   "id": "ac651a25",
   "metadata": {},
   "source": [
    "Стоит отметить, что в принципе это необязательно делать, так как после окончания работы скрипта все объекты автоматически удаляются из памяти.\n",
    "\n",
    "Кроме того, мы можем определить определить в классе деструктор, реализовав встроенную функцию __del__, который будет вызываться либо в результате вызова оператора del, либо при автоматическом удалении объекта. Например:"
   ]
  },
  {
   "cell_type": "code",
   "execution_count": 83,
   "id": "5bcfe7a5",
   "metadata": {},
   "outputs": [
    {
     "name": "stdout",
     "output_type": "stream",
     "text": [
      "Привет, меня зовут Tom\n",
      "Tom удален из памяти\n",
      "Привет, меня зовут Sam\n"
     ]
    }
   ],
   "source": [
    "class Person:\n",
    "    # конструктор\n",
    "    def __init__(self, name):\n",
    "        self.name = name  # устанавливаем имя\n",
    " \n",
    "    def __del__(self):\n",
    "        print(self.name,\"удален из памяти\")\n",
    "        \n",
    "    def display_info(self):\n",
    "        print(\"Привет, меня зовут\", self.name)\n",
    " \n",
    " \n",
    "person1 = Person(\"Tom\")\n",
    "person1.display_info()  # Привет, меня зовут Tom\n",
    "del person1     # удаление из памяти\n",
    "\n",
    "person2 = Person(\"Sam\")\n",
    "person2.display_info()  # Привет, меня зовут Sam"
   ]
  },
  {
   "cell_type": "markdown",
   "id": "81a327d3",
   "metadata": {},
   "source": [
    "### Инкапсуляция"
   ]
  },
  {
   "cell_type": "markdown",
   "id": "4d2e18f2",
   "metadata": {},
   "source": [
    "По умолчанию атрибуты в классах являются общедоступными, а это значит, что из любого места программы мы можем получить атрибут объекта и изменить его. Например:"
   ]
  },
  {
   "cell_type": "code",
   "execution_count": 74,
   "id": "c813435f",
   "metadata": {},
   "outputs": [
    {
     "name": "stdout",
     "output_type": "stream",
     "text": [
      "Имя: Человек-паук \tВозраст: -129\n"
     ]
    }
   ],
   "source": [
    "class Person:\n",
    "    def __init__(self, name):\n",
    "        self.name = name    # устанавливаем имя\n",
    "        self.age = 1        # устанавливаем возраст\n",
    "                 \n",
    "    def display_info(self):\n",
    "        print(\"Имя:\", self.name, \"\\tВозраст:\", self.age)\n",
    "         \n",
    " \n",
    "tom = Person(\"Tom\")\n",
    "tom.name = \"Человек-паук\"       # изменяем атрибут name\n",
    "tom.age = -129                  # изменяем атрибут age\n",
    "tom.display_info()              # Имя: Человек-паук     Возраст: -129"
   ]
  },
  {
   "cell_type": "markdown",
   "id": "9619fe0f",
   "metadata": {},
   "source": [
    "Но в данном случае мы можем, к примеру, присвоить возрасту или имени человека некорректное значение, например, указать отрицательный возраст. Подобное поведение нежелательно, поэтому встает вопрос о контроле за доступом к атрибутам объекта.\n",
    "\n",
    "С данной проблемой тесно связано понятие инкапсуляции. Инкапсуляция является фундаментальной концепцией объектно-ориентированного программирования. Она предотвращает прямой доступ к атрибутам объект из вызывающего кода.\n",
    "\n",
    "Касательно инкапсуляции непосредственно в языке программирования Python скрыть атрибуты класса можно сделав их приватными или закрытыми и ограничив доступ к ним через специальные методы, которые еще называются свойствами.\n",
    "\n",
    "Изменим выше определенный класс, определив в нем свойства:"
   ]
  },
  {
   "cell_type": "code",
   "execution_count": 83,
   "id": "75125d56",
   "metadata": {},
   "outputs": [
    {
     "name": "stdout",
     "output_type": "stream",
     "text": [
      "Имя: Tom \tВозраст: 1\n",
      "Недопустимый возраст\n",
      "Имя: Tom \tВозраст: 25\n"
     ]
    }
   ],
   "source": [
    "class Person:\n",
    "    def __init__(self, name):\n",
    "        self.__name = name      # устанавливаем имя\n",
    "        self.__age = 1          # устанавливаем возраст\n",
    " \n",
    "    def set_age(self, age):\n",
    "        if age in range(1, 100):\n",
    "            self.__age = age\n",
    "        else:\n",
    "            print(\"Недопустимый возраст\")\n",
    " \n",
    "    def get_age(self):\n",
    "        return self.__age\n",
    "         \n",
    "    def get_name(self):\n",
    "        return self.__name\n",
    " \n",
    "    def display_info(self):\n",
    "        print(\"Имя:\", self.__name, \"\\tВозраст:\", self.__age)\n",
    "         \n",
    "tom = Person(\"Tom\")\n",
    " \n",
    "tom.display_info()          # Имя: Tom  Возраст: 1\n",
    "tom.set_age(-3486)          # Недопустимый возраст\n",
    "tom.set_age(25)\n",
    "tom.display_info()          # Имя: Tom  Возраст: 25"
   ]
  },
  {
   "cell_type": "markdown",
   "id": "ffcda0ae",
   "metadata": {},
   "source": [
    "Для создания приватного атрибута в начале его наименования ставится двойной прочерк: self.\\__name. К такому атрибуту мы сможем обратиться только из того же класса. Но не сможем обратиться вне этого класса. Например, присвоение значения этому атрибуту ничего не даст:"
   ]
  },
  {
   "cell_type": "code",
   "execution_count": 80,
   "id": "7ab030f0",
   "metadata": {},
   "outputs": [],
   "source": [
    "tom.__age = 43 "
   ]
  },
  {
   "cell_type": "markdown",
   "id": "9f57f2de",
   "metadata": {},
   "source": [
    "Потому что в данном случае просто определяется динамически новый атрибут \\__age, но это он не имеет ничего общего с атрибутом self.\\__age.\n",
    "\n",
    "А попытка получить его значение приведет к ошибке выполнения (если ранее не была определена переменная \\__age):"
   ]
  },
  {
   "cell_type": "code",
   "execution_count": 84,
   "id": "924cd73c",
   "metadata": {},
   "outputs": [
    {
     "ename": "AttributeError",
     "evalue": "'Person' object has no attribute '__age'",
     "output_type": "error",
     "traceback": [
      "\u001B[0;31m---------------------------------------------------------------------------\u001B[0m",
      "\u001B[0;31mAttributeError\u001B[0m                            Traceback (most recent call last)",
      "\u001B[0;32m/tmp/ipykernel_10689/2017308581.py\u001B[0m in \u001B[0;36m<module>\u001B[0;34m\u001B[0m\n\u001B[0;32m----> 1\u001B[0;31m \u001B[0mprint\u001B[0m\u001B[0;34m(\u001B[0m\u001B[0mtom\u001B[0m\u001B[0;34m.\u001B[0m\u001B[0m__age\u001B[0m\u001B[0;34m)\u001B[0m\u001B[0;34m\u001B[0m\u001B[0;34m\u001B[0m\u001B[0m\n\u001B[0m",
      "\u001B[0;31mAttributeError\u001B[0m: 'Person' object has no attribute '__age'"
     ]
    }
   ],
   "source": [
    "print(tom.__age)"
   ]
  },
  {
   "cell_type": "code",
   "execution_count": 82,
   "id": "73b750f9",
   "metadata": {},
   "outputs": [
    {
     "name": "stdout",
     "output_type": "stream",
     "text": [
      "Имя: Tom \tВозраст: 25\n"
     ]
    }
   ],
   "source": [
    "tom.display_info()"
   ]
  },
  {
   "cell_type": "markdown",
   "id": "9fe183eb",
   "metadata": {},
   "source": [
    "Однако все же нам может потребоваться устанавливать возраст пользователя из вне. Для этого создаются свойства. Используя одно свойство, мы можем получить значение атрибута:"
   ]
  },
  {
   "cell_type": "code",
   "execution_count": null,
   "id": "75cfabfe",
   "metadata": {},
   "outputs": [],
   "source": [
    "def get_age(self):\n",
    "    return self.__age"
   ]
  },
  {
   "cell_type": "markdown",
   "id": "a749c9de",
   "metadata": {},
   "source": [
    "Данный метод еще часто называют геттер или аксессор.\n",
    "\n",
    "Для изменения возраста определено другое свойство:"
   ]
  },
  {
   "cell_type": "code",
   "execution_count": null,
   "id": "0d16cb83",
   "metadata": {},
   "outputs": [],
   "source": [
    "def set_age(self, value):\n",
    "    if value in range(1, 100):\n",
    "        self.__age = value\n",
    "    else:\n",
    "        print(\"Недопустимый возраст\")"
   ]
  },
  {
   "cell_type": "markdown",
   "id": "2271cec7",
   "metadata": {},
   "source": [
    "Здесь мы уже можем решить в зависимости от условий, надо ли переустанавливать возраст. Данный метод еще называют сеттер или мьютейтор (mutator).\n",
    "\n",
    "Необязательно создавать для каждого приватного атрибута подобную пару свойств. Так, в примере выше имя человека мы можем установить только из конструктора. А для получение определен метод get_name."
   ]
  },
  {
   "cell_type": "markdown",
   "id": "46820372",
   "metadata": {},
   "source": [
    "### Аннотации свойств\n",
    "\n",
    "Выше мы рассмотрели, как создавать свойства. Но Python имеет также еще один - более элегантный способ определения свойств. Этот способ предполагает использование аннотаций, которые предваряются символом @.\n",
    "\n",
    "Для создания свойства-геттера над свойством ставится аннотация @property.\n",
    "\n",
    "Для создания свойства-сеттера над свойством устанавливается аннотация имя_свойства_геттера.setter.\n",
    "\n",
    "Перепишем класс Person с использованием аннотаций:"
   ]
  },
  {
   "cell_type": "code",
   "execution_count": 33,
   "id": "1b9fb9f8",
   "metadata": {},
   "outputs": [
    {
     "name": "stdout",
     "output_type": "stream",
     "text": [
      "Имя: Tom \tВозраст: 1\n",
      "Недопустимый возраст\n",
      "1\n",
      "Имя: Tom \tВозраст: 36\n"
     ]
    }
   ],
   "source": [
    "class Person:\n",
    "    def __init__(self, name):\n",
    "        self.__name = name  # устанавливаем имя\n",
    "        self.__age = 1      # устанавливаем возраст\n",
    " \n",
    "    @property\n",
    "    def age(self):\n",
    "        return self.__age\n",
    " \n",
    "    @age.setter\n",
    "    def age(self, age):\n",
    "        if age in range(1, 100):\n",
    "            self.__age = age\n",
    "        else:\n",
    "            print(\"Недопустимый возраст\")\n",
    "     \n",
    "    @property\n",
    "    def name(self):\n",
    "        return self.__name\n",
    "         \n",
    "    def display_info(self):\n",
    "        print(\"Имя:\", self.__name, \"\\tВозраст:\", self.__age)\n",
    "         \n",
    "\n",
    "tom = Person(\"Tom\")\n",
    " \n",
    "tom.display_info()      # Имя: Tom  Возраст: 1\n",
    "tom.age = -3486         # Недопустимый возраст\n",
    "print(tom.age)          # 1\n",
    "tom.age = 36\n",
    "tom.display_info()      # Имя: Tom  Возраст: 36"
   ]
  },
  {
   "cell_type": "markdown",
   "id": "5f6d5155",
   "metadata": {},
   "source": [
    "Во-первых, стоит обратить внимание, что свойство-сеттер определяется после свойства-геттера.\n",
    "\n",
    "Во-вторых, и сеттер, и геттер называются одинаково - age. И поскольку геттер называется age, то над сеттером устанавливается аннотация @age.setter.\n",
    "\n",
    "После этого, что к геттеру, что к сеттеру, мы обращаемся через выражение tom.age."
   ]
  },
  {
   "cell_type": "markdown",
   "id": "4c2f10c2",
   "metadata": {},
   "source": [
    "## Наследование"
   ]
  },
  {
   "cell_type": "markdown",
   "id": "47f4efc3",
   "metadata": {},
   "source": [
    "Наследование позволяет создавать новый класс на основе уже существующего класса. Наряду с инкапсуляцией наследование является одним из краеугольных камней объектно-ориентированного дизайна.\n",
    "\n",
    "Ключевыми понятиями наследования являются подкласс и суперкласс. Подкласс наследует от суперкласса все публичные атрибуты и методы. Суперкласс еще называется базовым (base class) или родительским (parent class), а подкласс - производным (derived class) или дочерним (child class).\n",
    "\n",
    "Синтаксис для наследования классов выглядит следующим образом:"
   ]
  },
  {
   "cell_type": "code",
   "execution_count": null,
   "id": "ec127b88",
   "metadata": {},
   "outputs": [],
   "source": [
    "class подкласс(суперкласс):\n",
    "    методы_подкласса\n",
    "    +\n",
    "    методы суперкласса"
   ]
  },
  {
   "cell_type": "markdown",
   "id": "9aab74f9",
   "metadata": {},
   "source": [
    "Например, в прошлых темах был создан класс Person, который представляет человека. Предположим, нам необходим класс работника, который работает на некотором предприятии. Мы могли бы создать с нуля новый класс, к примеру, класс Employee. Однако он может иметь те же атрибуты и методы, что и класс Person, так как сотрудник - это человек. Поэтому нет смысла определять в классе Employee тот же функционал, что и в классе Person. И в этом случае лучше применить наследование.\n",
    "\n",
    "Итак, унаследуем класс Employee от класса Person:"
   ]
  },
  {
   "cell_type": "code",
   "execution_count": 85,
   "id": "904c5d67",
   "metadata": {},
   "outputs": [
    {
     "ename": "AttributeError",
     "evalue": "'Employee' object has no attribute '_Employee__name'",
     "output_type": "error",
     "traceback": [
      "\u001B[0;31m---------------------------------------------------------------------------\u001B[0m",
      "\u001B[0;31mAttributeError\u001B[0m                            Traceback (most recent call last)",
      "\u001B[0;32m/tmp/ipykernel_10689/4196599689.py\u001B[0m in \u001B[0;36m<module>\u001B[0;34m\u001B[0m\n\u001B[1;32m     31\u001B[0m \u001B[0;34m\u001B[0m\u001B[0m\n\u001B[1;32m     32\u001B[0m \u001B[0mtom\u001B[0m \u001B[0;34m=\u001B[0m \u001B[0mEmployee\u001B[0m\u001B[0;34m(\u001B[0m\u001B[0;34m\"Tom\"\u001B[0m\u001B[0;34m,\u001B[0m \u001B[0;36m23\u001B[0m\u001B[0;34m)\u001B[0m\u001B[0;34m\u001B[0m\u001B[0;34m\u001B[0m\u001B[0m\n\u001B[0;32m---> 33\u001B[0;31m \u001B[0mtom\u001B[0m\u001B[0;34m.\u001B[0m\u001B[0mdetails\u001B[0m\u001B[0;34m(\u001B[0m\u001B[0;34m\"Google\"\u001B[0m\u001B[0;34m)\u001B[0m\u001B[0;34m\u001B[0m\u001B[0;34m\u001B[0m\u001B[0m\n\u001B[0m\u001B[1;32m     34\u001B[0m \u001B[0mtom\u001B[0m\u001B[0;34m.\u001B[0m\u001B[0mage\u001B[0m \u001B[0;34m=\u001B[0m \u001B[0;36m33\u001B[0m\u001B[0;34m\u001B[0m\u001B[0;34m\u001B[0m\u001B[0m\n\u001B[1;32m     35\u001B[0m \u001B[0mtom\u001B[0m\u001B[0;34m.\u001B[0m\u001B[0mdisplay_info\u001B[0m\u001B[0;34m(\u001B[0m\u001B[0;34m)\u001B[0m\u001B[0;34m\u001B[0m\u001B[0;34m\u001B[0m\u001B[0m\n",
      "\u001B[0;32m/tmp/ipykernel_10689/4196599689.py\u001B[0m in \u001B[0;36mdetails\u001B[0;34m(self, company)\u001B[0m\n\u001B[1;32m     26\u001B[0m \u001B[0;34m\u001B[0m\u001B[0m\n\u001B[1;32m     27\u001B[0m     \u001B[0;32mdef\u001B[0m \u001B[0mdetails\u001B[0m\u001B[0;34m(\u001B[0m\u001B[0mself\u001B[0m\u001B[0;34m,\u001B[0m \u001B[0mcompany\u001B[0m\u001B[0;34m)\u001B[0m\u001B[0;34m:\u001B[0m\u001B[0;34m\u001B[0m\u001B[0;34m\u001B[0m\u001B[0m\n\u001B[0;32m---> 28\u001B[0;31m         \u001B[0mprint\u001B[0m\u001B[0;34m(\u001B[0m\u001B[0mself\u001B[0m\u001B[0;34m.\u001B[0m\u001B[0m__name\u001B[0m\u001B[0;34m,\u001B[0m \u001B[0;34m\"работает в компании\"\u001B[0m\u001B[0;34m,\u001B[0m \u001B[0mcompany\u001B[0m\u001B[0;34m)\u001B[0m \u001B[0;31m# так нельзя, self.__name - приватный атрибут\u001B[0m\u001B[0;34m\u001B[0m\u001B[0;34m\u001B[0m\u001B[0m\n\u001B[0m\u001B[1;32m     29\u001B[0m         \u001B[0mprint\u001B[0m\u001B[0;34m(\u001B[0m\u001B[0mself\u001B[0m\u001B[0;34m.\u001B[0m\u001B[0mname\u001B[0m\u001B[0;34m,\u001B[0m \u001B[0;34m\"работает в компании\"\u001B[0m\u001B[0;34m,\u001B[0m \u001B[0mcompany\u001B[0m\u001B[0;34m)\u001B[0m\u001B[0;34m\u001B[0m\u001B[0;34m\u001B[0m\u001B[0m\n\u001B[1;32m     30\u001B[0m \u001B[0;34m\u001B[0m\u001B[0m\n",
      "\u001B[0;31mAttributeError\u001B[0m: 'Employee' object has no attribute '_Employee__name'"
     ]
    }
   ],
   "source": [
    "class Person:\n",
    "    def __init__(self, name, age):\n",
    "        self.__name = name  # устанавливаем имя\n",
    "        self.__age = age  # устанавливаем возраст\n",
    " \n",
    "    @property\n",
    "    def age(self):\n",
    "        return self.__age\n",
    " \n",
    "    @age.setter\n",
    "    def age(self, age):\n",
    "        if age in range(1, 100):\n",
    "            self.__age = age\n",
    "        else:\n",
    "            print(\"Недопустимый возраст\")\n",
    " \n",
    "    @property\n",
    "    def name(self):\n",
    "        return self.__name\n",
    " \n",
    "    def display_info(self):\n",
    "        print(\"Имя:\", self.__name, \"\\tВозраст:\", self.__age)\n",
    " \n",
    " \n",
    "class Employee(Person):\n",
    " \n",
    "    def details(self, company):\n",
    "        # print(self.__name, \"работает в компании\", company) # так нельзя, self.__name - приватный атрибут\n",
    "        print(self.name, \"работает в компании\", company)\n",
    " \n",
    " \n",
    "tom = Employee(\"Tom\", 23)\n",
    "tom.details(\"Google\")\n",
    "tom.age = 33\n",
    "tom.display_info()"
   ]
  },
  {
   "cell_type": "markdown",
   "id": "82765b2f",
   "metadata": {},
   "source": [
    "Класс Employee полностью перенимает функционал класса Person и в дополнении к нему добавляет метод details().\n",
    "\n",
    "Стоит обратить внимание, что для Employee доступны через ключевое слово self все методы и атрибуты класса Person, кроме закрытых атрибутов типа __name или __age.\n",
    "\n",
    "При создании объекта Employee мы фактически используем конструктор класса Person. И кроме того, у этого объекта мы можем вызвать все методы класса Person."
   ]
  },
  {
   "cell_type": "markdown",
   "id": "c656e5e7",
   "metadata": {},
   "source": [
    "## Полиморфизм\n",
    "\n",
    "Полиморфизм является еще одним базовым аспектом объектно-ориентированного программирования и предполагает способность к изменению функционала, унаследованного от базового класса.\n",
    "\n",
    "Например, пусть у нас будет следующая иерархия классов:"
   ]
  },
  {
   "cell_type": "code",
   "execution_count": 90,
   "id": "f78252d0",
   "metadata": {},
   "outputs": [
    {
     "name": "stdout",
     "output_type": "stream",
     "text": [
      "Имя: Tom \tВозраст: 23\n",
      "\n",
      "Студент Bob учится в университете Harvard\n",
      "\n",
      "Имя: Sam \tВозраст: 35\n",
      "Компания: Google\n",
      "\n"
     ]
    }
   ],
   "source": [
    "class Person:\n",
    "    def __init__(self, name, age):\n",
    "        self.__name = name  # устанавливаем имя\n",
    "        self.__age = age  # устанавливаем возраст\n",
    " \n",
    "    @property\n",
    "    def name(self):\n",
    "        return self.__name\n",
    " \n",
    "    @property\n",
    "    def age(self):\n",
    "        return self.__age\n",
    " \n",
    "    @age.setter\n",
    "    def age(self, age):\n",
    "        if age in range(1, 100):\n",
    "            self.__age = age\n",
    "        else:\n",
    "            print(\"Недопустимый возраст\")\n",
    " \n",
    "    def display_info(self):\n",
    "        print(\"Имя:\", self.__name, \"\\tВозраст:\", self.__age)\n",
    " \n",
    " \n",
    "class Employee(Person):\n",
    "    # определение конструктора\n",
    "    def __init__(self, name, age, company):\n",
    "        Person.__init__(self, name, age)\n",
    "        self.company = company\n",
    " \n",
    "    # переопределение метода display_info\n",
    "    def display_info(self):\n",
    "        Person.display_info(self)\n",
    "        print(\"Компания:\", self.company)\n",
    " \n",
    " \n",
    "class Student(Person):\n",
    "    # определение конструктора\n",
    "    def __init__(self, name, age, university):\n",
    "        Person.__init__(self, name, age)\n",
    "        self.university = university\n",
    " \n",
    "    # переопределение метода display_info\n",
    "    def display_info(self):\n",
    "        print(\"Студент\", self.name, \"учится в университете\", self.university)\n",
    "\n",
    "people = [Person(\"Tom\", 23), Student(\"Bob\", 19, \"Harvard\"), Employee(\"Sam\", 35, \"Google\")]\n",
    " \n",
    "for person in people:\n",
    "    person.display_info()\n",
    "    print()"
   ]
  },
  {
   "cell_type": "markdown",
   "id": "b4878aa6",
   "metadata": {},
   "source": [
    "В производном классе Employee, который представляет служащего, определяется свой конструктор. Так как нам надо устанавливать при создании объекта еще и компанию, где работает сотрудник. Для этого конструктор принимает четыре параметра: стандартный параметр self, параметры name и age и параметр company.\n",
    "\n",
    "В самом конструкторе Employee вызывается конструктор базового класса Person. Обращение к методам базового класса имеет следующий синтаксис:"
   ]
  },
  {
   "cell_type": "code",
   "execution_count": null,
   "id": "cd22d8f3",
   "metadata": {},
   "outputs": [],
   "source": [
    "суперкласс.название_метода(self [, параметры])"
   ]
  },
  {
   "cell_type": "markdown",
   "id": "0cb2a548",
   "metadata": {},
   "source": [
    "Поэтому в конструктор базового класса передаются имя и возраст. Сам же класс Employee добавляет к функционалу класса Person еще один атрибут - self.company.\n",
    "\n",
    "Кроме того, класс Employee переопределяет метод display_info() класса Person, поскольку кроме имени и возраста необходимо выводить еще и компанию, в которой работает служащий. И чтобы повторно не писать код вывода имени и возраста здесь также происходит обращение к методу базового класса - методу get_info: Person.display_info(self).\n",
    "\n",
    "Похожим образом определен класс Student, представляющий студента. Он также переопределяет конструктор и метод display_info за тем исключением, что вместо в методе display_info не вызывается версия этого метода из базового класса.\n",
    "\n",
    "В основной части программы создается список из трех объектов Person, в котором два объекта также представляют классы Employee и Student. И в цикле этот список перебирается, и для каждого объекта в списке вызывается метод display_info. На этапе выполнения программы Python учитывает иерархию наследования и выбирает нужную версию метода display_info() для каждого объекта. В итоге мы получим следующий консольный вывод:"
   ]
  },
  {
   "cell_type": "markdown",
   "id": "80666eaa",
   "metadata": {},
   "source": [
    "### Проверка типа объекта\n",
    "\n",
    "При работе с объектами бывает необходимо в зависимости от их типа выполнить те или иные операции. И с помощью встроенной функции isinstance() мы можем проверить тип объекта. Эта функция принимает два параметра:"
   ]
  },
  {
   "cell_type": "code",
   "execution_count": null,
   "id": "a022ca22",
   "metadata": {},
   "outputs": [],
   "source": [
    "isinstance(object, type)"
   ]
  },
  {
   "cell_type": "markdown",
   "id": "7c80a6ee",
   "metadata": {},
   "source": [
    "Первый параметр представляет объект, а второй - тип, на принадлежность к которому выполняется проверка. Если объект представляет указанный тип, то функция возвращает True. Например, возьмем выше описанную иерархию классов:"
   ]
  },
  {
   "cell_type": "code",
   "execution_count": 89,
   "id": "23c5f4f5",
   "metadata": {},
   "outputs": [
    {
     "name": "stdout",
     "output_type": "stream",
     "text": [
      "False\n"
     ]
    }
   ],
   "source": [
    "person = Person('Mark', 23) \n",
    "\n",
    "print(isinstance(person, Student))"
   ]
  },
  {
   "cell_type": "code",
   "execution_count": 91,
   "id": "063ff83e",
   "metadata": {},
   "outputs": [
    {
     "name": "stdout",
     "output_type": "stream",
     "text": [
      "Tom\n",
      "\n",
      "Harvard\n",
      "True\n",
      "\n",
      "Google\n",
      "\n"
     ]
    }
   ],
   "source": [
    "for person in people:\n",
    "    if isinstance(person, Student):\n",
    "        print(person.university)\n",
    "        print(True)\n",
    "    elif isinstance(person, Employee):\n",
    "        print(person.company)\n",
    "    else:\n",
    "        print(person.name)\n",
    "    print()"
   ]
  },
  {
   "cell_type": "code",
   "execution_count": null,
   "id": "b8551d05",
   "metadata": {},
   "outputs": [],
   "source": []
  }
 ],
 "metadata": {
  "kernelspec": {
   "display_name": "Python 3 (ipykernel)",
   "language": "python",
   "name": "python3"
  },
  "language_info": {
   "codemirror_mode": {
    "name": "ipython",
    "version": 3
   },
   "file_extension": ".py",
   "mimetype": "text/x-python",
   "name": "python",
   "nbconvert_exporter": "python",
   "pygments_lexer": "ipython3",
   "version": "3.8.10"
  }
 },
 "nbformat": 4,
 "nbformat_minor": 5
}