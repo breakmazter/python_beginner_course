{
 "cells": [
  {
   "cell_type": "markdown",
   "id": "12fceddc",
   "metadata": {},
   "source": [
    "#                                    Основы языка Python"
   ]
  },
  {
   "cell_type": "code",
   "execution_count": 2,
   "id": "ece710a6",
   "metadata": {},
   "outputs": [
    {
     "name": "stdout",
     "output_type": "stream",
     "text": [
      "The Zen of Python, by Tim Peters\n",
      "\n",
      "Beautiful is better than ugly.\n",
      "Explicit is better than implicit.\n",
      "Simple is better than complex.\n",
      "Complex is better than complicated.\n",
      "Flat is better than nested.\n",
      "Sparse is better than dense.\n",
      "Readability counts.\n",
      "Special cases aren't special enough to break the rules.\n",
      "Although practicality beats purity.\n",
      "Errors should never pass silently.\n",
      "Unless explicitly silenced.\n",
      "In the face of ambiguity, refuse the temptation to guess.\n",
      "There should be one-- and preferably only one --obvious way to do it.\n",
      "Although that way may not be obvious at first unless you're Dutch.\n",
      "Now is better than never.\n",
      "Although never is often better than *right* now.\n",
      "If the implementation is hard to explain, it's a bad idea.\n",
      "If the implementation is easy to explain, it may be a good idea.\n",
      "Namespaces are one honking great idea -- let's do more of those!\n"
     ]
    }
   ],
   "source": [
    "import this"
   ]
  },
  {
   "cell_type": "code",
   "execution_count": 141,
   "id": "d8d137c7",
   "metadata": {},
   "outputs": [
    {
     "name": "stdout",
     "output_type": "stream",
     "text": [
      "314159\n",
      "-314159\n"
     ]
    }
   ],
   "source": [
    "infinity = float(\"inf\")\n",
    "\n",
    "print(hash(infinity))\n",
    "print(hash(float('-inf')))"
   ]
  },
  {
   "cell_type": "code",
   "execution_count": 5,
   "id": "edcd4c48",
   "metadata": {},
   "outputs": [
    {
     "ename": "ValueError",
     "evalue": "could not convert string to float: 'infrercd'",
     "output_type": "error",
     "traceback": [
      "\u001B[0;31m---------------------------------------------------------------------------\u001B[0m",
      "\u001B[0;31mValueError\u001B[0m                                Traceback (most recent call last)",
      "\u001B[0;32m/tmp/ipykernel_9543/417073878.py\u001B[0m in \u001B[0;36m<module>\u001B[0;34m\u001B[0m\n\u001B[0;32m----> 1\u001B[0;31m \u001B[0minfinity\u001B[0m \u001B[0;34m=\u001B[0m \u001B[0mfloat\u001B[0m\u001B[0;34m(\u001B[0m\u001B[0;34m\"infrercd\"\u001B[0m\u001B[0;34m)\u001B[0m\u001B[0;34m\u001B[0m\u001B[0;34m\u001B[0m\u001B[0m\n\u001B[0m\u001B[1;32m      2\u001B[0m \u001B[0minfinity\u001B[0m\u001B[0;34m\u001B[0m\u001B[0;34m\u001B[0m\u001B[0m\n",
      "\u001B[0;31mValueError\u001B[0m: could not convert string to float: 'infrercd'"
     ]
    }
   ],
   "source": [
    "infinity = float(\"inf\")\n",
    "infinity"
   ]
  },
  {
   "cell_type": "code",
   "execution_count": 1,
   "id": "498944bc",
   "metadata": {},
   "outputs": [
    {
     "data": {
      "text/plain": [
       "inf"
      ]
     },
     "execution_count": 1,
     "metadata": {},
     "output_type": "execute_result"
    }
   ],
   "source": [
    "float('inf')"
   ]
  },
  {
   "cell_type": "code",
   "execution_count": 6,
   "id": "b7800165",
   "metadata": {},
   "outputs": [
    {
     "data": {
      "text/plain": [
       "0.0"
      ]
     },
     "execution_count": 6,
     "metadata": {},
     "output_type": "execute_result"
    }
   ],
   "source": [
    "3 / infinity"
   ]
  },
  {
   "cell_type": "code",
   "execution_count": 142,
   "id": "9c1ef3cf",
   "metadata": {},
   "outputs": [
    {
     "data": {
      "text/plain": [
       "inf"
      ]
     },
     "execution_count": 142,
     "metadata": {},
     "output_type": "execute_result"
    }
   ],
   "source": [
    "45 * infinity"
   ]
  },
  {
   "cell_type": "code",
   "execution_count": null,
   "id": "9e8926ff",
   "metadata": {},
   "outputs": [],
   "source": [
    "x = 34"
   ]
  },
  {
   "cell_type": "code",
   "execution_count": 7,
   "id": "a26df7d0",
   "metadata": {},
   "outputs": [],
   "source": [
    "x = y = z = r = q = 1"
   ]
  },
  {
   "cell_type": "code",
   "execution_count": 8,
   "id": "9e705d1d",
   "metadata": {},
   "outputs": [],
   "source": [
    "num1 = num2 = 3"
   ]
  },
  {
   "cell_type": "markdown",
   "id": "e1c4a4d4",
   "metadata": {},
   "source": [
    "## Побитовые операции"
   ]
  },
  {
   "cell_type": "markdown",
   "id": "23129581",
   "metadata": {},
   "source": [
    "Язык Python поддерживает работу с двоичными разрядами (битами) целочисленных величин, где каждый бит числа рассматривается в отдельности. Для обеспечения этого в Python используются так называемые битовые или поразрядные операторы, которые реализуют общеизвестные битовые операции. Поддержка битовых операторов есть также в других языках программирования.\n",
    "\n",
    "В битовых операторах (операциях) каждый операнд рассматривается как последовательность двоичных разрядов (бит), которые принимают значение 0 или 1 (двоичная система исчисления). Над этими разрядами можно выполнять известные операции (логическое «И», логическое «ИЛИ» и т.д.)\n",
    "\n",
    "Перечень битовых операторов языка Python в порядке убывания приоритета следующий:"
   ]
  },
  {
   "cell_type": "markdown",
   "id": "6ddcc207",
   "metadata": {},
   "source": [
    "* ~ – битовый оператор НЕТ (инверсия, наивысший приоритет);\n",
    "* <<, >> – операторы сдвига влево или сдвига вправо на заданное количество бит;\n",
    "* & – битовый оператор И (AND);\n",
    "* ^ – битовое исключающее ИЛИ (XOR);\n",
    "* | – битовый оператор ИЛИ (OR)."
   ]
  },
  {
   "cell_type": "markdown",
   "id": "83cf3ab1",
   "metadata": {},
   "source": [
    "### Битовый оператор ~ НЕТ - инверсия"
   ]
  },
  {
   "cell_type": "markdown",
   "id": "07ad855a",
   "metadata": {},
   "source": [
    "Побитовое отрицание (или побитовое НЕ, дополнение) — унарная операция, действие которой эквивалентно применению логического отрицания к каждому биту двоичного представления операнда. Другими словами, на той позиции, где в двоичном представлении операнда был 0, в результате будет 1, и, наоборот, где была 1, там будет 0."
   ]
  },
  {
   "cell_type": "markdown",
   "id": "d2759c19",
   "metadata": {},
   "source": [
    "~a = -(a+1)"
   ]
  },
  {
   "cell_type": "code",
   "execution_count": 1,
   "id": "118d2082",
   "metadata": {},
   "outputs": [
    {
     "name": "stdout",
     "output_type": "stream",
     "text": [
      "a=13, b=-14, c=-0b1110\n",
      "\n",
      " ~0b1101 = -0b1110 \n",
      "\n",
      "a=-13, b=12, c=0b1100\n",
      "\n",
      " ~-0b1101 = 0b1100 \n",
      "\n",
      "a=15, b=-16, c=-0b10000\n",
      "\n",
      " ~0b1111 = -0b10000 \n",
      "\n",
      "a=-15, b=14, c=0b1110\n",
      "\n",
      " ~-0b1111 = 0b1110 \n",
      "\n"
     ]
    }
   ],
   "source": [
    "a = 0b1101     # a = 13 в десятичной системе\n",
    "b = ~a         # b = -14 - в десятичной системе\n",
    "c = bin(b)     # c = -0b1110 - в двоичной системе\n",
    "\n",
    "print(f\"a={a}, b={b}, c={c}\")\n",
    "print(f\"\\n ~{bin(a)} = {c} \\n\")\n",
    "\n",
    "a = -0b1101    # a = -13 в десятичной системе\n",
    "b = ~a         # b = 12 - в десятичной системе\n",
    "c = bin(b)     # c = 0b1100 - в двоичной системе\n",
    "\n",
    "print(f\"a={a}, b={b}, c={c}\")\n",
    "print(f\"\\n ~{bin(a)} = {c} \\n\")\n",
    "\n",
    "a = 0b1111     # a = 15 - в десятичной системе\n",
    "b = ~a         # b = -16 - в десятичной системе\n",
    "c = bin(b)     # c = -0b10000 - в двоичной системе\n",
    "\n",
    "print(f\"a={a}, b={b}, c={c}\")\n",
    "print(f\"\\n ~{bin(a)} = {c} \\n\")\n",
    "\n",
    "a = -0b1111    # a = -15 - в десятичной системе\n",
    "b = ~a         # b = 14 - в десятичной системе\n",
    "c = bin(b)     # c = 0b1110 - в двоичной системе\n",
    "\n",
    "print(f\"a={a}, b={b}, c={c}\")\n",
    "print(f\"\\n ~{bin(a)} = {c} \\n\")"
   ]
  },
  {
   "cell_type": "markdown",
   "id": "aaca9f80",
   "metadata": {},
   "source": [
    "### Операторы сдвига влево <<, вправо >>."
   ]
  },
  {
   "cell_type": "markdown",
   "id": "962871a6",
   "metadata": {},
   "source": [
    "Операторы сдвига влево << и сдвига вправо >> сдвигают каждый бит на одну или несколько позиций влево или вправо. Общая форма операторов следующая."
   ]
  },
  {
   "cell_type": "markdown",
   "id": "f8c40724",
   "metadata": {},
   "source": [
    "op1 << op2 или op1 >> op2"
   ]
  },
  {
   "cell_type": "markdown",
   "id": "35831093",
   "metadata": {},
   "source": [
    "Работа операций: \n",
    "    сдвига влево << (умножение на 2); \n",
    "    сдвига вправо >> (целочисленное деление на 2)"
   ]
  },
  {
   "cell_type": "markdown",
   "id": "6b905d11",
   "metadata": {},
   "source": [
    "Если нужно помножить число на 16, то нужно сдвинуть это число на 4 бита влево. Если нужно разделить число на 8, то нужно сдвинуть это число на 3 бита вправо. Скорость выполнения операций сдвига выше в сравнении с операциями умножения и деления на числа кратные 2 в степени N (N – количество сдвинутых бит)."
   ]
  },
  {
   "cell_type": "code",
   "execution_count": 33,
   "id": "8f0275fd",
   "metadata": {},
   "outputs": [
    {
     "name": "stdout",
     "output_type": "stream",
     "text": [
      "x = 5\n",
      "y = x << 3 = 40\n",
      "x = 25\n",
      "y = x>>2 = 6\n"
     ]
    }
   ],
   "source": [
    "x = 5                  # сдвиг влево на 3 знака, умножение на 2**3 = 8\n",
    "y = x << 3             # y = x * 2**3 = 40\n",
    "\n",
    "print(f\"x = {x}\")\n",
    "print(f\"y = x << 3 = {y}\")\n",
    "\n",
    "\n",
    "x = 25                 # сдвиг вправо на 2 знака, целочисленное деление на 2**2 = 4\n",
    "y = x >> 2             # y = x // 2**2 = 6\n",
    "\n",
    "print(f\"x = {x}\")\n",
    "print(f\"y = x>>2 = {y}\")"
   ]
  },
  {
   "cell_type": "markdown",
   "id": "1135d9ac",
   "metadata": {},
   "source": [
    "### Битовый оператор & (И, AND). "
   ]
  },
  {
   "cell_type": "markdown",
   "id": "4020d858",
   "metadata": {},
   "source": [
    "Битовый оператор И (AND) есть бинарным и выполняет побитовое «И» для каждой пары битов операндов, которые размещаются слева и справа от знака оператора &. Общая форма оператора следующая"
   ]
  },
  {
   "cell_type": "markdown",
   "id": "707889a9",
   "metadata": {},
   "source": [
    "op1 & op2"
   ]
  },
  {
   "cell_type": "markdown",
   "id": "3257ef92",
   "metadata": {},
   "source": [
    "Каждый целочисленный операнд рассматривается как набор бит, над любым из которых выполняется побитовая операция «И»."
   ]
  },
  {
   "cell_type": "markdown",
   "id": "1007ddc6",
   "metadata": {},
   "source": [
    "* 0 & 0 = 0\n",
    "* 0 & 1 = 0\n",
    "* 1 & 0 = 0\n",
    "* 1 & 1 = 1"
   ]
  },
  {
   "cell_type": "code",
   "execution_count": 35,
   "id": "3eecaccf",
   "metadata": {},
   "outputs": [
    {
     "name": "stdout",
     "output_type": "stream",
     "text": [
      "x =  37 y =  58 z =  32\n",
      "x =  43 y =  101 z =  33\n"
     ]
    }
   ],
   "source": [
    "x = 37\n",
    "y = 58\n",
    "z = x & y # z = 32\n",
    "\n",
    "print(\"x = \", x, \"y = \", y, \"z = \", z)\n",
    "\n",
    "\n",
    "x = 43\n",
    "y = 101\n",
    "z = x & y # z = 33\n",
    "\n",
    "print(\"x = \", x, \"y = \", y, \"z = \", z)"
   ]
  },
  {
   "cell_type": "markdown",
   "id": "97460bbd",
   "metadata": {},
   "source": [
    "### Битовый оператор | ИЛИ (OR)."
   ]
  },
  {
   "cell_type": "markdown",
   "id": "0c206604",
   "metadata": {},
   "source": [
    "Битовый оператор ИЛИ (OR) есть бинарным и обозначается символом |. Оператор реализует побитовое логическое сложение."
   ]
  },
  {
   "cell_type": "markdown",
   "id": "6649f3c9",
   "metadata": {},
   "source": [
    "Общая форма битового оператора | следующая\n",
    "\n",
    "op1 | op2"
   ]
  },
  {
   "cell_type": "markdown",
   "id": "14a33e91",
   "metadata": {},
   "source": [
    "* 0 | 0 = 0\n",
    "* 0 | 1 = 1\n",
    "* 1 | 0 = 1\n",
    "* 1 | 1 = 1"
   ]
  },
  {
   "cell_type": "code",
   "execution_count": 37,
   "id": "79ab8df6",
   "metadata": {},
   "outputs": [
    {
     "name": "stdout",
     "output_type": "stream",
     "text": [
      "x =  37 y =  58 z =  63\n",
      "x =  43 y =  101 z =  111\n"
     ]
    }
   ],
   "source": [
    "x = 37\n",
    "y = 58\n",
    "z = x | y # z = 63\n",
    "\n",
    "print(\"x = \", x, \"y = \", y, \"z = \", z)\n",
    "\n",
    "\n",
    "x = 43\n",
    "y = 101\n",
    "z = x | y # z = 111\n",
    "\n",
    "print(\"x = \", x, \"y = \", y, \"z = \", z)"
   ]
  },
  {
   "cell_type": "markdown",
   "id": "2d4e0c8e",
   "metadata": {},
   "source": [
    "### Битовый оператор ^ (исключающее ИЛИ, XOR). "
   ]
  },
  {
   "cell_type": "markdown",
   "id": "b1be1ab2",
   "metadata": {},
   "source": [
    "Битовый оператор исключительное ИЛИ обозначается символом ^ и выполняет операцию сложения по модулю 2 для любого бита операндов. Общая форма оператора следующая"
   ]
  },
  {
   "cell_type": "markdown",
   "id": "baf8c5b9",
   "metadata": {},
   "source": [
    "op1 ^ op2"
   ]
  },
  {
   "cell_type": "markdown",
   "id": "95345593",
   "metadata": {},
   "source": [
    "Оператор исключающего ИЛИ (XOR) оперирует двоичными разрядами. Каждый операнд рассматривается как последовательность бит. Результат побитового исключающего ИЛИ определяется по следующим формулам"
   ]
  },
  {
   "cell_type": "markdown",
   "id": "8b97ddeb",
   "metadata": {},
   "source": [
    "* 0 ^ 0 = 0\n",
    "* 0 ^ 1 = 1\n",
    "* 1 ^ 0 = 1\n",
    "* 1 ^ 1 = 0"
   ]
  },
  {
   "cell_type": "code",
   "execution_count": 39,
   "id": "fefae749",
   "metadata": {},
   "outputs": [
    {
     "name": "stdout",
     "output_type": "stream",
     "text": [
      "x =  37 y =  58 z =  31\n",
      "x =  43 y =  101 z =  78\n"
     ]
    }
   ],
   "source": [
    "x = 37\n",
    "y = 58\n",
    "z = x ^ y # z = 31\n",
    "\n",
    "print(\"x = \", x, \"y = \", y, \"z = \", z)\n",
    "\n",
    "\n",
    "x = 43\n",
    "y = 101\n",
    "z = x ^ y # z = 78\n",
    "\n",
    "print(\"x = \", x, \"y = \", y, \"z = \", z)"
   ]
  },
  {
   "cell_type": "markdown",
   "id": "6ce98467",
   "metadata": {},
   "source": [
    "### Функции hex(), bin(), oct(), int()"
   ]
  },
  {
   "cell_type": "markdown",
   "id": "f1a1affc",
   "metadata": {},
   "source": [
    "Преобразование из шестнадцатеричного в десятичное осуществляется путем добавления префикса 0x к шестнадцатеричному значению или наоборот с использованием встроенного hex(), восьмеричного в десятичное путем добавления префикса 0o к восьмеричному значению или наоборот с использованием встроенной функции oct()."
   ]
  },
  {
   "cell_type": "code",
   "execution_count": 10,
   "id": "689131cd",
   "metadata": {},
   "outputs": [
    {
     "name": "stdout",
     "output_type": "stream",
     "text": [
      "<class 'int'>\n"
     ]
    }
   ],
   "source": [
    "a = 0x123\n",
    "print(type(a))"
   ]
  },
  {
   "cell_type": "code",
   "execution_count": 55,
   "id": "4947ce92",
   "metadata": {},
   "outputs": [
    {
     "data": {
      "text/plain": [
       "170"
      ]
     },
     "execution_count": 55,
     "metadata": {},
     "output_type": "execute_result"
    }
   ],
   "source": [
    "0xAA"
   ]
  },
  {
   "cell_type": "code",
   "execution_count": 11,
   "id": "ee0db406",
   "metadata": {},
   "outputs": [
    {
     "data": {
      "text/plain": [
       "'0o10'"
      ]
     },
     "execution_count": 11,
     "metadata": {},
     "output_type": "execute_result"
    }
   ],
   "source": [
    "oct(8)"
   ]
  },
  {
   "cell_type": "code",
   "execution_count": 12,
   "id": "62616860",
   "metadata": {},
   "outputs": [
    {
     "data": {
      "text/plain": [
       "8"
      ]
     },
     "execution_count": 12,
     "metadata": {},
     "output_type": "execute_result"
    }
   ],
   "source": [
    "0o10"
   ]
  },
  {
   "cell_type": "code",
   "execution_count": 21,
   "id": "0c060df4",
   "metadata": {},
   "outputs": [
    {
     "data": {
      "text/plain": [
       "'0b100010'"
      ]
     },
     "execution_count": 21,
     "metadata": {},
     "output_type": "execute_result"
    }
   ],
   "source": [
    "bin(34)"
   ]
  },
  {
   "cell_type": "markdown",
   "id": "c0290d7a",
   "metadata": {},
   "source": [
    "int() принимает два значения при использовании для преобразования: одно - это значение в другой системе счисления, а другое - его основание."
   ]
  },
  {
   "cell_type": "code",
   "execution_count": 13,
   "id": "6c3bd2f0",
   "metadata": {},
   "outputs": [
    {
     "data": {
      "text/plain": [
       "2"
      ]
     },
     "execution_count": 13,
     "metadata": {},
     "output_type": "execute_result"
    }
   ],
   "source": [
    "int('2')"
   ]
  },
  {
   "cell_type": "code",
   "execution_count": 22,
   "id": "8dc12dc4",
   "metadata": {},
   "outputs": [
    {
     "name": "stdout",
     "output_type": "stream",
     "text": [
      "8\n",
      "170\n",
      "10\n"
     ]
    }
   ],
   "source": [
    "print(int('0o10', 8))\n",
    "print(int('0xaa', 16))\n",
    "print(int('1010', 2))"
   ]
  },
  {
   "cell_type": "markdown",
   "id": "51f45db8",
   "metadata": {},
   "source": [
    "### Задачки"
   ]
  },
  {
   "cell_type": "markdown",
   "id": "b5f17750",
   "metadata": {},
   "source": [
    "1) Запишите число $2^k,$ то есть число, у которого k-й бит равен 1, а остальные — нули."
   ]
  },
  {
   "cell_type": "code",
   "execution_count": 14,
   "id": "0ff295fb",
   "metadata": {},
   "outputs": [
    {
     "data": {
      "text/plain": [
       "256"
      ]
     },
     "execution_count": 14,
     "metadata": {},
     "output_type": "execute_result"
    }
   ],
   "source": [
    "1 << 8"
   ]
  },
  {
   "cell_type": "code",
   "execution_count": 15,
   "id": "f47083f1",
   "metadata": {},
   "outputs": [
    {
     "data": {
      "text/plain": [
       "256"
      ]
     },
     "execution_count": 15,
     "metadata": {},
     "output_type": "execute_result"
    }
   ],
   "source": [
    "2**8"
   ]
  },
  {
   "cell_type": "markdown",
   "id": "9e050a9e",
   "metadata": {},
   "source": [
    "2) Даны два неравных целых неотрицательных числа: k и n. Вычислите $2^k + 2^n.$"
   ]
  },
  {
   "cell_type": "code",
   "execution_count": null,
   "id": "f200fa3b",
   "metadata": {},
   "outputs": [],
   "source": []
  },
  {
   "cell_type": "markdown",
   "id": "3c0e0b6b",
   "metadata": {},
   "source": [
    "3) Дано целое число A и целое неотрицательное число число k. Обнулите у числа A его последние k бит и выведите результат. "
   ]
  },
  {
   "cell_type": "markdown",
   "id": "4e5b2f6f",
   "metadata": {},
   "source": [
    "### Функции round(), abs(), divmod(), pow()"
   ]
  },
  {
   "cell_type": "markdown",
   "id": "b1d5073b",
   "metadata": {},
   "source": [
    "Функция round() округляет входное значение до указанного количества разрядов или до ближайшего целого числа."
   ]
  },
  {
   "cell_type": "code",
   "execution_count": 18,
   "id": "7fe087f3",
   "metadata": {},
   "outputs": [
    {
     "name": "stdout",
     "output_type": "stream",
     "text": [
      "6\n",
      "4.55\n"
     ]
    }
   ],
   "source": [
    "print(round(5.523121)) \n",
    "print(round(4.55492, 2))"
   ]
  },
  {
   "cell_type": "code",
   "execution_count": 24,
   "id": "978d5a1c",
   "metadata": {},
   "outputs": [
    {
     "name": "stdout",
     "output_type": "stream",
     "text": [
      "8\n"
     ]
    }
   ],
   "source": [
    "print(round(8.5))"
   ]
  },
  {
   "cell_type": "code",
   "execution_count": 25,
   "id": "f3f0607d",
   "metadata": {},
   "outputs": [
    {
     "data": {
      "text/plain": [
       "0.9999999999999999"
      ]
     },
     "execution_count": 25,
     "metadata": {},
     "output_type": "execute_result"
    }
   ],
   "source": [
    "0.1 + 0.1 + 0.1 + 0.1 + 0.1 + 0.1 + 0.1 + 0.1 + 0.1 + 0.1"
   ]
  },
  {
   "cell_type": "markdown",
   "id": "34831675",
   "metadata": {},
   "source": [
    "Она не всегда работает так, как ожидается, а её алгоритм различается в разных версиях Python."
   ]
  },
  {
   "cell_type": "markdown",
   "id": "d73def39",
   "metadata": {},
   "source": [
    "В третьей версии Python используется банковское округление. Это значит, что округление происходит до самого близкого чётного.\n",
    "\n",
    "Такой подход не избавляет от ошибок полностью, но уменьшает шанс их возникновения и позволяет программисту добиться большей точности при вычислениях."
   ]
  },
  {
   "cell_type": "code",
   "execution_count": 101,
   "id": "3efb3a6b",
   "metadata": {},
   "outputs": [
    {
     "name": "stdout",
     "output_type": "stream",
     "text": [
      "round(2.65, 1) = 2.6\n",
      "round(2.85, 1) = 2.9\n"
     ]
    }
   ],
   "source": [
    "a = round(2.65, 1) # a = 2.6\n",
    "b = round(2.85, 1) # b = 2.9\n",
    "\n",
    "print(f\"round(2.65, 1) = {a}\")\n",
    "print(f\"round(2.85, 1) = {b}\")"
   ]
  },
  {
   "cell_type": "markdown",
   "id": "42cb19e5",
   "metadata": {},
   "source": [
    "Почему в одном случае округляется вниз, а в другом вверх? При переводе 2.85 в двоичную систему получается число, которое немного больше. Поэтому функция видит не «5», а «>5» и округляет вверх."
   ]
  },
  {
   "cell_type": "code",
   "execution_count": 106,
   "id": "0635196d",
   "metadata": {},
   "outputs": [
    {
     "name": "stdout",
     "output_type": "stream",
     "text": [
      "0.1\n"
     ]
    }
   ],
   "source": [
    "print(0.1)"
   ]
  },
  {
   "cell_type": "markdown",
   "id": "e41bd745",
   "metadata": {},
   "source": [
    "Из-за подобных ошибок числа типа «float» нельзя использовать там, где изменения значения на одну тысячную может привести к неверному результату. Решить данную проблему поможет модуль decimal."
   ]
  },
  {
   "cell_type": "markdown",
   "id": "ddd6ebf3",
   "metadata": {},
   "source": [
    "abs() выводит абсолютное значение."
   ]
  },
  {
   "cell_type": "code",
   "execution_count": 45,
   "id": "29cf0c3e",
   "metadata": {},
   "outputs": [
    {
     "name": "stdout",
     "output_type": "stream",
     "text": [
      "3\n",
      "3.1622776601683795\n"
     ]
    }
   ],
   "source": [
    "a = -3\n",
    "print(abs(a))\n",
    "\n",
    "b = 3+1j\n",
    "print(abs(b))"
   ]
  },
  {
   "cell_type": "markdown",
   "id": "58aeca5b",
   "metadata": {},
   "source": [
    "divmod(x, y) выводит частное и остаток в кортеже."
   ]
  },
  {
   "cell_type": "code",
   "execution_count": 26,
   "id": "d6a6582b",
   "metadata": {},
   "outputs": [],
   "source": [
    "a = divmod(9, 2)"
   ]
  },
  {
   "cell_type": "code",
   "execution_count": 27,
   "id": "aebb7cb5",
   "metadata": {},
   "outputs": [
    {
     "data": {
      "text/plain": [
       "(4, 1)"
      ]
     },
     "execution_count": 27,
     "metadata": {},
     "output_type": "execute_result"
    }
   ],
   "source": [
    "a"
   ]
  },
  {
   "cell_type": "code",
   "execution_count": 29,
   "id": "e532f9bd",
   "metadata": {},
   "outputs": [
    {
     "data": {
      "text/plain": [
       "1"
      ]
     },
     "execution_count": 29,
     "metadata": {},
     "output_type": "execute_result"
    }
   ],
   "source": [
    "9%2"
   ]
  },
  {
   "cell_type": "code",
   "execution_count": 30,
   "id": "f9c936b4",
   "metadata": {},
   "outputs": [
    {
     "data": {
      "text/plain": [
       "81"
      ]
     },
     "execution_count": 30,
     "metadata": {},
     "output_type": "execute_result"
    }
   ],
   "source": [
    "3**4"
   ]
  },
  {
   "cell_type": "markdown",
   "id": "2b7047b8",
   "metadata": {},
   "source": [
    "pow (x, y, z) можно использовать для нахождения степени $x^y$, также можно найти модуль результирующего значения с третьим указанным числом, то есть: $(x ^ y$  mod z)."
   ]
  },
  {
   "cell_type": "code",
   "execution_count": 31,
   "id": "1d279c63",
   "metadata": {},
   "outputs": [
    {
     "name": "stdout",
     "output_type": "stream",
     "text": [
      "27\n",
      "2\n"
     ]
    }
   ],
   "source": [
    "print(pow(3, 3))\n",
    "print(pow(3, 3, 5))"
   ]
  },
  {
   "cell_type": "code",
   "execution_count": 56,
   "id": "e1996515",
   "metadata": {},
   "outputs": [
    {
     "name": "stdout",
     "output_type": "stream",
     "text": [
      "CPU times: user 3 µs, sys: 0 ns, total: 3 µs\n",
      "Wall time: 6.2 µs\n"
     ]
    },
    {
     "data": {
      "text/plain": [
       "81"
      ]
     },
     "execution_count": 56,
     "metadata": {},
     "output_type": "execute_result"
    }
   ],
   "source": [
    "%time\n",
    "a = input()\n",
    "\n",
    "pow(3, 4)"
   ]
  },
  {
   "cell_type": "code",
   "execution_count": 57,
   "id": "964b5ddb",
   "metadata": {},
   "outputs": [
    {
     "name": "stdout",
     "output_type": "stream",
     "text": [
      "CPU times: user 4 µs, sys: 0 ns, total: 4 µs\n",
      "Wall time: 5.96 µs\n"
     ]
    },
    {
     "data": {
      "text/plain": [
       "81"
      ]
     },
     "execution_count": 57,
     "metadata": {},
     "output_type": "execute_result"
    }
   ],
   "source": [
    "%time\n",
    "3 ** 4 "
   ]
  },
  {
   "cell_type": "markdown",
   "id": "89ebf330",
   "metadata": {},
   "source": [
    "### Библиотека math"
   ]
  },
  {
   "cell_type": "code",
   "execution_count": 32,
   "id": "64cef59b",
   "metadata": {},
   "outputs": [
    {
     "ename": "NameError",
     "evalue": "name 'sin' is not defined",
     "output_type": "error",
     "traceback": [
      "\u001B[0;31m---------------------------------------------------------------------------\u001B[0m",
      "\u001B[0;31mNameError\u001B[0m                                 Traceback (most recent call last)",
      "\u001B[0;32m/tmp/ipykernel_9543/2968770010.py\u001B[0m in \u001B[0;36m<module>\u001B[0;34m\u001B[0m\n\u001B[0;32m----> 1\u001B[0;31m \u001B[0ma\u001B[0m \u001B[0;34m=\u001B[0m \u001B[0msin\u001B[0m\u001B[0;34m(\u001B[0m\u001B[0;36m3\u001B[0m\u001B[0;34m)\u001B[0m\u001B[0;34m\u001B[0m\u001B[0;34m\u001B[0m\u001B[0m\n\u001B[0m",
      "\u001B[0;31mNameError\u001B[0m: name 'sin' is not defined"
     ]
    }
   ],
   "source": [
    "a = sin(3)"
   ]
  },
  {
   "cell_type": "code",
   "execution_count": 33,
   "id": "56689ff8",
   "metadata": {},
   "outputs": [
    {
     "ename": "NameError",
     "evalue": "name 'log' is not defined",
     "output_type": "error",
     "traceback": [
      "\u001B[0;31m---------------------------------------------------------------------------\u001B[0m",
      "\u001B[0;31mNameError\u001B[0m                                 Traceback (most recent call last)",
      "\u001B[0;32m/tmp/ipykernel_9543/3146096967.py\u001B[0m in \u001B[0;36m<module>\u001B[0;34m\u001B[0m\n\u001B[0;32m----> 1\u001B[0;31m \u001B[0mb\u001B[0m \u001B[0;34m=\u001B[0m \u001B[0mlog\u001B[0m\u001B[0;34m(\u001B[0m\u001B[0;36m100\u001B[0m\u001B[0;34m)\u001B[0m\u001B[0;34m\u001B[0m\u001B[0;34m\u001B[0m\u001B[0m\n\u001B[0m",
      "\u001B[0;31mNameError\u001B[0m: name 'log' is not defined"
     ]
    }
   ],
   "source": [
    "b = log(100)"
   ]
  },
  {
   "cell_type": "markdown",
   "id": "fa10ddc7",
   "metadata": {},
   "source": [
    "Все, что не предусмотрено базовым Python, может быть предоставлено модулями и пакетами. Модуль - это файл, содержащий функции и определения, которые мы можем включать и использовать в нашем коде. Пакет - это набор модулей. Они не включены по умолчанию, чтобы уменьшить накладные расходы.\n",
    "\n",
    "Чтобы использовать пакет, мы должны его импортировать. Посмотрим на математический пакет."
   ]
  },
  {
   "cell_type": "code",
   "execution_count": 35,
   "id": "f21cb8f4",
   "metadata": {},
   "outputs": [],
   "source": [
    "import math"
   ]
  },
  {
   "cell_type": "code",
   "execution_count": 36,
   "id": "c39e82b7",
   "metadata": {},
   "outputs": [
    {
     "name": "stdout",
     "output_type": "stream",
     "text": [
      "sin(3) = 0.1411200080598672\n"
     ]
    }
   ],
   "source": [
    "a = math.sin(3)\n",
    "print(f\"sin(3) = {a}\")"
   ]
  },
  {
   "cell_type": "code",
   "execution_count": 62,
   "id": "5507f5b5",
   "metadata": {},
   "outputs": [
    {
     "name": "stdout",
     "output_type": "stream",
     "text": [
      "log(100) = 4.605170185988092\n"
     ]
    }
   ],
   "source": [
    "b = math.log(100)\n",
    "print(f\"log(100) = {b}\")"
   ]
  },
  {
   "cell_type": "markdown",
   "id": "662997b5",
   "metadata": {},
   "source": [
    "Чтобы использовать пакет, мы набрали import <package>, где в данном случае <package> - math. Затем мы можем использовать функции из этого пакета, набрав <package>. <function>, как здесь, когда <function> имеет значение log или sin.\n",
    "\n",
    "Точечная нотация может показаться раздражающей, и ее можно избежать, указав, какие функции и константы мы хотим использовать. Например, мы могли бы просто получить функцию журнала и использовать ее:"
   ]
  },
  {
   "cell_type": "code",
   "execution_count": 37,
   "id": "be48e680",
   "metadata": {},
   "outputs": [],
   "source": [
    "from math import log, sin, cos"
   ]
  },
  {
   "cell_type": "code",
   "execution_count": 38,
   "id": "24ca9a33",
   "metadata": {},
   "outputs": [
    {
     "name": "stdout",
     "output_type": "stream",
     "text": [
      "log(100) = 4.605170185988092\n"
     ]
    }
   ],
   "source": [
    "b = log(100)\n",
    "print(f\"log(100) = {b}\")"
   ]
  },
  {
   "cell_type": "code",
   "execution_count": 43,
   "id": "36798c91",
   "metadata": {},
   "outputs": [],
   "source": [
    "from math import *"
   ]
  },
  {
   "cell_type": "code",
   "execution_count": 44,
   "id": "8abbdb30",
   "metadata": {},
   "outputs": [
    {
     "data": {
      "text/plain": [
       "-0.4161468365471424"
      ]
     },
     "execution_count": 44,
     "metadata": {},
     "output_type": "execute_result"
    }
   ],
   "source": [
    "cos(2)"
   ]
  },
  {
   "cell_type": "code",
   "execution_count": 41,
   "id": "53a9d990",
   "metadata": {},
   "outputs": [],
   "source": [
    "import math"
   ]
  },
  {
   "cell_type": "code",
   "execution_count": 42,
   "id": "e0a90530",
   "metadata": {},
   "outputs": [
    {
     "data": {
      "text/plain": [
       "-0.4161468365471424"
      ]
     },
     "execution_count": 42,
     "metadata": {},
     "output_type": "execute_result"
    }
   ],
   "source": [
    "math.cos(2)"
   ]
  },
  {
   "cell_type": "code",
   "execution_count": 40,
   "id": "388447d4",
   "metadata": {},
   "outputs": [],
   "source": [
    "from math import (e, pi, \n",
    "                  sin, cos,\n",
    "                  log)"
   ]
  },
  {
   "cell_type": "code",
   "execution_count": 89,
   "id": "ca464864",
   "metadata": {},
   "outputs": [
    {
     "name": "stdout",
     "output_type": "stream",
     "text": [
      "e = 2.718281828459045\n",
      "pi = 3.141592653589793\n"
     ]
    }
   ],
   "source": [
    "print(f\"e = {e}\")\n",
    "print(f\"pi = {pi}\")"
   ]
  },
  {
   "cell_type": "markdown",
   "id": "4181ecb7",
   "metadata": {},
   "source": [
    "При выполнении различных арифметических операций важно, чтобы результат округлялся правильно. Часто требуется округлять в большую, меньшую сторону, до ближайшего целого или округлить до сотых. Посмотрим на возможности округления с помощью math. Какие проблемы могут возникнуть?."
   ]
  },
  {
   "cell_type": "markdown",
   "id": "7210759b",
   "metadata": {},
   "source": [
    "### math.ceil() — округление чисел в большую сторону"
   ]
  },
  {
   "cell_type": "markdown",
   "id": "2a2b1f19",
   "metadata": {},
   "source": [
    "Функция получила своё имя от термина «ceiling», который используется в математике для описания числа, которое больше или равно заданному.\n",
    "\n",
    "Любая дробь находится в целочисленном интервале, например, 1.2 лежит между 1 и 2. Функция ceil() определяет, какая из границ интервала наибольшая и записывает её в результат округления."
   ]
  },
  {
   "cell_type": "code",
   "execution_count": 73,
   "id": "094e6a64",
   "metadata": {},
   "outputs": [
    {
     "name": "stdout",
     "output_type": "stream",
     "text": [
      "ceil(5.15) = 6\n",
      "ceil(6.666) = 7\n",
      "ceil(5) = 5\n"
     ]
    }
   ],
   "source": [
    "a = math.ceil(5.15) # a = 6\n",
    "b = math.ceil(6.666) # b = 7\n",
    "c = math.ceil(5) # c = 5\n",
    "\n",
    "print(f\"ceil(5.15) = {a}\")\n",
    "print(f\"ceil(6.666) = {b}\")\n",
    "print(f\"ceil(5) = {c}\")"
   ]
  },
  {
   "cell_type": "markdown",
   "id": "dcaa3ce5",
   "metadata": {},
   "source": [
    "Важно помнить, что функция определяет наибольшее число с учётом знака. То есть результатом округления числа -0.9 будет 0, а не -1."
   ]
  },
  {
   "cell_type": "markdown",
   "id": "92ff1ca4",
   "metadata": {},
   "source": [
    "### math.floor() — округление чисел в меньшую сторону"
   ]
  },
  {
   "cell_type": "markdown",
   "id": "03f00573",
   "metadata": {},
   "source": [
    "Функция округляет дробное число до ближайшего целого, которое меньше или равно исходному. Работает аналогично функции ceil(), но с округлением в противоположную сторону."
   ]
  },
  {
   "cell_type": "code",
   "execution_count": 74,
   "id": "4b6a04a1",
   "metadata": {},
   "outputs": [
    {
     "name": "stdout",
     "output_type": "stream",
     "text": [
      "floor(5.15) = 7\n",
      "floor(6.666) = 15\n",
      "floor(5) = -7\n"
     ]
    }
   ],
   "source": [
    "a = math.floor(7.9) # a = 7  7 < 7.9 < 8\n",
    "b = math.floor(15.2) # b = 15\n",
    "c = math.floor(-6.1) # c = -7\n",
    "\n",
    "print(f\"floor(5.15) = {a}\")\n",
    "print(f\"floor(6.666) = {b}\")\n",
    "print(f\"floor(5) = {c}\")"
   ]
  },
  {
   "cell_type": "markdown",
   "id": "4b78037e",
   "metadata": {},
   "source": [
    "### math.trunc() — отбрасывание дробной части"
   ]
  },
  {
   "cell_type": "markdown",
   "id": "8fe9e8f1",
   "metadata": {},
   "source": [
    "Возвращает целое число, не учитывая его дробную часть. То есть никакого округления не происходит, Python просто забывает о дробной части, приводя число к целочисленному виду."
   ]
  },
  {
   "cell_type": "code",
   "execution_count": 75,
   "id": "98a3e21d",
   "metadata": {},
   "outputs": [
    {
     "name": "stdout",
     "output_type": "stream",
     "text": [
      "trunc(100.23) = 100\n",
      "trunc(-8.45) = -8\n",
      "\n",
      "int(100.23) = 100\n",
      "int(-8.45) = -8\n"
     ]
    }
   ],
   "source": [
    "a = math.trunc(100.23) # a = 100\n",
    "b = math.trunc(-8.45) # b = -8\n",
    "\n",
    "c = int(100.23) # c = 100\n",
    "d = int(-8.45) # d = -8\n",
    "\n",
    "print(f\"trunc(100.23) = {a}\")\n",
    "print(f\"trunc(-8.45) = {b}\")\n",
    "\n",
    "print()\n",
    "\n",
    "print(f\"int(100.23) = {c}\")\n",
    "print(f\"int(-8.45) = {d}\")"
   ]
  },
  {
   "cell_type": "markdown",
   "id": "201b1ca6",
   "metadata": {},
   "source": [
    "Python позволяет реализовать нормальное арифметическое округление, использовав функцию преобразования к типу int.\n",
    "\n",
    "И хотя int() работает по другому алгоритму, результат её использования для положительных чисел полностью аналогичен выводу функции floor(), которая округляет числа «вниз». Для отрицательных аналогичен функции ceil()."
   ]
  },
  {
   "cell_type": "code",
   "execution_count": 45,
   "id": "0cf6139f",
   "metadata": {},
   "outputs": [],
   "source": [
    "import math"
   ]
  },
  {
   "cell_type": "code",
   "execution_count": null,
   "id": "8f3a01a1",
   "metadata": {},
   "outputs": [],
   "source": [
    "math.sqrt()"
   ]
  },
  {
   "cell_type": "markdown",
   "id": "1cab91de",
   "metadata": {},
   "source": [
    "# Строки"
   ]
  },
  {
   "cell_type": "markdown",
   "id": "91ec727c",
   "metadata": {},
   "source": [
    "Строки в Python - упорядоченные последовательности символов, используемые для хранения и представления текстовой информации, поэтому с помощью строк можно работать со всем, что может быть представлено в текстовой форме."
   ]
  },
  {
   "cell_type": "markdown",
   "id": "405e86ba",
   "metadata": {},
   "source": [
    "Строка представляет последовательность символов в кодировке Unicode, заключенных в кавычки. Причем в Python мы можем использовать как одинарные, так и двойные кавычки:"
   ]
  },
  {
   "cell_type": "code",
   "execution_count": 46,
   "id": "91d832be",
   "metadata": {},
   "outputs": [
    {
     "name": "stdout",
     "output_type": "stream",
     "text": [
      "string\n"
     ]
    }
   ],
   "source": [
    "s = 'string'\n",
    "print(s)"
   ]
  },
  {
   "cell_type": "code",
   "execution_count": 48,
   "id": "c3d2ff1f",
   "metadata": {},
   "outputs": [
    {
     "data": {
      "text/plain": [
       "'s'"
      ]
     },
     "execution_count": 48,
     "metadata": {},
     "output_type": "execute_result"
    }
   ],
   "source": [
    "s[0]"
   ]
  },
  {
   "cell_type": "markdown",
   "id": "5c93e450",
   "metadata": {},
   "source": [
    "Одной из самых распространенных операций со строками является их объединение или конкатенация. Для объединения строк применяется знак плюса:"
   ]
  },
  {
   "cell_type": "code",
   "execution_count": 114,
   "id": "b71885a1",
   "metadata": {},
   "outputs": [
    {
     "name": "stdout",
     "output_type": "stream",
     "text": [
      "red ball\n"
     ]
    }
   ],
   "source": [
    "s1 = 'red'\n",
    "space = ' '\n",
    "s2 = 'ball'\n",
    "\n",
    "print(s1 + space + s2)"
   ]
  },
  {
   "cell_type": "markdown",
   "id": "9a386039",
   "metadata": {},
   "source": [
    "Операция умножения строки на число."
   ]
  },
  {
   "cell_type": "code",
   "execution_count": 116,
   "id": "c4063c92",
   "metadata": {},
   "outputs": [
    {
     "name": "stdout",
     "output_type": "stream",
     "text": [
      " spam  spam  spam \n"
     ]
    }
   ],
   "source": [
    "print(' spam ' * 3)"
   ]
  },
  {
   "cell_type": "markdown",
   "id": "ee159731",
   "metadata": {},
   "source": [
    "len() - функции для нахождения длинны строки. str() - для привидения к строке."
   ]
  },
  {
   "cell_type": "code",
   "execution_count": 49,
   "id": "fad486e2",
   "metadata": {},
   "outputs": [
    {
     "data": {
      "text/plain": [
       "19"
      ]
     },
     "execution_count": 49,
     "metadata": {},
     "output_type": "execute_result"
    }
   ],
   "source": [
    "len('rederederederedered')"
   ]
  },
  {
   "cell_type": "code",
   "execution_count": 84,
   "id": "a065ad91",
   "metadata": {},
   "outputs": [
    {
     "data": {
      "text/plain": [
       "'346746778'"
      ]
     },
     "execution_count": 84,
     "metadata": {},
     "output_type": "execute_result"
    }
   ],
   "source": [
    "str(346746778)"
   ]
  },
  {
   "cell_type": "markdown",
   "id": "7243e7bc",
   "metadata": {},
   "source": [
    "### Комментарии в Python"
   ]
  },
  {
   "cell_type": "code",
   "execution_count": 86,
   "id": "f4cfd195",
   "metadata": {},
   "outputs": [],
   "source": [
    "a = 4\n",
    "\n",
    "# hello world \n",
    "\n",
    "'''\n",
    "Многострочный \n",
    "   комментарий\n",
    "'''\n",
    "\n",
    "\n",
    "x = 5 # комментарий к действию"
   ]
  },
  {
   "cell_type": "markdown",
   "id": "ff122301",
   "metadata": {},
   "source": [
    "### Эскейп последовательности"
   ]
  },
  {
   "cell_type": "markdown",
   "id": "d343431c",
   "metadata": {},
   "source": [
    "Кроме стандартных символов строки могут включать управляющие эскейп-последовательности, которые интерпретируются особым образом. Например, последовательность \\n представляет перевод строки. Поэтому следующее выражение:"
   ]
  },
  {
   "cell_type": "code",
   "execution_count": 52,
   "id": "4086b506",
   "metadata": {},
   "outputs": [
    {
     "name": "stdout",
     "output_type": "stream",
     "text": [
      "hello \n",
      " red\n"
     ]
    }
   ],
   "source": [
    "print(\"hello \\n red\")"
   ]
  },
  {
   "cell_type": "markdown",
   "id": "f1a31e8d",
   "metadata": {},
   "source": [
    "* \\ в самом конце строки \tИгнорируется, строка продолжается на новой строке\n",
    "* \\\\\\ \tСам символ обратного слеша (остается один символ \\)\n",
    "* \\\\' \tАпостроф (остается один ‘)\n",
    "* \\\\\" \tКавычка (остается один символ \")\n",
    "* \\n \tНовая строка (перевод строки)\n",
    "* \\r \tВозврат каретки\n",
    "* \\t \tГоризонтальная табуляция\n",
    "* \\u… \t16-битовый символ Юникода в 16-ричном представлении\n",
    "* \\U… \t32-битовый символ Юникода в 32-ричном представлении\n",
    "* \\x… \t16-ричное значение\n",
    "* \\o… \t8-ричное значение\n",
    "* \\0 \tСимвол Null (не признак конца строки)"
   ]
  },
  {
   "cell_type": "markdown",
   "id": "6ab27be4",
   "metadata": {},
   "source": [
    "### \\ — новая строка "
   ]
  },
  {
   "cell_type": "markdown",
   "id": "6664ddde",
   "metadata": {},
   "source": [
    "Данный символ позволяет записывать очень длинные \"короткие\" строки (строки в одинарных кавычках или апострофах) в несколько строк. Как это работает? Просто начните вводить строку, в необходимом месте введите символ \"\\\" а потом сразу нажмите клавишу Enter и продолжайте ввод строки. Например: "
   ]
  },
  {
   "cell_type": "code",
   "execution_count": 53,
   "id": "8352ab30",
   "metadata": {},
   "outputs": [
    {
     "ename": "SyntaxError",
     "evalue": "EOL while scanning string literal (3237573476.py, line 1)",
     "output_type": "error",
     "traceback": [
      "\u001B[0;36m  File \u001B[0;32m\"/tmp/ipykernel_9543/3237573476.py\"\u001B[0;36m, line \u001B[0;32m1\u001B[0m\n\u001B[0;31m    a = 'Разговаривая меж собой,\u001B[0m\n\u001B[0m                                 ^\u001B[0m\n\u001B[0;31mSyntaxError\u001B[0m\u001B[0;31m:\u001B[0m EOL while scanning string literal\n"
     ]
    }
   ],
   "source": [
    "a = 'Разговаривая меж собой, \\\n",
    "три сестры за прялкой '"
   ]
  },
  {
   "cell_type": "code",
   "execution_count": 135,
   "id": "16a5f6c0",
   "metadata": {},
   "outputs": [],
   "source": [
    "long_string = 'Разговаривая меж собой, три сестры за прялкой мечтают о том,\\\n",
    "что бы каждая из них сделала, если б вдруг стала царицей. Первая \\\n",
    "из них обещает устроить пир на весь мир, вторая — наткать полотна, \\\n",
    "а третья — «для батюшки-царя» родить богатыря. В этот момент в светлицу входит \\\n",
    "сам царь Салтан, который ещё до этого подслушивал разговор сестёр под окном. \\\n",
    "Он предложил третьей из них стать его женой, а двум другим — ткачихой и поварихой при дворе.'"
   ]
  },
  {
   "cell_type": "code",
   "execution_count": 136,
   "id": "ae6e245a",
   "metadata": {},
   "outputs": [
    {
     "data": {
      "text/plain": [
       "'Разговаривая меж собой, три сестры за прялкой мечтают о том,что бы каждая из них сделала, если б вдруг стала царицей. Первая из них обещает устроить пир на весь мир, вторая — наткать полотна, а третья — «для батюшки-царя» родить богатыря. В этот момент в светлицу входит сам царь Салтан, который ещё до этого подслушивал разговор сестёр под окном. Он предложил третьей из них стать его женой, а двум другим — ткачихой и поварихой при дворе.'"
      ]
     },
     "execution_count": 136,
     "metadata": {},
     "output_type": "execute_result"
    }
   ],
   "source": [
    "long_string"
   ]
  },
  {
   "cell_type": "code",
   "execution_count": 55,
   "id": "75557f1b",
   "metadata": {},
   "outputs": [],
   "source": [
    "another_long_string = \"\"\"Разговаривая меж собой, три сестры за прялкой мечтают о \n",
    "том,что бы каждая из них сделала, если б вдруг стала царицей. Первая из них обещает устроить \n",
    "пир на весь мир, вторая — наткать полотна, а третья — «для батюшки-царя» родить богатыря. \n",
    "В этот момент в светлицу входит сам царь Салтан, который ещё до этого подслушивал разговор сестёр \n",
    "под окном. Он предложил третьей из них стать его женой, а двум другим — ткачихой и поварихой при дворе.\"\"\""
   ]
  },
  {
   "cell_type": "code",
   "execution_count": 56,
   "id": "74440823",
   "metadata": {},
   "outputs": [
    {
     "name": "stdout",
     "output_type": "stream",
     "text": [
      "Разговаривая меж собой, три сестры за прялкой мечтают о \n",
      "том,что бы каждая из них сделала, если б вдруг стала царицей. Первая из них обещает устроить \n",
      "пир на весь мир, вторая — наткать полотна, а третья — «для батюшки-царя» родить богатыря. \n",
      "В этот момент в светлицу входит сам царь Салтан, который ещё до этого подслушивал разговор сестёр \n",
      "под окном. Он предложил третьей из них стать его женой, а двум другим — ткачихой и поварихой при дворе.\n"
     ]
    }
   ],
   "source": [
    "print(another_long_string)"
   ]
  },
  {
   "cell_type": "markdown",
   "id": "8d45497c",
   "metadata": {},
   "source": [
    "### \\\\\\ — обратный слеш "
   ]
  },
  {
   "cell_type": "markdown",
   "id": "77f49762",
   "metadata": {},
   "source": [
    "Позволяет указывать в строке необходимое количество обратных слешей, что может пригодиться при работе с файловой системой в Windows или работой с LATEX:"
   ]
  },
  {
   "cell_type": "code",
   "execution_count": 96,
   "id": "63106d2e",
   "metadata": {},
   "outputs": [],
   "source": [
    "s = 'D:\\\\\\мои документы\\книги\\Демидович_БП.txt'"
   ]
  },
  {
   "cell_type": "code",
   "execution_count": 97,
   "id": "cf27cc30",
   "metadata": {},
   "outputs": [
    {
     "name": "stdout",
     "output_type": "stream",
     "text": [
      "D:\\\\мои документы\\книги\\Демидович_БП.pdf\n"
     ]
    }
   ],
   "source": [
    "print(s)"
   ]
  },
  {
   "cell_type": "markdown",
   "id": "807bf36d",
   "metadata": {},
   "source": [
    "### \\\\' — апостроф "
   ]
  },
  {
   "cell_type": "markdown",
   "id": "9b085820",
   "metadata": {},
   "source": [
    "Последовательность \\\\' позволяет помещать внутрь строки необходимое количество апострофов: "
   ]
  },
  {
   "cell_type": "code",
   "execution_count": 98,
   "id": "7d5f26cf",
   "metadata": {},
   "outputs": [
    {
     "data": {
      "text/plain": [
       "\"don't\""
      ]
     },
     "execution_count": 98,
     "metadata": {},
     "output_type": "execute_result"
    }
   ],
   "source": [
    "'don \\' t'"
   ]
  },
  {
   "cell_type": "code",
   "execution_count": 150,
   "id": "62f60cf3",
   "metadata": {},
   "outputs": [],
   "source": [
    "s = 'a\\'b\\'\\'c\\'\\'\\'d\\'\\'\\'\\'\\''"
   ]
  },
  {
   "cell_type": "code",
   "execution_count": 151,
   "id": "67c2e348",
   "metadata": {},
   "outputs": [
    {
     "data": {
      "text/plain": [
       "\"a'b''c'''d'''''\""
      ]
     },
     "execution_count": 151,
     "metadata": {},
     "output_type": "execute_result"
    }
   ],
   "source": [
    "s"
   ]
  },
  {
   "cell_type": "markdown",
   "id": "d737a0c2",
   "metadata": {},
   "source": [
    "### \\\\\" — кавычка "
   ]
  },
  {
   "cell_type": "markdown",
   "id": "06bd3d16",
   "metadata": {},
   "source": [
    "Так же как и \\' позволяет помещать в строку необходимое количество кавычек: "
   ]
  },
  {
   "cell_type": "code",
   "execution_count": 152,
   "id": "6061c740",
   "metadata": {},
   "outputs": [],
   "source": [
    "s = 'a\\\"b\\\"\\\"c\\\"\\\"\\\"d\\\"\\\"\\\"\\\"\\\"'"
   ]
  },
  {
   "cell_type": "code",
   "execution_count": 153,
   "id": "8199385e",
   "metadata": {},
   "outputs": [
    {
     "data": {
      "text/plain": [
       "'a\"b\"\"c\"\"\"d\"\"\"\"\"'"
      ]
     },
     "execution_count": 153,
     "metadata": {},
     "output_type": "execute_result"
    }
   ],
   "source": [
    "s"
   ]
  },
  {
   "cell_type": "markdown",
   "id": "aa4ec5db",
   "metadata": {},
   "source": [
    "### \\\\a — гудок динамика "
   ]
  },
  {
   "cell_type": "markdown",
   "id": "92a796da",
   "metadata": {},
   "source": [
    " Последовательность \\a заставляет систему издать короткий звуковой гудок, который очень часто используется для предупреждения о чем-либо. Однако, услышите вы этот гудок или нет, как-то зависит от компьютера и операционной системы. "
   ]
  },
  {
   "cell_type": "code",
   "execution_count": 155,
   "id": "c57e9d06",
   "metadata": {},
   "outputs": [
    {
     "name": "stdout",
     "output_type": "stream",
     "text": [
      "\u0007bcd\n"
     ]
    }
   ],
   "source": [
    "print('\\a bcd')"
   ]
  },
  {
   "cell_type": "markdown",
   "id": "70f3df24",
   "metadata": {},
   "source": [
    "### \\\\b — backspace (пробел назад) "
   ]
  },
  {
   "cell_type": "markdown",
   "id": "25a8734c",
   "metadata": {},
   "source": [
    "Удалять один символ перед курсором: "
   ]
  },
  {
   "cell_type": "code",
   "execution_count": 99,
   "id": "a270b511",
   "metadata": {},
   "outputs": [],
   "source": [
    "s = 'AAA \\b BBB \\b C'"
   ]
  },
  {
   "cell_type": "code",
   "execution_count": 159,
   "id": "56707761",
   "metadata": {},
   "outputs": [
    {
     "data": {
      "text/plain": [
       "'AAA\\x08BBB\\x08C'"
      ]
     },
     "execution_count": 159,
     "metadata": {},
     "output_type": "execute_result"
    }
   ],
   "source": [
    "s"
   ]
  },
  {
   "cell_type": "code",
   "execution_count": 160,
   "id": "47bb355b",
   "metadata": {},
   "outputs": [
    {
     "name": "stdout",
     "output_type": "stream",
     "text": [
      "AAA\bBBB\bC\n"
     ]
    }
   ],
   "source": [
    "print(s)"
   ]
  },
  {
   "cell_type": "markdown",
   "id": "cfa24a1c",
   "metadata": {},
   "source": [
    "Если \\\\b находится в конце строки, то удаления не происходит: "
   ]
  },
  {
   "cell_type": "code",
   "execution_count": 161,
   "id": "2d227762",
   "metadata": {},
   "outputs": [],
   "source": [
    "s = 'AAA\\b'"
   ]
  },
  {
   "cell_type": "code",
   "execution_count": 162,
   "id": "95565783",
   "metadata": {},
   "outputs": [
    {
     "data": {
      "text/plain": [
       "'AAA\\x08'"
      ]
     },
     "execution_count": 162,
     "metadata": {},
     "output_type": "execute_result"
    }
   ],
   "source": [
    "s"
   ]
  },
  {
   "cell_type": "code",
   "execution_count": 163,
   "id": "517340c8",
   "metadata": {},
   "outputs": [
    {
     "name": "stdout",
     "output_type": "stream",
     "text": [
      "AAA\b\n"
     ]
    }
   ],
   "source": [
    "print(s)"
   ]
  },
  {
   "cell_type": "markdown",
   "id": "6ef84544",
   "metadata": {},
   "source": [
    "### \\\\r — возврат каретки "
   ]
  },
  {
   "cell_type": "markdown",
   "id": "9fe644df",
   "metadata": {},
   "source": [
    "Последовательность \\r возвращает курсор в начало строки, т.е. позволяет печатать одни символы \"поверх\" других. Например: "
   ]
  },
  {
   "cell_type": "code",
   "execution_count": 168,
   "id": "b5f80221",
   "metadata": {},
   "outputs": [],
   "source": [
    "s = 'aaaaaa \\r bbb'"
   ]
  },
  {
   "cell_type": "code",
   "execution_count": 169,
   "id": "5efa92af",
   "metadata": {},
   "outputs": [
    {
     "name": "stdout",
     "output_type": "stream",
     "text": [
      "aaaaaa\r",
      "bbb\n"
     ]
    }
   ],
   "source": [
    "print(s)"
   ]
  },
  {
   "cell_type": "markdown",
   "id": "20a487bf",
   "metadata": {},
   "source": [
    "### \\\\t — горизонтальная табуляция "
   ]
  },
  {
   "cell_type": "markdown",
   "id": "fd848676",
   "metadata": {},
   "source": [
    " Так же как и \\n последовательность \\t крайне проста – она просто делает один отступ (равносильно нажатию клавиши Tab): "
   ]
  },
  {
   "cell_type": "code",
   "execution_count": 170,
   "id": "aac651cd",
   "metadata": {},
   "outputs": [],
   "source": [
    "s = 'a \\t bb \\t ccc'"
   ]
  },
  {
   "cell_type": "code",
   "execution_count": 171,
   "id": "ea9b45dc",
   "metadata": {},
   "outputs": [
    {
     "name": "stdout",
     "output_type": "stream",
     "text": [
      "a\tbb\tccc\n"
     ]
    }
   ],
   "source": [
    "print(s)"
   ]
  },
  {
   "cell_type": "markdown",
   "id": "7dca97ca",
   "metadata": {},
   "source": [
    "### \\\\xhh — шестнадцатеричный код символа и \\\\ooo — восьмеричный код символа "
   ]
  },
  {
   "cell_type": "markdown",
   "id": "bd38bd50",
   "metadata": {},
   "source": [
    "Последовательность \\xhh позволяет делать запись строк, используя шестнадцатеричный код символов: "
   ]
  },
  {
   "cell_type": "code",
   "execution_count": 57,
   "id": "1a960b17",
   "metadata": {},
   "outputs": [],
   "source": [
    "s = '\\x77 \\x6f \\x72 \\x6c \\x64 '"
   ]
  },
  {
   "cell_type": "code",
   "execution_count": 58,
   "id": "341850c1",
   "metadata": {},
   "outputs": [
    {
     "name": "stdout",
     "output_type": "stream",
     "text": [
      "w o r l d \n"
     ]
    }
   ],
   "source": [
    "print(s)"
   ]
  },
  {
   "cell_type": "markdown",
   "id": "04c3643e",
   "metadata": {},
   "source": [
    "Последовательность \\ooo позволяет делать запись строк, используя восьмеричный код символов: "
   ]
  },
  {
   "cell_type": "code",
   "execution_count": 59,
   "id": "28fe7cbf",
   "metadata": {},
   "outputs": [],
   "source": [
    "s = '\\167\\157\\162\\154\\144'"
   ]
  },
  {
   "cell_type": "code",
   "execution_count": 60,
   "id": "a370daed",
   "metadata": {},
   "outputs": [
    {
     "name": "stdout",
     "output_type": "stream",
     "text": [
      "world\n"
     ]
    }
   ],
   "source": [
    "print(s)"
   ]
  },
  {
   "cell_type": "markdown",
   "id": "62ef7d7e",
   "metadata": {},
   "source": [
    "## Сравнение строк"
   ]
  },
  {
   "cell_type": "markdown",
   "id": "e9d275b1",
   "metadata": {},
   "source": [
    "Особо следует сказать о сравнении строк. При сравнении строк принимается во внимание символы и их регистр. Так, цифровой символ условно меньше, чем любой алфавитный символ. Алфавитный символ в верхнем регистре условно меньше, чем алфавитные символы в нижнем регистре. Например:"
   ]
  },
  {
   "cell_type": "code",
   "execution_count": 61,
   "id": "fbba008f",
   "metadata": {
    "scrolled": true
   },
   "outputs": [
    {
     "data": {
      "text/plain": [
       "114"
      ]
     },
     "execution_count": 61,
     "metadata": {},
     "output_type": "execute_result"
    }
   ],
   "source": [
    "ord('r')"
   ]
  },
  {
   "cell_type": "code",
   "execution_count": 62,
   "id": "bcc8e77f",
   "metadata": {},
   "outputs": [
    {
     "data": {
      "text/plain": [
       "49"
      ]
     },
     "execution_count": 62,
     "metadata": {},
     "output_type": "execute_result"
    }
   ],
   "source": [
    "ord('1')"
   ]
  },
  {
   "cell_type": "code",
   "execution_count": 63,
   "id": "7772f56d",
   "metadata": {},
   "outputs": [
    {
     "data": {
      "text/plain": [
       "97"
      ]
     },
     "execution_count": 63,
     "metadata": {},
     "output_type": "execute_result"
    }
   ],
   "source": [
    "ord('a')"
   ]
  },
  {
   "cell_type": "code",
   "execution_count": 64,
   "id": "9708466e",
   "metadata": {},
   "outputs": [
    {
     "data": {
      "text/plain": [
       "65"
      ]
     },
     "execution_count": 64,
     "metadata": {},
     "output_type": "execute_result"
    }
   ],
   "source": [
    "ord('A')"
   ]
  },
  {
   "cell_type": "code",
   "execution_count": 104,
   "id": "0b1937b1",
   "metadata": {},
   "outputs": [
    {
     "data": {
      "text/plain": [
       "'a'"
      ]
     },
     "execution_count": 104,
     "metadata": {},
     "output_type": "execute_result"
    }
   ],
   "source": [
    "chr(97)"
   ]
  },
  {
   "cell_type": "code",
   "execution_count": 179,
   "id": "a63775dc",
   "metadata": {},
   "outputs": [
    {
     "name": "stdout",
     "output_type": "stream",
     "text": [
      "False\n",
      "True\n"
     ]
    }
   ],
   "source": [
    "str1 = \"1a\"\n",
    "str2 = \"aa\"\n",
    "str3 = \"Aa\"\n",
    "\n",
    "print(str1 > str2)  # False, так как первый символ в str1 - цифра\n",
    "print(str2 > str3)  # True, так как первый символ в str2 - в нижнем регистре"
   ]
  },
  {
   "cell_type": "markdown",
   "id": "2f3f26e6",
   "metadata": {},
   "source": [
    "Поэтому строка \"1a\" условно меньше, чем строка \"aa\". Вначале сравнение идет по первому символу. Если начальные символы обоих строк представляют цифры, то меньшей считается меньшая цифра, например, \"1a\" меньше, чем \"2a\"."
   ]
  },
  {
   "cell_type": "markdown",
   "id": "86f633fd",
   "metadata": {},
   "source": [
    "Если начальные символы представляют алфавитные символы в одном и том же регистре, то смотрят по алфавиту. Так, \"aa\" меньше, чем \"ba\", а \"ba\" меньше, чем \"ca\".\n",
    "\n",
    "Если первые символы одинаковые, в расчет берутся вторые символы при их наличии.\n",
    "\n",
    "Зависимость от регистра не всегда желательна, так как по сути мы имеем дело с одинаковыми строками. В этом случае перед сравнением мы можем привести обе строки к одному из регистров."
   ]
  },
  {
   "cell_type": "markdown",
   "id": "d3962992",
   "metadata": {},
   "source": [
    "### Функции lower(), upper()"
   ]
  },
  {
   "cell_type": "code",
   "execution_count": 65,
   "id": "27908ed6",
   "metadata": {},
   "outputs": [
    {
     "name": "stdout",
     "output_type": "stream",
     "text": [
      "False\n",
      "True\n"
     ]
    }
   ],
   "source": [
    "str1 = \"BOB\"\n",
    "str2 = \"bob\"\n",
    "\n",
    "print(str1 == str2)  # False - строки не равны\n",
    " \n",
    "print(str1.lower() == str2.lower())  # True"
   ]
  },
  {
   "cell_type": "code",
   "execution_count": 66,
   "id": "be2302b2",
   "metadata": {},
   "outputs": [
    {
     "data": {
      "text/plain": [
       "'BOBBOBO'"
      ]
     },
     "execution_count": 66,
     "metadata": {},
     "output_type": "execute_result"
    }
   ],
   "source": [
    "str3 = 'bobbobo'\n",
    "\n",
    "str3.upper()"
   ]
  },
  {
   "cell_type": "markdown",
   "id": "ce904858",
   "metadata": {},
   "source": [
    "### capitalize()"
   ]
  },
  {
   "cell_type": "code",
   "execution_count": 67,
   "id": "9e24fe3d",
   "metadata": {},
   "outputs": [
    {
     "data": {
      "text/plain": [
       "'Bobewrrwebr'"
      ]
     },
     "execution_count": 67,
     "metadata": {},
     "output_type": "execute_result"
    }
   ],
   "source": [
    "string = 'boBewrrweBR'\n",
    "\n",
    "string.capitalize()"
   ]
  },
  {
   "cell_type": "code",
   "execution_count": null,
   "id": "a979002f",
   "metadata": {},
   "outputs": [],
   "source": []
  }
 ],
 "metadata": {
  "kernelspec": {
   "display_name": "Python 3 (ipykernel)",
   "language": "python",
   "name": "python3"
  },
  "language_info": {
   "codemirror_mode": {
    "name": "ipython",
    "version": 3
   },
   "file_extension": ".py",
   "mimetype": "text/x-python",
   "name": "python",
   "nbconvert_exporter": "python",
   "pygments_lexer": "ipython3",
   "version": "3.8.10"
  }
 },
 "nbformat": 4,
 "nbformat_minor": 5
}