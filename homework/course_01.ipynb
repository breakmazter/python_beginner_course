{
 "cells": [
  {
   "cell_type": "markdown",
   "metadata": {},
   "source": [
    "\n",
    "# Задачки\n",
    "\n",
    "1) Найти площадь треугольника(проверив все условия, аля что это за треугольник, существует ли он вообще)"
   ]
  },
  {
   "cell_type": "markdown",
   "metadata": {},
   "source": [
    "$$ S = \\sqrt{p(p-a)(p-b)(p-c)}$$"
   ]
  },
  {
   "cell_type": "markdown",
   "metadata": {},
   "source": [
    "$$ p = \\frac{a + b + c}{2} $$"
   ]
  },
  {
   "cell_type": "markdown",
   "metadata": {},
   "source": [
    "где p – полупериметр треугольника. На вход программе подаются целые числа, выводом программы должно являться вещественное число, соответствующее площади треугольника."
   ]
  },
  {
   "cell_type": "code",
   "execution_count": 2,
   "metadata": {},
   "outputs": [
    {
     "name": "stdout",
     "output_type": "stream",
     "text": [
      "2\n",
      "1\n",
      "1\n",
      "Треугольник не существует\n"
     ]
    }
   ],
   "source": [
    "a, b, c = int(input()), int(input()), int(input())\n",
    "\n",
    "if a + b > c and a + c > b and b + c > a:\n",
    "    p = (a + b + c) / 2\n",
    "    S = (p * (p - a) * (p - b) * (p - c)) ** 0.5\n",
    "    \n",
    "    print(S)\n",
    "else:\n",
    "    print(\"Треугольник не существует\")"
   ]
  },
  {
   "cell_type": "markdown",
   "metadata": {},
   "source": [
    "2) Дана длина ребра основания правильной треугольной пирамиды а и ее высота h. Найти объем пирамиды и площадь ее полной поверхности."
   ]
  },
  {
   "cell_type": "code",
   "execution_count": null,
   "metadata": {},
   "outputs": [],
   "source": [
    "a, h = float(input()), float(input())\n",
    "\n",
    "if 0 not in [a, h] and a > 0 and h > 0:\n",
    "    V = round((h * a**2) / (4 * 3**0.5), 3)\n",
    "    S = round((3 * V) / h + (3 * a * (h**2 + (a**2) / 12)**0.5) / 2, 3)\n",
    "    \n",
    "    print(V, S)\n",
    "else:\n",
    "    print('Ошибка')"
   ]
  },
  {
   "cell_type": "markdown",
   "metadata": {},
   "source": [
    "3) Напишите программу, принимающую на вход целое число, которая выводит True, если переданное значение попадает в интервал $(-356, -1] \\cup (14, 56) \\cup [100, 234] \\cup [500, +\\infty)$ и False в противном случае (регистр символов имеет значение)."
   ]
  },
  {
   "cell_type": "markdown",
   "metadata": {},
   "source": [
    "![blabla](https://ucarecdn.com/c35dc028-7092-415f-975c-bf28ee9ca89e/)"
   ]
  },
  {
   "cell_type": "code",
   "execution_count": 3,
   "metadata": {},
   "outputs": [
    {
     "name": "stdout",
     "output_type": "stream",
     "text": [
      "34\n",
      "True\n"
     ]
    }
   ],
   "source": [
    "num = int(input())\n",
    "\n",
    "if (-356 < num <= -1) or (14 < num < 56) or (100 <= num <= 234) or (num >= 500):\n",
    "    print(True)\n",
    "else:\n",
    "    print(False)"
   ]
  },
  {
   "cell_type": "markdown",
   "metadata": {},
   "source": [
    "4) Напишите калькулятор, на ваше усмотрение, как он может быть устроен. P.S можно куча всего придумать, существует не только самый очевидный вариант)"
   ]
  },
  {
   "cell_type": "code",
   "execution_count": 7,
   "metadata": {},
   "outputs": [
    {
     "name": "stdout",
     "output_type": "stream",
     "text": [
      "2 + 4\n",
      "6.0\n"
     ]
    }
   ],
   "source": [
    "data = input().split()\n",
    "\n",
    "first_num, second_num = float(data[0]), float(data[2])\n",
    "operator = data[1]\n",
    "\n",
    "if operator=='+':\n",
    "    print(first_num + second_num)\n",
    "elif operator=='-':\n",
    "    print(first_num - second_num)\n",
    "elif operator=='*':\n",
    "    print(first_num * second_num)\n",
    "elif operator=='pow':\n",
    "    print(first_num ** second_num)\n",
    "elif operator=='/' and second_num != 0:\n",
    "    print(first_num / second_num)\n",
    "elif operator=='div' and second_num != 0:\n",
    "    print(first_num // second_num)\n",
    "elif operator=='mod' and second_num != 0:\n",
    "    print(first_num % second_num)\n",
    "elif second_num == 0:\n",
    "    print('Деление на 0!')"
   ]
  },
  {
   "cell_type": "markdown",
   "metadata": {},
   "source": [
    "5) Найти площадь многоугольника, по заданному числу углов и длиннам сторон."
   ]
  },
  {
   "cell_type": "code",
   "execution_count": null,
   "metadata": {},
   "outputs": [],
   "source": [
    "figure = input()\n",
    "\n",
    "if figure=='треугольник':\n",
    "    a, b, c = float(input()), float(input()), float(input())\n",
    "\n",
    "    p = (a + b + c) / 2\n",
    "    S = (p * (p - a) * (p - b) * (p - c)) ** 0.5\n",
    "    \n",
    "elif figure=='прямоугольник':\n",
    "    a, b = float(input()), float(input())\n",
    "\n",
    "    S = a * b\n",
    "\n",
    "print(S)"
   ]
  },
  {
   "cell_type": "markdown",
   "metadata": {},
   "source": [
    "6) Напишите программу, которая получает на вход пять целых чисел, по одному числу в строке, и выводит на консоль в пять строк сначала максимальное, потом минимальное, после чего оставшиеся числа. Посмотрите разными спосабами."
   ]
  },
  {
   "cell_type": "code",
   "execution_count": null,
   "metadata": {},
   "outputs": [],
   "source": [
    "####################################################\n",
    "\n",
    "data = [int(input()), int(input()), int(input())]\n",
    "\n",
    "max_num = data.pop(data.index(max(data))) \n",
    "min_num = data.pop(data.index(min(data))) \n",
    "last_num = data[0]\n",
    "\n",
    "print(max_num, min_num, last_num, sep='\\n')\n",
    "\n",
    "####################################################\n",
    "\n",
    "a, b, c = int(input()), int(input()), int(input())\n",
    "\n",
    "max_int = max(a, b, c)\n",
    "min_int = min(a, b, c)\n",
    "\n",
    "print(max_int, min_int, (a + b + c) - max_int - min_int, sep='\\n')\n",
    "\n",
    "#####################################################\n",
    "\n",
    "a, b, c = int(input()), int(input()), int(input())\n",
    "\n",
    "if a < b:\n",
    "    a, b = b, a\n",
    "if a < c:\n",
    "    a, c = c, a\n",
    "if b > c:\n",
    "    b, c = c, b\n",
    "    \n",
    "print(a, b, c, sep='\\n')"
   ]
  },
  {
   "cell_type": "markdown",
   "metadata": {},
   "source": [
    "7) Вывести True если у числа с четным числом цифр половина цифр в сумме даст сумму цифр другой половины. Например 122344 у него сумма 1 половины (1+2+2=5), 2 (3+4+4=11) => 5 не равно 11 => False."
   ]
  },
  {
   "cell_type": "code",
   "execution_count": 9,
   "metadata": {},
   "outputs": [
    {
     "name": "stdout",
     "output_type": "stream",
     "text": [
      "234566\n",
      "False\n"
     ]
    }
   ],
   "source": [
    "string_nums = input()\n",
    "\n",
    "middle = int(int(string_nums) / 2)\n",
    "\n",
    "print(True if sum(map(int, string_nums[:3]))==sum(map(int, string_nums[3:])) else False)"
   ]
  },
  {
   "cell_type": "markdown",
   "metadata": {},
   "source": [
    "8) Для слов ['программист', 'инвалид'] напишите программу, считывающую с пользовательского ввода целое число n (неотрицательное), выводящее это число в консоль вместе с правильным образом изменённым словом из двух предложенных, например: 1 программист, 2 программиста, 5 программистов."
   ]
  },
  {
   "cell_type": "code",
   "execution_count": null,
   "metadata": {},
   "outputs": [],
   "source": [
    "n = int(input())\n",
    "\n",
    "if n % 10 == 1 and n % 100 != 11:\n",
    "    print(str(n) + ' программист')\n",
    "elif n % 10 in [0, 5, 6, 7, 8, 9] or n % 100 in [11, 12, 13, 14]:\n",
    "    print(str(n) + ' программистов')\n",
    "elif n % 10 in [2, 3, 4]:\n",
    "    print(str(n) + ' программиста')"
   ]
  },
  {
   "cell_type": "markdown",
   "metadata": {},
   "source": [
    "9) У вас есть n чисел, составьте из них максимальное число. Например:"
   ]
  },
  {
   "cell_type": "code",
   "execution_count": null,
   "metadata": {},
   "outputs": [],
   "source": [
    "# your code here"
   ]
  },
  {
   "cell_type": "markdown",
   "metadata": {},
   "source": [
    "10) Шоколадка имеет вид прямоугольника, разделенного на n×m долек. Шоколадку можно один раз разломить по прямой на две части. Определите, можно ли таким образом отломить от шоколадки часть, состоящую ровно из k долек. Программа получает на вход три числа: n, m, k и должна вывести YES или NO."
   ]
  },
  {
   "cell_type": "code",
   "execution_count": null,
   "metadata": {},
   "outputs": [],
   "source": [
    "# your code here"
   ]
  },
  {
   "cell_type": "markdown",
   "metadata": {},
   "source": [
    "11) У вас есть девять цифр: 1, 2, …, 9. Именно в таком порядке. Вы можете вставлять между ними знаки «+», «-» или ничего. У вас будут получаться выражения вида 123+45-6+7+89. Найдите все из них, которые равны 100."
   ]
  },
  {
   "cell_type": "code",
   "execution_count": null,
   "metadata": {},
   "outputs": [],
   "source": [
    "# your code here"
   ]
  }
 ],
 "metadata": {
  "kernelspec": {
   "display_name": "Python 3 (ipykernel)",
   "language": "python",
   "name": "python3"
  },
  "language_info": {
   "codemirror_mode": {
    "name": "ipython",
    "version": 3
   },
   "file_extension": ".py",
   "mimetype": "text/x-python",
   "name": "python",
   "nbconvert_exporter": "python",
   "pygments_lexer": "ipython3",
   "version": "3.8.10"
  }
 },
 "nbformat": 4,
 "nbformat_minor": 1
}
