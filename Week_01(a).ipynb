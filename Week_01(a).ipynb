{
 "cells": [
  {
   "cell_type": "markdown",
   "id": "f5b272b3",
   "metadata": {},
   "source": [
    "#                                    Основы языка Python"
   ]
  },
  {
   "cell_type": "markdown",
   "id": "3cf5b4ed",
   "metadata": {},
   "source": [
    "## Немного о самом языке"
   ]
  },
  {
   "cell_type": "markdown",
   "id": "bfe8856c",
   "metadata": {},
   "source": [
    "Python представляет популярный высокоуровневый язык программирования, который предназначен для создания приложений различных типов. Это и веб-приложения, и игры, и настольные программы, и работа с базами данных. Довольно большое распространение питон получил в области машинного обучения и исследований искусственного интеллекта.\n",
    "\n",
    "Главным энтузиастом, который в 1990 году пытался воплотить Python в реальность, стал Гвидо Ван Россум. Python появился, чтобы заменить собой язык ABC, в работе над которым принимал участие Гвидо ван Россум. Представленный в 1991 году Python версии 0.9.0 вобрал в себя многие идеи из существовавших на тот момент языков: например, система модулей была взята из языка Modula-3. Это послужило стартом для написания нового интерпретатора; конечно, не без использования некоторых идей, взятых с ABC. С тех пор данный язык проделал большой путь развития. В 2000 году была издана версия 2.0, а в 2008 году - версия 3.0. Несмотря на вроде такие большие промежутки между версиями постоянно выходят подверсии."
   ]
  },
  {
   "cell_type": "markdown",
   "id": "e1d43f3b",
   "metadata": {},
   "source": [
    "Стоит отметить, что Python изначально позиционировался как \"язык для каждого\", поэтому большой упор делался на читаемость кода и лаконичность синтаксиса."
   ]
  },
  {
   "cell_type": "markdown",
   "id": "c0a18063",
   "metadata": {},
   "source": [
    "Работая с Python, стоит иметь в виду, что он распространён не только в виде языка, на котором пишутся конечные проекты: этот язык часто используется для автоматизации различных задач, скажем, по системному администрированию (Ansible — один из примеров написанного на Python ПО, используемого при администрировании). Поэтому python часто уже присутствует в установленных операционных системах."
   ]
  },
  {
   "cell_type": "markdown",
   "id": "301f2e5f",
   "metadata": {},
   "source": [
    "Основные особенности языка программирования Python:\n",
    "\n",
    "* Все программы представлены в виде скриптов.\n",
    "\n",
    "* Язык является полностью объектно-ориентированным — всё является объектами\n",
    "\n",
    "* Язык использует динамическую типизацию вместе с подсчётом ссылок и циклический сборщик мусора для менеджмента памяти. Также есть динамические разрешения имен (динамическое связывание), которые связывают имена методов и переменных во время выполнения программы. \n",
    "\n",
    "* Для работы со скриптами необходим интерпретатор, который запускает и выполняет скрипт.\n",
    "\n",
    "* Портативность и платформонезависимость. Не имеет значения, какая у нас операционная система - Windows, Mac OS, Linux, нам достаточно написать скрипт, который будет запускаться на всех этих ОС при наличии интерпретатора\n",
    "\n",
    "* Выполнение программы на Python выглядит следующим образом. Сначала мы пишим в текстовом редакторе скрипт с набором выражений на данном языке программирования. Передаем этот скрипт на выполнение интерпретатору. Интерпретатор транслирует код в промежуточный байткод, а затем виртуальная машина переводит полученный байткод в набор инструкций, которые выполняются операционной системой.Здесь стоит отметить, что хотя формально трансляция интерпретатором исходного кода в байткод и перевод байткода виртуальной машиной в набор машинных команд представляют два разных процесса, но фактически они объединены в самом интерпретаторе."
   ]
  },
  {
   "cell_type": "markdown",
   "id": "206c1bc4",
   "metadata": {},
   "source": [
    "![blabla](img/work_python.png)"
   ]
  },
  {
   "cell_type": "markdown",
   "id": "20144e2b",
   "metadata": {},
   "source": [
    "Python - очень простой язык программирования, он имеет лаконичный и в то же время довольно простой и понятный синтаксис. Соответственно его легко изучать, и собственно это одна из причин, по которой он является одним из самых популярных языков программирования именно для обучения. В частности, в 2014 году он был признан самым популярным языком программирования для обучения в США.\n",
    "\n",
    "Python также популярен не только в сфере обучения, но в написании конкретных программ в том числе коммерческого характера. В немалой степени поэтому для этого языка написано множество библиотек, которые мы можем использовать.\n",
    "\n",
    "Кроме того, у данного языка программирования очень большое коммьюнити, в интернете можно найти по данному языку множество полезных материалов, примеров, получить квалифицированную помощь специалистов."
   ]
  },
  {
   "cell_type": "markdown",
   "id": "f1befdbe",
   "metadata": {},
   "source": [
    "## Компании в которых используют язык.\n",
    "\n",
    "![blabla](img/4.jpg)"
   ]
  },
  {
   "cell_type": "markdown",
   "id": "8ac1f8aa",
   "metadata": {},
   "source": [
    "## Python один из языков который используется в NASA.\n",
    "\n",
    "![blabla](img/5.jpg)"
   ]
  },
  {
   "cell_type": "markdown",
   "id": "0b770f65",
   "metadata": {},
   "source": [
    "# Установка интерпретатора, текстового редактора и еще куча всего."
   ]
  },
  {
   "cell_type": "markdown",
   "id": "109bb625",
   "metadata": {},
   "source": [
    "* https://www.python.org/downloads/ - интерпретатор Python\n",
    "\n",
    "* https://www.anaconda.com/products/individual - набор инстументов для анализа данных, в том числе интерпретатор Python\n",
    "\n",
    "* https://www.jetbrains.com/pycharm/download/ - топовая IDE для написания, отладки, профилирования кода, множество функций которые здорово облегчают жизнь.\n",
    "\n",
    "* https://atom.io/ - очень нравится этот текстовый редактор, настраивается гибче чем pycharm, можно собрать супер удобную штуку конкретно под себя и радоватся).\n",
    "\n",
    "* https://colab.research.google.com/ - онлайн интерпретатор с возможностью работы в интерактивном режиме, все работает на удаленной машинке, в которой уже подтянуты все зависимости. Плюс есть корги и котики."
   ]
  },
  {
   "cell_type": "markdown",
   "id": "08dda5ae",
   "metadata": {},
   "source": [
    "### Установка на Windows"
   ]
  },
  {
   "cell_type": "markdown",
   "id": "2deacc6f",
   "metadata": {},
   "source": [
    "![blabla](img/1.png)\n",
    "\n",
    "![blabla](img/2.png)\n",
    "\n",
    "![blabla](img/3.png)"
   ]
  },
  {
   "cell_type": "markdown",
   "id": "15a520cd",
   "metadata": {},
   "source": [
    "### Установка на Ubuntu"
   ]
  },
  {
   "cell_type": "code",
   "execution_count": 1,
   "id": "95433095",
   "metadata": {},
   "outputs": [
    {
     "ename": "SyntaxError",
     "evalue": "invalid syntax (1589891983.py, line 1)",
     "output_type": "error",
     "traceback": [
      "\u001B[0;36m  File \u001B[0;32m\"/tmp/ipykernel_11275/1589891983.py\"\u001B[0;36m, line \u001B[0;32m1\u001B[0m\n\u001B[0;31m    sudo apt-get python3\u001B[0m\n\u001B[0m         ^\u001B[0m\n\u001B[0;31mSyntaxError\u001B[0m\u001B[0;31m:\u001B[0m invalid syntax\n"
     ]
    }
   ],
   "source": [
    "sudo apt-get python3"
   ]
  },
  {
   "cell_type": "markdown",
   "id": "5bd0847b",
   "metadata": {},
   "source": [
    "## Установка Jupyter Notebook"
   ]
  },
  {
   "cell_type": "markdown",
   "id": "ece6224e",
   "metadata": {},
   "source": [
    "cmd or terminal: \n",
    "  * pip install notebook\n",
    "  * ... \n",
    "  * jupyter notebook"
   ]
  },
  {
   "cell_type": "markdown",
   "id": "2bea5fbe",
   "metadata": {},
   "source": [
    "### Переменные и типы данных"
   ]
  },
  {
   "cell_type": "markdown",
   "id": "2c93e0f9",
   "metadata": {},
   "source": [
    "Переменная хранит определенные данные. Название переменной в Python должно начинаться с алфавитного символа или со знака подчеркивания и может содержать алфавитно-цифровые символы и знак подчеркивания. И кроме того, название переменной не должно совпадать с названием ключевых слов языка Python. Ключевых слов не так много, их легко запомнить: and, as, assert, break, class, continue, def, del, elif, else, except, False, finally, for, from, global, if, import, in, is, lambda, None, nonlocal, not, or, pass, raise, return, True, try, while, with, yield."
   ]
  },
  {
   "cell_type": "code",
   "execution_count": null,
   "id": "cf54f25a",
   "metadata": {},
   "outputs": [],
   "source": [
    "num = 3 \n",
    "\n",
    "string = 'Ko ko ko'\n",
    "\n",
    "num"
   ]
  },
  {
   "cell_type": "markdown",
   "id": "ce3055ad",
   "metadata": {},
   "source": [
    "И также надо учитывать регистрозависимость, поэтому переменные name и Name будут представлять разные объекты."
   ]
  },
  {
   "cell_type": "code",
   "execution_count": 2,
   "id": "c6eef5ee",
   "metadata": {},
   "outputs": [
    {
     "ename": "NameError",
     "evalue": "name 'Name' is not defined",
     "output_type": "error",
     "traceback": [
      "\u001B[0;31m---------------------------------------------------------------------------\u001B[0m",
      "\u001B[0;31mNameError\u001B[0m                                 Traceback (most recent call last)",
      "\u001B[0;32m/tmp/ipykernel_8666/2573114360.py\u001B[0m in \u001B[0;36m<module>\u001B[0;34m\u001B[0m\n\u001B[1;32m      1\u001B[0m \u001B[0mname\u001B[0m \u001B[0;34m=\u001B[0m \u001B[0;36m3\u001B[0m\u001B[0;34m\u001B[0m\u001B[0;34m\u001B[0m\u001B[0m\n\u001B[0;32m----> 2\u001B[0;31m \u001B[0mName\u001B[0m\u001B[0;34m\u001B[0m\u001B[0;34m\u001B[0m\u001B[0m\n\u001B[0m",
      "\u001B[0;31mNameError\u001B[0m: name 'Name' is not defined"
     ]
    }
   ],
   "source": [
    "name = 3\n",
    "Name"
   ]
  },
  {
   "cell_type": "markdown",
   "id": "2aaf4708",
   "metadata": {},
   "source": [
    "### Длинная арифметика"
   ]
  },
  {
   "cell_type": "code",
   "execution_count": 3,
   "id": "052ee138",
   "metadata": {},
   "outputs": [
    {
     "data": {
      "text/plain": [
       "1136745216008740499576325792598201"
      ]
     },
     "execution_count": 3,
     "metadata": {},
     "output_type": "execute_result"
    }
   ],
   "source": [
    "2021 ** 10"
   ]
  },
  {
   "cell_type": "code",
   "execution_count": 1,
   "id": "2b7b25c5",
   "metadata": {},
   "outputs": [
    {
     "data": {
      "text/plain": "46708866424"
     },
     "execution_count": 1,
     "metadata": {},
     "output_type": "execute_result"
    }
   ],
   "source": [
    "2202002*21212"
   ]
  },
  {
   "cell_type": "code",
   "execution_count": 6,
   "id": "e0247578",
   "metadata": {},
   "outputs": [
    {
     "data": {
      "text/plain": [
       "100000000000"
      ]
     },
     "execution_count": 6,
     "metadata": {},
     "output_type": "execute_result"
    }
   ],
   "source": [
    "100_000_000_000"
   ]
  },
  {
   "cell_type": "markdown",
   "id": "1a4d21f6",
   "metadata": {},
   "source": [
    "Переменная хранит данные одного из типов данных. В Python существует множество различных типов данных, которые подразделяются на категории: числа, последовательности, словари, наборы:\n",
    "\n",
    "* boolean - логическое значение True или False\n",
    "\n",
    "* int - представляет целое число, например, 1, 4, 8, 50.\n",
    "\n",
    "* float - представляет число с плавающей точкой, например, 1.2 или 34.76\n",
    "\n",
    "* complex - комплексные числа\n",
    "\n",
    "* str - строки, например \"hello\". В Python 3.x строки представляют набор символов в кодировке Unicode\n",
    "\n",
    "* bytes - последовательность чисел в диапазоне 0-255\n",
    "\n",
    "* byte array - массив байтов, аналогичен bytes с тем отличием, что может изменяться\n",
    "\n",
    "* list - список\n",
    "\n",
    "* tuple - кортеж\n",
    "\n",
    "* set - неупорядоченная коллекция уникальных объектов\n",
    "\n",
    "* frozen set - то же самое, что и set, только не может изменяться (immutable)\n",
    "\n",
    "* dict - словарь, где каждый элемент имеет ключ и значение"
   ]
  },
  {
   "cell_type": "markdown",
   "id": "dc43b92b",
   "metadata": {},
   "source": [
    "![blabla](img/type_data.png)"
   ]
  },
  {
   "cell_type": "code",
   "execution_count": 11,
   "id": "f3b4c33a",
   "metadata": {},
   "outputs": [
    {
     "data": {
      "text/plain": [
       "9788672"
      ]
     },
     "execution_count": 11,
     "metadata": {},
     "output_type": "execute_result"
    }
   ],
   "source": [
    "a = 3\n",
    "id(a)"
   ]
  },
  {
   "cell_type": "code",
   "execution_count": 5,
   "id": "d57ae315",
   "metadata": {},
   "outputs": [
    {
     "name": "stdout",
     "output_type": "stream",
     "text": [
      "False\n"
     ]
    }
   ],
   "source": []
  },
  {
   "cell_type": "code",
   "execution_count": 12,
   "id": "547cc9c3",
   "metadata": {
    "pycharm": {
     "is_executing": true
    }
   },
   "outputs": [
    {
     "data": {
      "text/plain": [
       "9788800"
      ]
     },
     "execution_count": 12,
     "metadata": {},
     "output_type": "execute_result"
    }
   ],
   "source": [
    "a = a + 4\n",
    "id(a)"
   ]
  },
  {
   "cell_type": "code",
   "execution_count": 9,
   "id": "9f97945f",
   "metadata": {},
   "outputs": [
    {
     "name": "stdout",
     "output_type": "stream",
     "text": [
      "140481672065136\n",
      "140481672060592\n",
      "helloworld\n"
     ]
    }
   ],
   "source": [
    "s = 'hello' # объявляю переменную s типа str со значением 'hello'\n",
    "print(id(s)) # вывожу id объекта в памяти\n",
    "\n",
    "s = s + 'world' # к строке s добавляю вторую строку 'world'\n",
    "print(id(s)) # вывожу id объекта в памяти\n",
    "\n",
    "print(s)"
   ]
  },
  {
   "cell_type": "code",
   "execution_count": 14,
   "id": "795f7d26",
   "metadata": {},
   "outputs": [
    {
     "name": "stdout",
     "output_type": "stream",
     "text": [
      "140481672055744\n",
      "140481672055744\n"
     ]
    },
    {
     "data": {
      "text/plain": [
       "['hello', 'red', 'reddderede', 'world']"
      ]
     },
     "execution_count": 14,
     "metadata": {},
     "output_type": "execute_result"
    }
   ],
   "source": [
    "mass = ['hello', 'red', 'reddderede'] # объявляю переменную mass типа list со значением 'hello'\n",
    "print(id(mass)) # вывожу id объекта в памяти\n",
    "\n",
    "mass.append('world') # в лист mass добавляю вторую строку 'world'\n",
    "print(id(mass)) # вывожу id объекта в памяти\n",
    "\n",
    "mass"
   ]
  },
  {
   "cell_type": "code",
   "execution_count": 17,
   "id": "c25dc442",
   "metadata": {},
   "outputs": [
    {
     "name": "stdout",
     "output_type": "stream",
     "text": [
      "['spam', 'red1']\n",
      "['spam', 'red1']\n"
     ]
    }
   ],
   "source": [
    "hell = ['hello', 'world']\n",
    "\n",
    "helll = hell  # где-то была сделана shallow копия\n",
    "\n",
    "\n",
    "hell[0] = 'spam'\n",
    "hell[1] = 'red1'\n",
    "\n",
    "print(hell)\n",
    "print(helll)"
   ]
  },
  {
   "cell_type": "code",
   "execution_count": null,
   "id": "652989c8",
   "metadata": {},
   "outputs": [],
   "source": [
    "a"
   ]
  },
  {
   "cell_type": "markdown",
   "id": "6f19ab74",
   "metadata": {},
   "source": [
    "Python является языком с динамической типизацией. Он определяет тип данных переменной исходя из значения, которое ей присвоено. Так, при присвоении строки в двойных или одинарных кавычках переменная имеет тип str. При присвоении целого числа Python автоматически определяет тип переменной как int. Чтобы определить переменную как объект float, ей присваивается дробное число, в котором разделителем целой и дробной части является точка. Число с плавающей точкой можно определять в экспоненциальной записи:"
   ]
  },
  {
   "cell_type": "code",
   "execution_count": 19,
   "id": "4cabf542",
   "metadata": {},
   "outputs": [
    {
     "data": {
      "text/plain": [
       "int"
      ]
     },
     "execution_count": 19,
     "metadata": {},
     "output_type": "execute_result"
    }
   ],
   "source": [
    "a = 'str'\n",
    "\n",
    "a = 4\n",
    "\n",
    "type(a)"
   ]
  },
  {
   "cell_type": "code",
   "execution_count": 20,
   "id": "cd85e967",
   "metadata": {},
   "outputs": [],
   "source": [
    "num_int = 2                # int\n",
    "\n",
    "num_float = 2.0           # float\n",
    "\n",
    "string = \"hi\"              # str\n",
    "\n",
    "listik = [1, 3, 4]         # list\n",
    "\n",
    "num_complex = 2 + 0j       # complex\n",
    "\n",
    "setik = {2, 4, 99}         # set\n",
    "\n",
    "dictik = {'2': 2, \n",
    "          'key': 'value'}  # dict\n",
    "\n",
    "tuplik = (2, 3, 4, 5)      # tuple\n",
    "\n",
    "boolik = True              # bool"
   ]
  },
  {
   "cell_type": "code",
   "execution_count": 21,
   "id": "3def82ae",
   "metadata": {},
   "outputs": [
    {
     "name": "stdout",
     "output_type": "stream",
     "text": [
      "num_int ---> <class 'int'>\n",
      "num_float ---> <class 'float'>\n",
      "string ---> <class 'str'>\n",
      "listik ---> <class 'list'>\n",
      "num_complex ---> <class 'complex'>\n",
      "setik ---> <class 'set'>\n",
      "dictik ---> <class 'dict'>\n",
      "tuplik ---> <class 'tuple'>\n",
      "boolik ---> <class 'bool'>\n"
     ]
    }
   ],
   "source": [
    "print('num_int', '--->', type(num_int))\n",
    "print('num_float','--->', type(num_float))\n",
    "print('string', '--->', type(string))\n",
    "print('listik','--->', type(listik))\n",
    "print('num_complex','--->', type(num_complex))\n",
    "print('setik','--->', type(setik))\n",
    "print('dictik','--->', type(dictik))\n",
    "print('tuplik','--->', type(tuplik))\n",
    "print('boolik','--->', type(boolik))"
   ]
  },
  {
   "cell_type": "markdown",
   "id": "81a7eadf",
   "metadata": {},
   "source": [
    "### Cтандартный ввод/вывод."
   ]
  },
  {
   "cell_type": "code",
   "execution_count": 22,
   "id": "75401737",
   "metadata": {},
   "outputs": [
    {
     "name": "stdout",
     "output_type": "stream",
     "text": [
      "5\n",
      "Hello\n"
     ]
    }
   ],
   "source": [
    "print(2+3)\n",
    "print(\"Hello\")"
   ]
  },
  {
   "cell_type": "code",
   "execution_count": 23,
   "id": "ee6cd3f5",
   "metadata": {},
   "outputs": [
    {
     "name": "stdout",
     "output_type": "stream",
     "text": [
      "Write number: 4\n",
      "4\n"
     ]
    }
   ],
   "source": [
    "num = input('Write number: ')\n",
    "print(num)"
   ]
  },
  {
   "cell_type": "markdown",
   "id": "4d20c07d",
   "metadata": {},
   "source": [
    "## Числа и операции с целыми и вещественными числами, приведение к типам"
   ]
  },
  {
   "cell_type": "markdown",
   "id": "5dcc058e",
   "metadata": {},
   "source": [
    "### Python поддерживает все распространенные арифметические операции:"
   ]
  },
  {
   "cell_type": "code",
   "execution_count": 26,
   "id": "437e2b01",
   "metadata": {},
   "outputs": [
    {
     "name": "stdout",
     "output_type": "stream",
     "text": [
      "3\n",
      "4\n",
      "3 + 4 =  7\n"
     ]
    }
   ],
   "source": [
    "a = int(input()) # чтение двух строк str\n",
    "b = int(input())\n",
    "print(f\"{a} + {b} = \", a + b) # сложения двух строк"
   ]
  },
  {
   "cell_type": "code",
   "execution_count": 25,
   "id": "2145b945",
   "metadata": {},
   "outputs": [
    {
     "name": "stdout",
     "output_type": "stream",
     "text": [
      "3333333333333333333333333333333333333333\n"
     ]
    }
   ],
   "source": [
    "print(a * 40)"
   ]
  },
  {
   "cell_type": "markdown",
   "id": "f6de37e6",
   "metadata": {},
   "source": [
    "ой ой ой"
   ]
  },
  {
   "cell_type": "code",
   "execution_count": 34,
   "id": "9eb66629",
   "metadata": {},
   "outputs": [
    {
     "name": "stdout",
     "output_type": "stream",
     "text": [
      "4\n",
      "5\n",
      "4 + 5 =  9\n",
      "4 - 5 =  -1\n",
      "4 * 5 =  20\n",
      "4 / 5 =  0.8\n",
      "4 // 5 =  0\n",
      "4 % 5 =  4\n",
      "4 ** 5 =  1024\n"
     ]
    }
   ],
   "source": [
    "a, b = int(input()), int(input()) # чтение двух строк и приведение их к int\n",
    "\n",
    "print(f\"{a} + {b} = \", a + b)   # сложение двух целых чисел\n",
    "print(f\"{a} - {b} = \", a - b)   # разность двух целых чисел\n",
    "print(f\"{a} * {b} = \", a * b)   # произведение двух целых чисел\n",
    "print(f\"{a} / {b} = \", a / b)   # частное от деления двух целых чисел\n",
    "print(f\"{a} // {b} = \", a // b) # целочисленное деление двух целых чисел\n",
    "print(f\"{a} % {b} = \", a % b)   # деление числа a по модулю b\n",
    "print(f\"{a} ** {b} = \", a ** b) # возведение в степень"
   ]
  },
  {
   "cell_type": "markdown",
   "id": "eba2018f",
   "metadata": {},
   "source": [
    "### Арифметические операции с присвоением"
   ]
  },
  {
   "cell_type": "code",
   "execution_count": 38,
   "id": "123c43fe",
   "metadata": {},
   "outputs": [
    {
     "name": "stdout",
     "output_type": "stream",
     "text": [
      "5\n"
     ]
    }
   ],
   "source": [
    "a = 10\n",
    "a -= 5 # a = a - 5\n",
    "\n",
    "print(a)"
   ]
  },
  {
   "cell_type": "markdown",
   "id": "038ca720",
   "metadata": {},
   "source": [
    "### Представление числа"
   ]
  },
  {
   "cell_type": "code",
   "execution_count": 39,
   "id": "c0783358",
   "metadata": {},
   "outputs": [],
   "source": [
    "eight = 0o11   # 8-я система счисления\n",
    "ten = 10       # 10-я система счисления \n",
    "sixteen = 0x11 # 16-я система счисления\n",
    "binary = 0b11  # 2-я система счисления"
   ]
  },
  {
   "cell_type": "code",
   "execution_count": 40,
   "id": "03b8cf69",
   "metadata": {},
   "outputs": [
    {
     "name": "stdout",
     "output_type": "stream",
     "text": [
      "9\n"
     ]
    }
   ],
   "source": [
    "print(eight)"
   ]
  },
  {
   "cell_type": "code",
   "execution_count": 41,
   "id": "1feb78b1",
   "metadata": {},
   "outputs": [
    {
     "name": "stdout",
     "output_type": "stream",
     "text": [
      "32\n"
     ]
    }
   ],
   "source": [
    "a = 0x14\n",
    "b = 12\n",
    "\n",
    "print(a + b)"
   ]
  },
  {
   "cell_type": "code",
   "execution_count": 42,
   "id": "d99826f8",
   "metadata": {},
   "outputs": [
    {
     "name": "stdout",
     "output_type": "stream",
     "text": [
      "13 ---> in binary 0:08b \n",
      "13 ---> in hex 0:02x   \n",
      "13 ---> in octal 0:02o\n"
     ]
    }
   ],
   "source": [
    "x = 0b11    # 3\n",
    "y = 0x0a    # 10\n",
    "z = x + y   # 13\n",
    "\n",
    "print(\"%i ---> in binary 0:08b \\n%i ---> in hex 0:02x   \\n%i ---> in octal 0:02o\" % (z, z, z))"
   ]
  },
  {
   "cell_type": "markdown",
   "id": "1c6428e6",
   "metadata": {},
   "source": [
    "# Логические операции, операции сравнения."
   ]
  },
  {
   "cell_type": "markdown",
   "id": "c43aa0ff",
   "metadata": {},
   "source": [
    "Логический тип данных (булев тип, Boolean) — примитивный тип данных в информатике, принимающий два возможных значения, иногда называемых истиной (True) и ложью (False). Присутствует в подавляющем большинстве языков программирования как самостоятельная сущность или реализуется через численный тип данных. В некоторых языках программирования за значение истина полагается 1, за значение ложь — 0.\n",
    "\n",
    "Название типа Boolean получило в честь английского математика и логика Джорджа Буля, среди прочего занимавшегося вопросами математической логики в середине XIX века."
   ]
  },
  {
   "cell_type": "markdown",
   "id": "d3a8e422",
   "metadata": {},
   "source": [
    "Логические значения True (истина) и False (ложь) представляют тип данных bool. У этого типа только два возможных значения и два соответствующих литерала: True и False."
   ]
  },
  {
   "cell_type": "code",
   "execution_count": 43,
   "id": "cee79444",
   "metadata": {},
   "outputs": [
    {
     "data": {
      "text/plain": [
       "True"
      ]
     },
     "execution_count": 43,
     "metadata": {},
     "output_type": "execute_result"
    }
   ],
   "source": [
    "a = True\n",
    "a"
   ]
  },
  {
   "cell_type": "markdown",
   "id": "a44abf7f",
   "metadata": {},
   "source": [
    "Простейшие условные выражения представляют операции сравнения, которые сравнивают два значения. Python поддерживает следующие операции сравнения:\n",
    "\n",
    "* '==' ---> Возвращает True, если оба операнда равны. Иначе возвращает False.\n",
    "\n",
    "* '!=' ---> Возвращает True, если оба операнда НЕ равны. Иначе возвращает False.\n",
    "\n",
    "* '>' ---> Возвращает True, если первый операнд больше второго.\n",
    "\n",
    "* '<' ---> Возвращает True, если первый операнд меньше второго.\n",
    "\n",
    "* '>=' ---> Возвращает True, если первый операнд больше или равен второму.\n",
    "\n",
    "* '<=' ---> Возвращает True, если первый операнд меньше или равен второму.\n"
   ]
  },
  {
   "cell_type": "code",
   "execution_count": 45,
   "id": "b51ee116",
   "metadata": {},
   "outputs": [
    {
     "name": "stdout",
     "output_type": "stream",
     "text": [
      "True\n"
     ]
    }
   ],
   "source": [
    "print(3 != 4)"
   ]
  },
  {
   "cell_type": "code",
   "execution_count": null,
   "id": "a5c39453",
   "metadata": {},
   "outputs": [],
   "source": [
    "print(3 < 4)"
   ]
  },
  {
   "cell_type": "code",
   "execution_count": 46,
   "id": "f577fdd5",
   "metadata": {},
   "outputs": [
    {
     "name": "stdout",
     "output_type": "stream",
     "text": [
      "False\n",
      "True\n",
      "False\n",
      "True\n",
      "False\n"
     ]
    }
   ],
   "source": [
    "num_first = 5\n",
    "num_second = 6\n",
    "\n",
    "result = (5 == 6)       # сохраняем результат сравниея операции в переменную\n",
    "\n",
    "print(result)          # False - 5 не равно 6\n",
    "print(a != b)          # True\n",
    "print(a > b)           # False - 5 меньше 6\n",
    "print(a < b)           # True\n",
    " \n",
    "bool1 = True\n",
    "bool2 = False\n",
    "\n",
    "print(bool1 == bool2)  # False - bool1 не равно bool2"
   ]
  },
  {
   "cell_type": "code",
   "execution_count": 47,
   "id": "bb307fef",
   "metadata": {},
   "outputs": [
    {
     "data": {
      "text/plain": [
       "False"
      ]
     },
     "execution_count": 47,
     "metadata": {},
     "output_type": "execute_result"
    }
   ],
   "source": [
    "a = 4\n",
    "b = 5\n",
    "\n",
    "a is b # id(a) == id(b) \n",
    "\n",
    "\n",
    "# a == b , a == c"
   ]
  },
  {
   "cell_type": "code",
   "execution_count": null,
   "id": "84ab81a8",
   "metadata": {},
   "outputs": [],
   "source": [
    "a = int(input())\n",
    "print(10 <= a < 100) # a >= 10 and a < 100"
   ]
  },
  {
   "cell_type": "code",
   "execution_count": 49,
   "id": "5e99ac33",
   "metadata": {},
   "outputs": [
    {
     "data": {
      "text/plain": [
       "False"
      ]
     },
     "execution_count": 49,
     "metadata": {},
     "output_type": "execute_result"
    }
   ],
   "source": [
    "not (3 + 4 > 5) and (4 == 4)"
   ]
  },
  {
   "cell_type": "markdown",
   "id": "0bf6e756",
   "metadata": {},
   "source": [
    "Для создания произвольно сложных логических выражений (условий) используются три логические операции:"
   ]
  },
  {
   "cell_type": "markdown",
   "id": "18b4ecfb",
   "metadata": {},
   "source": [
    "* и (and);\n",
    "* или (or);\n",
    "* не (not)."
   ]
  },
  {
   "cell_type": "markdown",
   "id": "7a32ed2b",
   "metadata": {},
   "source": [
    "Логические операции используют операнды со значениями True и False и возвращают результат также с логическими значениями. Определённые для объектов типа bool операторы (and, or, not) известны как логические операторы и имеют общеизвестные определения:\n",
    "\n",
    "\n",
    "   * a and b даёт True, если оба операнда True, и False, если хотя бы один из них False;\n",
    "   * a or b даёт False, если оба операнда False, и True, если хотя бы один из них True;\n",
    "   * not a даёт True, если a имеет значение False, и False, если a имеет значение True.\n"
   ]
  },
  {
   "cell_type": "code",
   "execution_count": 50,
   "id": "75635cba",
   "metadata": {},
   "outputs": [
    {
     "name": "stdout",
     "output_type": "stream",
     "text": [
      "a and b is False\n",
      "a or b is True\n",
      "not a is False\n"
     ]
    }
   ],
   "source": [
    "a = True\n",
    "b = False\n",
    "\n",
    "print('a and b is', a and b)\n",
    "print('a or b is', a or b)\n",
    "print('not a is', not a)   # a or b"
   ]
  },
  {
   "cell_type": "code",
   "execution_count": null,
   "id": "45d3d99c",
   "metadata": {},
   "outputs": [],
   "source": [
    "(3+4>5) or (False)"
   ]
  },
  {
   "cell_type": "markdown",
   "id": "42b1c008",
   "metadata": {},
   "source": [
    "Если один из операндов оператора and возвращает False, то другой операнд уже не оценивается, так как оператор в любом случае возвратит False. Подобное поведение позволяет немного увеличить производительность, так как не приходится тратить ресурсы на оценку второго операнда.\n",
    "\n",
    "Аналогично если один из операндов оператора or возвращает True, то второй операнд не оценивается, так как оператор в любом случае возвратит True."
   ]
  },
  {
   "cell_type": "markdown",
   "id": "7593a66f",
   "metadata": {},
   "source": [
    "Логические значения в Python можно трактовать как числа. Значению True соответствует число 1, в то время как значению False соответствует 0. Таким образом мы можем сравнить логические значения с числами:"
   ]
  },
  {
   "cell_type": "code",
   "execution_count": 52,
   "id": "89a5cc81",
   "metadata": {},
   "outputs": [
    {
     "name": "stdout",
     "output_type": "stream",
     "text": [
      "True\n",
      "True\n"
     ]
    }
   ],
   "source": [
    "print(True == 1)\n",
    "print(False == 0)"
   ]
  },
  {
   "cell_type": "code",
   "execution_count": 55,
   "id": "93b101d5",
   "metadata": {},
   "outputs": [
    {
     "name": "stdout",
     "output_type": "stream",
     "text": [
      "3\n"
     ]
    }
   ],
   "source": [
    "a = 0b11\n",
    "print(a)"
   ]
  },
  {
   "cell_type": "code",
   "execution_count": 56,
   "id": "90c975fc",
   "metadata": {},
   "outputs": [
    {
     "name": "stdout",
     "output_type": "stream",
     "text": [
      "3\n",
      "1.0\n"
     ]
    }
   ],
   "source": [
    "print(True + True + True - False + True - True)\n",
    "print(True + (False / True) * True)"
   ]
  },
  {
   "cell_type": "markdown",
   "id": "b1b50242",
   "metadata": {},
   "source": [
    "# Условия: if, else, elif. Блоки, отступы."
   ]
  },
  {
   "cell_type": "code",
   "execution_count": 60,
   "id": "9752afbf",
   "metadata": {},
   "outputs": [
    {
     "name": "stdout",
     "output_type": "stream",
     "text": [
      "4\n",
      "3\n",
      "a больше b\n"
     ]
    }
   ],
   "source": [
    "a = int(input())\n",
    "b = int(input())\n",
    "\n",
    "if a==b:\n",
    "    print('a равно b')\n",
    "elif a > b:\n",
    "    print('a больше b')\n",
    "else:\n",
    "    print('a меньше b')"
   ]
  },
  {
   "cell_type": "code",
   "execution_count": 61,
   "id": "d292837f",
   "metadata": {},
   "outputs": [],
   "source": [
    "listik = [2, 4, 5]\n",
    "listk_none = []"
   ]
  },
  {
   "cell_type": "code",
   "execution_count": null,
   "id": "1bd19548",
   "metadata": {},
   "outputs": [],
   "source": [
    "if ...{\n",
    "    \n",
    "}"
   ]
  },
  {
   "cell_type": "code",
   "execution_count": 63,
   "id": "a6a2e2d6",
   "metadata": {},
   "outputs": [
    {
     "name": "stdout",
     "output_type": "stream",
     "text": [
      "not\n"
     ]
    }
   ],
   "source": [
    "if listk_none: \n",
    "    print('exist')\n",
    "else:\n",
    "    print('not')"
   ]
  },
  {
   "cell_type": "markdown",
   "id": "16fefcae",
   "metadata": {},
   "source": [
    "* https://docs.python.org/3/ - официальная документация.\n",
    "\n",
    "* https://csrgxtu.github.io/2015/03/20/Writing-Mathematic-Fomulars-in-Markdown/ - справочник по разметке Markdown\n",
    "\n",
    "* https://py.checkio.org/ - платформа для изучения Python, все очень не напряжно и приятно, можно залететь посмотреть при желании, можем устроить соревнования, но я посмотрел что вы там все большие, может не подойти для вас)\n",
    "\n",
    "* https://leetcode.com/explore/ - топовая платформа на которой можно качать скил в алгоритмах и т.д).\n",
    "\n",
    "* https://www.codewars.com/ - тоже неплохо сделано и классно выглядит, тут на вкус можно что-то выбрать, либо это, либо предыдущие).\n",
    "\n",
    "* http://www.pythonchallenge.com - суперская штука, только там по хардкору, в очень интересном формате).\n",
    "\n",
    "* http://euler.jakumo.org/ - проект эйлера, тоже очень круто можно качатся, крутые задачки.\n",
    "\n",
    "* https://www.w3schools.com/python/ - очень крутой интерактивный учебник, не только для Python).\n",
    "* https://www.w3schools.com/python/exercise.asp - задачки для закрепления изученного материала."
   ]
  },
  {
   "cell_type": "code",
   "execution_count": 7,
   "id": "39d894fb",
   "metadata": {},
   "outputs": [
    {
     "name": "stdout",
     "output_type": "stream",
     "text": [
      "str\n"
     ]
    }
   ],
   "source": [
    "a = 'str'\n",
    "\n",
    "\n",
    "print(a)"
   ]
  },
  {
   "cell_type": "code",
   "execution_count": 10,
   "id": "7fef6957",
   "metadata": {},
   "outputs": [
    {
     "name": "stdout",
     "output_type": "stream",
     "text": [
      "True\n"
     ]
    }
   ],
   "source": [
    "a = 5 == 5 and 7 > 6 or False\n",
    "\n",
    "print(a)"
   ]
  },
  {
   "cell_type": "code",
   "execution_count": 9,
   "id": "01170a54",
   "metadata": {},
   "outputs": [
    {
     "data": {
      "text/plain": [
       "True"
      ]
     },
     "execution_count": 9,
     "metadata": {},
     "output_type": "execute_result"
    }
   ],
   "source": [
    "a"
   ]
  },
  {
   "cell_type": "code",
   "execution_count": null,
   "id": "e8a75214",
   "metadata": {},
   "outputs": [],
   "source": [
    "a = 2135521\n",
    "\n",
    "if a % 2 == 0:\n",
    "    print(\"Число четное\")\n",
    "else:\n",
    "    print(\"Число нечетное\")"
   ]
  },
  {
   "cell_type": "code",
   "execution_count": 1,
   "id": "4f65e14d",
   "metadata": {},
   "outputs": [
    {
     "name": "stdout",
     "output_type": "stream",
     "text": [
      "3\n"
     ]
    }
   ],
   "source": [
    "x = True\n",
    "y = False\n",
    "z = False\n",
    "\n",
    "if not x or y:\n",
    "    print(1)\n",
    "elif not x or not y and z:\n",
    "    print(2)\n",
    "elif not x or y or not y and x:\n",
    "    print(3)\n",
    "else:\n",
    "    print(4)"
   ]
  },
  {
   "cell_type": "code",
   "execution_count": 3,
   "id": "c79d0f09",
   "metadata": {},
   "outputs": [],
   "source": [
    "a = map(int, '234523')"
   ]
  },
  {
   "cell_type": "code",
   "execution_count": 13,
   "id": "a3630253",
   "metadata": {},
   "outputs": [
    {
     "data": {
      "text/plain": [
       "False"
      ]
     },
     "execution_count": 13,
     "metadata": {},
     "output_type": "execute_result"
    }
   ],
   "source": [
    "1534236469 >= 2**31 - 1"
   ]
  }
 ],
 "metadata": {
  "kernelspec": {
   "display_name": "Python 3 (ipykernel)",
   "language": "python",
   "name": "python3"
  },
  "language_info": {
   "codemirror_mode": {
    "name": "ipython",
    "version": 3
   },
   "file_extension": ".py",
   "mimetype": "text/x-python",
   "name": "python",
   "nbconvert_exporter": "python",
   "pygments_lexer": "ipython3",
   "version": "3.8.10"
  }
 },
 "nbformat": 4,
 "nbformat_minor": 5
}