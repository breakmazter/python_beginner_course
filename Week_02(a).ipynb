{
 "cells": [
  {
   "cell_type": "markdown",
   "id": "b046ee3e",
   "metadata": {},
   "source": [
    "# Задачки"
   ]
  },
  {
   "cell_type": "markdown",
   "id": "42a49f39",
   "metadata": {},
   "source": [
    "### Defanging an IP Address"
   ]
  },
  {
   "cell_type": "markdown",
   "id": "e26c4429",
   "metadata": {},
   "source": [
    "Учитывая действительный IP-адрес (IPv4), верните заблокированную версию этого IP-адреса.\n",
    "\n",
    "Удаленный IP-адрес заменяет каждую точку \".\" на \"[.]\"."
   ]
  },
  {
   "cell_type": "code",
   "execution_count": 3,
   "id": "6f0f6f7c",
   "metadata": {},
   "outputs": [
    {
     "data": {
      "text/plain": [
       "['192', '168', '0', '1']"
      ]
     },
     "execution_count": 3,
     "metadata": {},
     "output_type": "execute_result"
    }
   ],
   "source": [
    "'192.168.0.1'.split('.')"
   ]
  },
  {
   "cell_type": "code",
   "execution_count": 1,
   "id": "bbd3646a",
   "metadata": {},
   "outputs": [],
   "source": [
    "def defangIPaddr(address: str) -> str:\n",
    "    return address.replace('.', '[.]')"
   ]
  },
  {
   "cell_type": "code",
   "execution_count": 4,
   "id": "0e22e1f3",
   "metadata": {},
   "outputs": [],
   "source": [
    "def defangIPaddr(address: str) -> str:\n",
    "    return \"[.]\".join(address.split(\".\"))"
   ]
  },
  {
   "cell_type": "markdown",
   "id": "f727de0f",
   "metadata": {},
   "source": [
    "### String Matching in an Array"
   ]
  },
  {
   "cell_type": "markdown",
   "id": "194e8d5f",
   "metadata": {},
   "source": [
    "Учитывая массив строк words. Вернуть все строки в words которые явлеются подстрокой другого слова в любом порядке. "
   ]
  },
  {
   "cell_type": "code",
   "execution_count": 1,
   "id": "29e8ad8b",
   "metadata": {},
   "outputs": [
    {
     "data": {
      "text/plain": "['word', 'words', 'wor', 'words']"
     },
     "execution_count": 1,
     "metadata": {},
     "output_type": "execute_result"
    }
   ],
   "source": [
    "['word', 'words', 'wor', 'words']"
   ]
  },
  {
   "cell_type": "code",
   "execution_count": 6,
   "id": "4507a62e",
   "metadata": {},
   "outputs": [],
   "source": [
    "def main(words: list):\n",
    "    answer = []\n",
    "    for i in words:\n",
    "        for j in words:\n",
    "            if (i in j) and (i != j) and (i not in answer):\n",
    "                answer.append(i)\n",
    "    return answer"
   ]
  },
  {
   "cell_type": "code",
   "execution_count": 32,
   "id": "696b9738",
   "metadata": {},
   "outputs": [],
   "source": [
    "def main(words: list):\n",
    "    arr = ' '.join(words)\n",
    "    subStr = [i for i in words if arr.count(i) >= 2]\n",
    "        \n",
    "    return subStr"
   ]
  },
  {
   "cell_type": "code",
   "execution_count": 24,
   "id": "a26b9a81",
   "metadata": {},
   "outputs": [],
   "source": [
    "a = {}\n",
    "a = dict()\n",
    "\n",
    "a = {'tea': ['ate', 'eat']}"
   ]
  },
  {
   "cell_type": "markdown",
   "id": "f2bfa967",
   "metadata": {},
   "source": [
    "### Group Anagrams"
   ]
  },
  {
   "cell_type": "markdown",
   "id": "5841d570",
   "metadata": {},
   "source": [
    "Учитывая массив строк strs, сгруппируйте анаграммы вместе. Вы можете вернуть ответ в любом порядке .\n",
    "\n",
    "Анаграмма - это слово или фраза формируется путем перестановки букв другого слова или фразы, используя все оригинальные буквы ровно один раз. "
   ]
  },
  {
   "cell_type": "markdown",
   "id": "ab8914df",
   "metadata": {},
   "source": [
    "Например: [\"eat\",\"tea\",\"tan\",\"ate\",\"nat\",\"bat\"] ---> [[\"bat\"],[\"nat\",\"tan\"],[\"ate\",\"eat\",\"tea\"]]"
   ]
  },
  {
   "cell_type": "code",
   "execution_count": null,
   "id": "7eabbd31",
   "metadata": {},
   "outputs": [],
   "source": [
    "def groupAnagrams(strs: list):\n",
    "        groups = dict()\n",
    "        \n",
    "        for s in strs:\n",
    "            key = ''.join(sorted(s))\n",
    "            if key not in groups:\n",
    "                groups[key] = [s]\n",
    "            else:\n",
    "                groups[key].append(s)\n",
    "                \n",
    "        return groups.values()"
   ]
  },
  {
   "cell_type": "markdown",
   "id": "a8df5fd5",
   "metadata": {},
   "source": [
    "### Matrix Diagonal Sum"
   ]
  },
  {
   "cell_type": "markdown",
   "id": "cdfc8c4a",
   "metadata": {},
   "source": [
    "Учитывая квадратную матрицу mat, верните сумму диагоналей матрицы.\n",
    "\n",
    "Включите только сумму всех элементов на основной диагонали и всех элементов на дополнительной диагонали, которые не являются частью основной диагонали. "
   ]
  },
  {
   "cell_type": "code",
   "execution_count": null,
   "id": "6ee44a7f",
   "metadata": {},
   "outputs": [],
   "source": [
    "[[2, 3, 4], i + j == n - 1\n",
    " [2, 3, 4],\n",
    " [2, 3, 4]]"
   ]
  },
  {
   "cell_type": "code",
   "execution_count": null,
   "id": "75b243cb",
   "metadata": {},
   "outputs": [],
   "source": [
    "def diag_sum(mat):\n",
    "    nrows = len(mat)\n",
    "    ncols = len(mat[0])\n",
    "    \n",
    "    output = 0\n",
    "    \n",
    "    for i in range(nrows):\n",
    "        for j in range(ncols):\n",
    "            \n",
    "            if i==j or i+j == nrows-1:\n",
    "                output+=mat[i][j]\n",
    "                \n",
    "    return output"
   ]
  },
  {
   "cell_type": "markdown",
   "id": "cce6d655",
   "metadata": {},
   "source": [
    "### Palindrome Number "
   ]
  },
  {
   "cell_type": "markdown",
   "id": "748bccd1",
   "metadata": {},
   "source": [
    "Дано целое число x, вернуть истину, если x является целым числом палиндрома.\n",
    "\n",
    "Целое число является палиндромом, когда оно читается так же, как вперед и назад. Например, 121 - это палиндром, а 123 - нет."
   ]
  },
  {
   "cell_type": "code",
   "execution_count": 39,
   "id": "eee77c80",
   "metadata": {},
   "outputs": [],
   "source": [
    "def is_palindrom(num: int) -> bool:\n",
    "    string_num = str(num) # '121' \n",
    "    \n",
    "    mass_num = list(string_num) # ['1', '2', '1']\n",
    "    mass_num.reverse() # ['1', '2', '1']\n",
    "    \n",
    "    mass_num = ''.join(mass_num) # '121'\n",
    "    \n",
    "    \n",
    "    return string_num == mass_num"
   ]
  },
  {
   "cell_type": "code",
   "execution_count": 63,
   "id": "b8db6974",
   "metadata": {},
   "outputs": [],
   "source": [
    "def is_palindrom(num: int) -> bool:\n",
    "    return str(num) == str(num)[::-1]"
   ]
  },
  {
   "cell_type": "code",
   "execution_count": 64,
   "id": "05bcdd60",
   "metadata": {},
   "outputs": [
    {
     "data": {
      "text/plain": [
       "True"
      ]
     },
     "execution_count": 64,
     "metadata": {},
     "output_type": "execute_result"
    }
   ],
   "source": [
    "is_palindrom(123321)"
   ]
  },
  {
   "cell_type": "code",
   "execution_count": 86,
   "id": "d7a7d06f",
   "metadata": {},
   "outputs": [],
   "source": [
    "a = map(int, ['43', '1', '4'])"
   ]
  },
  {
   "cell_type": "markdown",
   "id": "4f3b0dfd",
   "metadata": {},
   "source": [
    "### Valid Palindrome"
   ]
  },
  {
   "cell_type": "markdown",
   "id": "75309dbf",
   "metadata": {},
   "source": [
    "Для данной строки s определите, является ли она палиндромом, учитывая только буквенно-цифровые символы и игнорируя регистры.\n",
    "\n",
    "Например: s = \"A man, a plan, a canal: Panama\" ---> s = 'amanaplanacanalpanama'"
   ]
  },
  {
   "cell_type": "code",
   "execution_count": null,
   "id": "5d2bd5a3",
   "metadata": {},
   "outputs": [],
   "source": [
    "## your code here"
   ]
  },
  {
   "cell_type": "markdown",
   "id": "428ffe55",
   "metadata": {},
   "source": [
    "### Longest Common Prefix"
   ]
  },
  {
   "cell_type": "markdown",
   "id": "8492d308",
   "metadata": {},
   "source": [
    "Напишите функцию для поиска самой длинной строки общего префикса среди массива строк.\n",
    "\n",
    "Если общего префикса нет, вернуть пустую строку \"\""
   ]
  },
  {
   "cell_type": "code",
   "execution_count": 92,
   "id": "686d9542",
   "metadata": {},
   "outputs": [],
   "source": [
    "a = ['word', 'words', 'wor', 'wo']"
   ]
  },
  {
   "cell_type": "code",
   "execution_count": 96,
   "id": "e77b1754",
   "metadata": {},
   "outputs": [],
   "source": [
    "def longestCommonPrefix(strs: list) -> str:\n",
    "        min_len = min([len(s) for s in strs])\n",
    "        \n",
    "        res = \"\"\n",
    "        \n",
    "        for i in range(min_len):\n",
    "            curr = strs[0][i]\n",
    "            \n",
    "            for s in strs:\n",
    "                if curr != s[i]:\n",
    "                    return res\n",
    "                \n",
    "            res += curr\n",
    "            \n",
    "        return res"
   ]
  },
  {
   "cell_type": "code",
   "execution_count": 97,
   "id": "62dd54b8",
   "metadata": {},
   "outputs": [
    {
     "data": {
      "text/plain": [
       "'wor'"
      ]
     },
     "execution_count": 97,
     "metadata": {},
     "output_type": "execute_result"
    }
   ],
   "source": [
    "longestCommonPrefix(a)"
   ]
  },
  {
   "cell_type": "markdown",
   "id": "a603056f",
   "metadata": {},
   "source": [
    "### Missing Number"
   ]
  },
  {
   "cell_type": "markdown",
   "id": "2dcd32bc",
   "metadata": {},
   "source": [
    "Учитывая массив numsсодержащий nразличные числа в диапазоне [0, n], вернуть единственное число в диапазоне, которое отсутствует в массиве. "
   ]
  },
  {
   "cell_type": "code",
   "execution_count": null,
   "id": "ebd10b3a",
   "metadata": {},
   "outputs": [],
   "source": [
    "def missingNumber(self, nums: List[int]) -> int:\n",
    "    \n",
    "    num_sum = sum(nums)\n",
    "    n = len(num_sum)\n",
    "    \n",
    "    total = (0 + n) * (n + 1) // 2\n",
    "    \n",
    "    return total - num_sum"
   ]
  },
  {
   "cell_type": "markdown",
   "id": "a25cdbbd",
   "metadata": {},
   "source": [
    "### Single Number"
   ]
  },
  {
   "cell_type": "markdown",
   "id": "f7f0ffeb",
   "metadata": {},
   "source": [
    "Учитывая непустой массив целых чисел nums, каждый элемент появляется дважды, кроме одного. Найди ту единственную. "
   ]
  },
  {
   "cell_type": "code",
   "execution_count": null,
   "id": "ea6b704f",
   "metadata": {},
   "outputs": [],
   "source": [
    "def single_num(nums: list):\n",
    "    s=list(set(nums))\n",
    "    for i in s:\n",
    "        if nums.count(i)==1:\n",
    "            return i"
   ]
  },
  {
   "cell_type": "code",
   "execution_count": 52,
   "id": "edce2621",
   "metadata": {},
   "outputs": [],
   "source": [
    "def main(nums):\n",
    "    a = 0\n",
    "    \n",
    "    for i in nums:\n",
    "        a ^= i\n",
    "        print(a)\n",
    "        \n",
    "    return a"
   ]
  },
  {
   "cell_type": "markdown",
   "id": "62ccbeb9",
   "metadata": {},
   "source": [
    "### Third Maximum Number"
   ]
  },
  {
   "cell_type": "markdown",
   "id": "3f9e4fb3",
   "metadata": {},
   "source": [
    "Данный целочисленный массив nums, верните третье максимальное число в этом массиве . Если третьего максимума не существует, верните максимальное число. "
   ]
  },
  {
   "cell_type": "code",
   "execution_count": 106,
   "id": "1e14187d",
   "metadata": {},
   "outputs": [],
   "source": [
    "def thirdMax(nums) -> int:\n",
    "        uniq_nums = list(set(nums))\n",
    "        \n",
    "        if len(uniq_nums) < 3:\n",
    "            return max(uniq_nums)\n",
    "        \n",
    "        uniq_nums.sort()\n",
    "        \n",
    "        uniq_nums = uniq_nums[::-1][2]\n",
    "        \n",
    "        return uniq_nums"
   ]
  },
  {
   "cell_type": "markdown",
   "id": "8b0502a3",
   "metadata": {},
   "source": [
    "### Sorting the Sentence"
   ]
  },
  {
   "cell_type": "markdown",
   "id": "717f4b77",
   "metadata": {},
   "source": [
    "Привести в порядок предложение таким образом:\n",
    "    \"sentence4 a3 is2 This1\" ---> 'This is a sentence'"
   ]
  },
  {
   "cell_type": "code",
   "execution_count": null,
   "id": "d961dcbc",
   "metadata": {},
   "outputs": [],
   "source": [
    "def sortSentence(self, s: str) -> str:\n",
    "    arr = s.split()\n",
    "    ans = arr.copy()\n",
    "        \n",
    "    for i in range(len(arr)):\n",
    "        idx = int(arr[i][-1])\n",
    "        ans[idx-1] = arr[i][0:len(arr[i])-1]\n",
    "        \n",
    "    return \" \".join(ans)"
   ]
  },
  {
   "cell_type": "markdown",
   "id": "52ec3862",
   "metadata": {},
   "source": [
    "### The k Strongest Values in an Array"
   ]
  },
  {
   "cell_type": "markdown",
   "id": "ac926208",
   "metadata": {},
   "source": [
    "Учитывая массив целых чисел arr и целое число k. Верните список сильнейших k значения в массиве.\n",
    "\n",
    "Ценность arr[i]считается сильнее, чем значение arr[j] если |arr[i] - m| > |arr[j] - m|, где m - это медиана массива.\n",
    "Если |arr[i] - m| == |arr[j] - m|, тогда arr[i] считается сильнее, чем arr[j], если arr[i] > arr[j].\n",
    "\n",
    "Медиана - это среднее значение в упорядоченном целочисленном списке. Более формально, если длина списка равна n, медиана - это элемент в позиции ((n - 1) // 2) в отсортированном списке (с индексом 0) .\n",
    "\n",
    "   * Для arr = [6, -3, 7, 2, 11], n = 5 а медиана получается путем сортировки массива arr = [-3, 2, 6, 7, 11] и медиана arr[m], где m = ((5 - 1) // 2) = 2. Медиана 6.\n",
    "   * Для arr = [-7, 22, 17, 3], n = 4 а медиана получается путем сортировки массива arr = [-7, 3, 17, 22] и медиана arr[m], где m = ((4 - 1) // 2) = 1. Медиана 3."
   ]
  },
  {
   "cell_type": "code",
   "execution_count": null,
   "id": "fdd5bbf8",
   "metadata": {},
   "outputs": [],
   "source": [
    "## your code here"
   ]
  }
 ],
 "metadata": {
  "kernelspec": {
   "display_name": "Python 3 (ipykernel)",
   "language": "python",
   "name": "python3"
  },
  "language_info": {
   "codemirror_mode": {
    "name": "ipython",
    "version": 3
   },
   "file_extension": ".py",
   "mimetype": "text/x-python",
   "name": "python",
   "nbconvert_exporter": "python",
   "pygments_lexer": "ipython3",
   "version": "3.8.10"
  }
 },
 "nbformat": 4,
 "nbformat_minor": 5
}